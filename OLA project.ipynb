{
 "cells": [
  {
   "cell_type": "code",
   "execution_count": 1,
   "id": "69e2fb02",
   "metadata": {
    "cell_id": "8e5cf8c1-8da1-46b7-80fe-28dad2991f1b",
    "deepnote_cell_height": 166,
    "deepnote_cell_type": "code",
    "deepnote_to_be_reexecuted": false,
    "execution_millis": 0,
    "execution_start": 1663329619161,
    "source_hash": "38d0d593"
   },
   "outputs": [],
   "source": [
    "import numpy as np\n",
    "import matplotlib.pyplot as plt\n",
    "import random\n",
    "import seaborn as sns\n",
    "import pandas as pd\n",
    "from random import choice"
   ]
  },
  {
   "cell_type": "markdown",
   "id": "4af8cfea",
   "metadata": {
    "cell_id": "00001-f8a82bef-eb3d-42d1-817a-c5992749ef47",
    "deepnote_cell_type": "text-cell-h1",
    "formattedRanges": [],
    "is_collapsed": false,
    "tags": []
   },
   "source": [
    "# Pricing Project"
   ]
  },
  {
   "cell_type": "markdown",
   "id": "5900a9f2",
   "metadata": {
    "cell_id": "846223e5-c16e-410f-ba29-420a875333ea",
    "deepnote_cell_type": "text-cell-p",
    "formattedRanges": [],
    "is_collapsed": false,
    "tags": []
   },
   "source": [
    "\n",
    "#### Team members:\n",
    "* Davide Beretta \n",
    "* Francesco Landini\n",
    "* Federico Bucci\n",
    "* Simen Salomonsen\n",
    "* Siv Cartland Hansen"
   ]
  },
  {
   "cell_type": "markdown",
   "id": "313be83d",
   "metadata": {
    "cell_id": "00002-52db2cef-5a6f-42be-b75b-cf105438f22c",
    "deepnote_cell_type": "text-cell-h2",
    "formattedRanges": [],
    "is_collapsed": false,
    "tags": []
   },
   "source": [
    "## Step 1: Environment"
   ]
  },
  {
   "cell_type": "markdown",
   "id": "6b570867",
   "metadata": {
    "cell_id": "00003-1fe885bb-052c-4a9e-a3f2-69621f852131",
    "deepnote_cell_height": 74.78125,
    "deepnote_cell_type": "markdown"
   },
   "source": [
    "First the environment is set up to model the website interactions with the customers. For each customer type different random variables are specified.  \n",
    "\n",
    "To demonstrate how it works, different tests and examples will be shown along the way. "
   ]
  },
  {
   "cell_type": "code",
   "execution_count": 175,
   "id": "ffc8b9b9",
   "metadata": {
    "cell_id": "00004-7fa61317-1454-4347-b30b-fc7a3207035d",
    "deepnote_cell_height": 1408,
    "deepnote_cell_type": "code",
    "deepnote_to_be_reexecuted": false,
    "execution_millis": 9,
    "execution_start": 1663329647759,
    "source_hash": "4d5f070d"
   },
   "outputs": [],
   "source": [
    "# Simulation of a customer visiting our products\n",
    "\n",
    "def simulate_episode(\n",
    "    init_active_node, click_probabilities, conversion_rates, n_steps_max=5\n",
    "):\n",
    "    \"\"\"\n",
    "    Takes as input\n",
    "    1. the initial active node i.e. the primary product the customer has landed on (and bought!)\n",
    "    2. the probability matrix of a user clicking on the secondary products\n",
    "    3. the probabilies of a user bying the 5 products (conversion rates)\n",
    "    4. the max time steps, which is 5 as there are 5 products that can possibly be visited\n",
    "\n",
    "    Then returns the history of which nodes have been activated.\n",
    "\n",
    "    NB heavily inspired by the first lab from part 4 on webeep.\n",
    "\n",
    "    \"\"\"\n",
    "    # initialize\n",
    "    click_prob_matrix = click_probabilities.copy()\n",
    "    n_nodes = np.shape(click_prob_matrix)[0]\n",
    "\n",
    "    # convert initial_active_node to array of 1s and 0s\n",
    "    initial_active_nodes = np.zeros(n_nodes)\n",
    "    initial_active_nodes[init_active_node] = 1\n",
    "\n",
    "    # first row in this dataset is just the initial active nodes\n",
    "    history = np.array([initial_active_nodes])\n",
    "\n",
    "    # here we store all the activated nodes in our episode\n",
    "    active_nodes = initial_active_nodes\n",
    "\n",
    "    # nodes that have been activated in this timestep:\n",
    "    newly_active_nodes = active_nodes\n",
    "\n",
    "    # initialize time\n",
    "    t = 0\n",
    "\n",
    "    # Iterate over steps\n",
    "    # terminate once we don't have any nodes that can be activated.\n",
    "    \n",
    "    # save data regarding whether or note we make conversion\n",
    "    x = [[] for _ in range(n_nodes)]\n",
    "    x[init_active_node].append(1)\n",
    "    # save data regarding whether or not the customer clicks\n",
    "    \n",
    "    \n",
    "    while t < n_steps_max and np.sum(newly_active_nodes) > 0:\n",
    "\n",
    "        # select the rows related to the active nodes \n",
    "        p = (click_prob_matrix.T * newly_active_nodes).T\n",
    "        \n",
    "        # compute value of activated edges by sampling against click_probabilities \n",
    "        activated_edges = p > np.random.rand(p.shape[0], p.shape[1])\n",
    "        \n",
    "        # Remove from prob_matrix all the values of the prob related to the previously activated nodes\n",
    "        click_prob_matrix = click_prob_matrix * ((p != 0) == activated_edges)\n",
    "        newly_clicked_on_nodes = (np.sum(activated_edges, axis=0) > 0) * (1 - active_nodes)\n",
    "        # sample against conversion rates \n",
    "        newly_active_nodes = newly_clicked_on_nodes * conversion_rates > np.random.rand(n_nodes)\n",
    "        # check and save whether we made a conversion\n",
    "        for p in range(5):\n",
    "            if newly_clicked_on_nodes[p] == 1:\n",
    "                if newly_active_nodes[p] == 1:\n",
    "                    x[p].append(1)\n",
    "                else:\n",
    "                    x[p].append(0)\n",
    "        \n",
    "        active_nodes = np.array(active_nodes + newly_active_nodes) \n",
    "\n",
    "        history = np.concatenate((history, [newly_active_nodes]), axis=0)\n",
    "\n",
    "        t += 1\n",
    "\n",
    "    return history, x\n"
   ]
  },
  {
   "cell_type": "code",
   "execution_count": 176,
   "id": "cf914c38",
   "metadata": {
    "cell_id": "00005-1a069186-0e9d-4c40-9aba-2247f10dd5f5",
    "deepnote_cell_height": 568.75,
    "deepnote_cell_type": "code",
    "deepnote_to_be_reexecuted": false,
    "execution_millis": 34,
    "execution_start": 1663321351607,
    "source_hash": "9281a433"
   },
   "outputs": [
    {
     "name": "stdout",
     "output_type": "stream",
     "text": [
      "history:  [[1. 0. 0. 0. 0.]\n",
      " [0. 0. 0. 0. 0.]]\n",
      "x:  [[1], [0], [0], [], []]\n"
     ]
    }
   ],
   "source": [
    "# TEST\n",
    "\n",
    "# assume the customer lands on product 1 and buys it\n",
    "init_active_node = 0\n",
    "\n",
    "# random probabilities of the customer clicking on the secondary products\n",
    "click_probs = np.array(\n",
    "    [\n",
    "        [0, 1, 0.5, 0, 0],\n",
    "        [1, 0, 0, 0.5, 0],\n",
    "        [0, 0, 0, 1, 0.5],\n",
    "        [0, 1, 0.5, 0, 0],\n",
    "        [0.5, 1, 0, 0, 0],\n",
    "    ]\n",
    ")\n",
    "\n",
    "# random conversion rates for the chosen price-levels (and the relevant customer type)\n",
    "conversion_rates = [0.5, 0.4, 0.3, 0.1, 0.8]\n",
    "\n",
    "# See which nodes are activated\n",
    "his,x = simulate_episode(init_active_node, click_probs, conversion_rates)\n",
    "print(\"history: \", his)\n",
    "print(\"x: \", x) # dataset showing that given a customer clicked on the product, did we make a conversion (y/n)"
   ]
  },
  {
   "cell_type": "code",
   "execution_count": 177,
   "id": "d754505d",
   "metadata": {
    "cell_id": "00006-8cc737c0-7548-4ab8-88b2-86108fd7289b",
    "deepnote_cell_height": 3177,
    "deepnote_cell_type": "code",
    "deepnote_to_be_reexecuted": false,
    "execution_millis": 3,
    "execution_start": 1663329654844,
    "source_hash": "c09ed17c"
   },
   "outputs": [],
   "source": [
    "class Environment():\n",
    "\n",
    "    def __init__(self, \n",
    "                conversion_rates, \n",
    "                margins, \n",
    "                click_probabilities, \n",
    "                no_items_bought,\n",
    "                alpha_params,\n",
    "                N_params\n",
    "                ):\n",
    "        '''\n",
    "        Takes as input\n",
    "        1. Conversion rates for each price-level (3-dim matrix)\n",
    "        \n",
    "        2. Margins for the products at the different price-levels \n",
    "        \n",
    "        3. Probabilities of the user visiting other products (one graph for each customer type)\n",
    "        \n",
    "        4. The expected number of items a customer will buy for each customer type and product type \n",
    "           (used as input for the Poisson process)\n",
    "        \n",
    "        5. Alpha-values representing the expected fractions of the customers landing on the product pages (a1-a5) and competitor pages a0\n",
    "        \n",
    "        6. The expected daily number of potential customers (3 different types) \n",
    "           This is used to draw the daily number of customers each day \n",
    "        '''\n",
    "        \n",
    "        self.conversion_rates = conversion_rates \n",
    "        self.margins = margins \n",
    "        self.click_probabilities = click_probabilities\n",
    "        self.no_items_bought = no_items_bought\n",
    "        self.alpha_params = alpha_params\n",
    "        self.N_params = N_params\n",
    "            \n",
    "    # model interaction with learner\n",
    "    # round takes as input the chosen arms/prices and returns a stochastic reward\n",
    "    def round(self, arms, init_product, features):\n",
    "        '''\n",
    "        Arms are the indices of the chosen price-levels for each product, e.g. [0,1,1,2,4] \n",
    "        Init_product is the product the customer initially lands on \n",
    "        Features are the binary features of the customer e.g. [0,0] or [0,1]\n",
    "        '''\n",
    "        \n",
    "        # Determine the class of the user based on the features\n",
    "        # NB I have just chosen some random customer types \n",
    "        if features[0] == 0 & features[1] == 0:\n",
    "            context = 0\n",
    "        elif features[0] == 1 & features[1] == 1:\n",
    "            context = 1\n",
    "        else: context = 2\n",
    "        \n",
    "        # check if customer buys the primary product, if yes, trigger episode \n",
    "        buy = np.random.binomial(n=1,p = self.conversion_rates[context, arms[init_product], init_product])\n",
    "\n",
    "        # Rewards per product for current day\n",
    "        rew_per_prod = np.array([0 for _ in range(5)], dtype=float)\n",
    "\n",
    "        ################ the customer buys the initial primary product ################\n",
    "        if buy: \n",
    "            # get conversion rates as a vector (for these prices and this context)\n",
    "            cr = np.zeros(5)\n",
    "            for i,j in zip(arms, range(5)):\n",
    "                cr[j] = self.conversion_rates[context, i,j]\n",
    "            click_probs = self.click_probabilities[context,:,:]\n",
    "            \n",
    "            # let the customer move along the graph (stochastically)\n",
    "            history, x = simulate_episode(init_product, click_probs, cr)\n",
    "\n",
    "            # draw the number of items the customer buys\n",
    "            n_items_sold = np.zeros(5)\n",
    "            for array in history: \n",
    "                # the number of items sold follows a Poisson distribution \n",
    "                # add and subtract 1 to make sure it is not zero! \n",
    "                lambdas = self.no_items_bought[context,:]-np.ones(5)\n",
    "                n_items_sold += array*(np.random.poisson(lambdas)+np.ones(5))\n",
    "            \n",
    "            # compute reward\n",
    "            reward = 0\n",
    "            for i in range(5):\n",
    "                reward += n_items_sold[i]*self.margins[arms[i], i]\n",
    "                rew_per_prod[i] += n_items_sold[i]*self.margins[arms[i],i]\n",
    "\n",
    "        ################ does NOT buy the initial primary product ################\n",
    "        else: \n",
    "            x = [[] for _ in range(5)]\n",
    "            x[init_product].append(0)\n",
    "            history = np.zeros(5)\n",
    "            n_items_sold = np.zeros(5)\n",
    "            reward = 0\n",
    "        \n",
    "        return history, n_items_sold, reward, x, rew_per_prod\n",
    "    \n",
    "    def round_entire_day(self, arms):\n",
    "        '''\n",
    "        collects observations for a whole day - uses function defined above \n",
    "\n",
    "        Takes as input: \n",
    "        arms: The chosen price-levels e.g. [0,1,1,2,4]\n",
    "        \n",
    "        '''\n",
    "        # store whether or not we make a conversion\n",
    "        X = [[] for _ in range(5)]\n",
    "        \n",
    "        # Draw how many customers we have this day \n",
    "        Ns = np.random.poisson(self.N_params)  # type 1, 2,  3\n",
    "\n",
    "        # Draw how many of each type lands on each product page \n",
    "        #print(\"Alphas: \", self.alpha_params)\n",
    "        alpha_sampled = [np.random.dirichlet(self.alpha_params[0,:]),    # type 1\n",
    "                        np.random.dirichlet(self.alpha_params[1,:]),    # type 2\n",
    "                        np.random.dirichlet(self.alpha_params[2,:])]    # type 3\n",
    "\n",
    "        # Get observations for each type\n",
    "        context_experiments = []\n",
    "        episodes_dataset = []\n",
    "        n_items_dataset = []\n",
    "        types = [\"type1\", \"type2\", \"type3\"] \n",
    "        \n",
    "        # Record of reward per product for current day\n",
    "        sum_rew_per_prod = np.array([0 for _ in range(5)], dtype=float)\n",
    "\n",
    "        # Allocate space for saving the dataset for each feature\n",
    "        features_dataset = dict()\n",
    "        features_dataset[(0,0)] = {\"n_items\":[], \"X\":[[] for _ in range(5)],\"N_customers\":0, \"reward\":0}\n",
    "        features_dataset[(0,1)] = {\"n_items\":[], \"X\":[[] for _ in range(5)],\"N_customers\":0,\"reward\":0}\n",
    "        features_dataset[(1,0)] = {\"n_items\":[], \"X\":[[] for _ in range(5)],\"N_customers\":0,\"reward\":0}\n",
    "        features_dataset[(1,1)] = {\"n_items\":[], \"X\":[[] for _ in range(5)],\"N_customers\":0,\"reward\":0}\n",
    "        \n",
    "        for t, N, a in zip(types, Ns, alpha_sampled):\n",
    "            sum_result = [np.zeros(5), 0]\n",
    "            \n",
    "            for i in range(np.abs(N)): # Sampling based on distribution so edge-case can cause draws to be negative\n",
    "                # Draws a landing-product based on distribution of alphas\n",
    "                landing_product = np.random.choice(np.arange(6), 1, p=a)[0]\n",
    "\n",
    "                # Checks if product is one of our products\n",
    "                if(landing_product < 5):\n",
    "\n",
    "                    # The learner needs to observe the set of features for each observation (so it can learn it later)\n",
    "                    # therefore the the featurespace is defined below for each customer-type\n",
    "                    if t == \"type1\":\n",
    "                        f = (0,0)\n",
    "                    elif t == \"type2\":\n",
    "                        f = (1,1)\n",
    "                    else: \n",
    "                        random_choice = np.random.randint(0,1+1)\n",
    "                        f = [(0,1), (1,0)][random_choice] # randomly output a mixed type\n",
    "                    \n",
    "                    # Runs simulation for given customer\n",
    "                    round_his, round_items, round_rew, x, round_rew_per_prod = self.round(arms, landing_product, f)\n",
    "                    \n",
    "                    # Stores result for individual customer \n",
    "                    sum_result[0] += round_items\n",
    "                    sum_result[1] += round_rew\n",
    "                    episodes_dataset.append(round_his)\n",
    "                    X = [X[i]+x[i] for i in range(5)]\n",
    "                    n_items_dataset.append(round_items)\n",
    "                    sum_rew_per_prod += round_rew_per_prod\n",
    "                    \n",
    "                    # Store dataset for each featurecombination\n",
    "                    features_dataset[f][\"X\"] = [features_dataset[f][\"X\"][i]+x[i] for i in range(5)]\n",
    "                    features_dataset[f][\"n_items\"].append(round_items)\n",
    "                    features_dataset[f][\"N_customers\"] += 1 \n",
    "                    features_dataset[f][\"reward\"]+=round_rew\n",
    "                    \n",
    "            # Stores results from simulation for each user class\n",
    "            context_experiments.append(sum_result)\n",
    "\n",
    "        # return dataset and total reward for that day \n",
    "        total_reward = np.sum([l[1] for l in context_experiments])\n",
    "        data = context_experiments \n",
    "            \n",
    "        return data, episodes_dataset, total_reward, X, n_items_dataset, alpha_sampled, Ns, features_dataset, sum_rew_per_prod"
   ]
  },
  {
   "cell_type": "markdown",
   "id": "55d4d7a4",
   "metadata": {
    "cell_id": "00007-0821a945-19af-4175-b87b-5be8f7aff933",
    "deepnote_cell_height": 54,
    "deepnote_cell_type": "markdown"
   },
   "source": [
    "#### Initialize parameters \n",
    " "
   ]
  },
  {
   "cell_type": "code",
   "execution_count": 178,
   "id": "25d3db5d",
   "metadata": {
    "cell_id": "00008-0ade6859-38e5-4119-a13e-2181e36b97c6",
    "deepnote_cell_height": 1020.4375,
    "deepnote_cell_type": "code",
    "deepnote_to_be_reexecuted": false,
    "execution_millis": 7,
    "execution_start": 1663330946842,
    "scrolled": true,
    "source_hash": "fa670570"
   },
   "outputs": [
    {
     "name": "stdout",
     "output_type": "stream",
     "text": [
      "Dense graph for customer type 1: \n",
      " [[0.54726206 0.05408017 0.8886266  0.53418422 0.1204851 ]\n",
      " [0.27487937 0.2146715  0.42693975 0.91488572 0.08150925]\n",
      " [0.9084125  0.92451647 0.00564448 0.11782575 0.90352876]\n",
      " [0.32782782 0.23476854 0.05435945 0.01974754 0.6132851 ]\n",
      " [0.4470149  0.73118984 0.29832685 0.05715199 0.22348336]]\n",
      "\n",
      "Click probabilities for customer type 1: \n",
      " [[0.         0.05408017 0.66646995 0.         0.        ]\n",
      " [0.27487937 0.         0.         0.68616429 0.        ]\n",
      " [0.         0.         0.         0.11782575 0.67764657]\n",
      " [0.         0.23476854 0.04076958 0.         0.        ]\n",
      " [0.33526117 0.73118984 0.         0.         0.        ]]\n"
     ]
    }
   ],
   "source": [
    "# First initialize the click probabilities \n",
    "n_products = 5\n",
    "n_prices   = 4\n",
    "n_contexts = 3\n",
    "\n",
    "graph_1 = np.random.rand(n_products,n_products) # customer type 1\n",
    "graph_2 = np.random.rand(n_products,n_products) # customer type 2\n",
    "graph_3 = np.random.rand(n_products,n_products) # customer type 3\n",
    "\n",
    "graph = np.array([graph_1, graph_2, graph_3])\n",
    "print(\"Dense graph for customer type 1: \\n\", graph_1)\n",
    "\n",
    "# However only two products are shown and we already know these as well as the order (i.e. which probability to scale by lambda)\n",
    "# as I assume the company does not initially know the 3 customer types (we need to learn it from the data),\n",
    "# then I have only specified 1 matrix specifying which products are the first and second secondary products. \n",
    "lambda_ = 3/4\n",
    "\n",
    "# Fully connected graph\n",
    "primary_secondary_order = [[0,1,lambda_, 0, 0],  \n",
    "                            [1,0,0,lambda_, 0 ],\n",
    "                            [0,0,0, 1, lambda_],\n",
    "                            [0,1,lambda_, 0, 0],\n",
    "                            [lambda_,1,0, 0, 0]]\n",
    "\n",
    "### UNCOMMENT THE FOLLOWING PART TO RUN THE NOTEBOOK WITH A SPARSE GRAPH\n",
    "\"\"\" \n",
    "# Sparse graph\n",
    "primary_secondary_order = [[0,1,0, 0, 0],  \n",
    "                            [1,0,0,lambda_, 0 ],\n",
    "                            [0,0,0, 1, lambda_],\n",
    "                            [0,1,0, 0, 0],\n",
    "                            [0,0,0, 0, 0]]\n",
    "\"\"\"\n",
    "\n",
    "# The final probabilities of the customers clicking on the secondary products can then be computed: \n",
    "click_prob = graph*primary_secondary_order\n",
    "print(\"\\nClick probabilities for customer type 1: \\n\",click_prob[0,:,:] )\n"
   ]
  },
  {
   "cell_type": "code",
   "execution_count": 179,
   "id": "b0b83bb9",
   "metadata": {
    "cell_id": "00009-a197f7b6-f685-4691-83b6-3c131bbc3d9d",
    "deepnote_cell_height": 850,
    "deepnote_cell_type": "code",
    "deepnote_to_be_reexecuted": false,
    "execution_millis": 0,
    "execution_start": 1663331025025,
    "source_hash": "d896e927"
   },
   "outputs": [],
   "source": [
    "# Initialize other parameters\n",
    "\n",
    "# define conversion rates for each price-level of each product (different for each customer type)\n",
    "conversion_rates_1 = [[0.80, 0.60, 0.70, 0.40, 0.90],  # customer type 1\n",
    "                       [0.70, 0.40, 0.55, 0.30, 0.70],\n",
    "                       [0.60, 0.20, 0.40, 0.25, 0.60],\n",
    "                       [0.50, 0.10, 0.30, 0.20, 0.50]]\n",
    "conversion_rates_2 =  [[0.65, 0.60, 0.80, 0.40, 0.90],  # customer type 2\n",
    "                       [0.55, 0.40, 0.75, 0.30, 0.70],\n",
    "                       [0.45, 0.20, 0.60, 0.25, 0.60],\n",
    "                       [0.35, 0.10, 0.50, 0.20, 0.50]]\n",
    "conversion_rates_3 = [[ 0.80, 0.90, 0.70, 0.40, 0.60],  # customer type 3\n",
    "                       [0.70, 0.70, 0.55, 0.30, 0.40],\n",
    "                       [0.60, 0.60, 0.40, 0.25, 0.20],\n",
    "                       [0.50, 0.50, 0.30, 0.20, 0.10]]\n",
    "conversion_rates = np.array([conversion_rates_1, conversion_rates_2, conversion_rates_3])\n",
    "\n",
    "# define margin/profit at each price-point for each product\n",
    "margins = np.array(\n",
    "           [[2, 5, 10, 4, 5], \n",
    "           [5, 10, 14, 5, 9], \n",
    "           [8, 15, 18, 6, 13],\n",
    "           [11, 20, 22, 7, 17]])\n",
    "\n",
    "# define the average number of items a user will buy\n",
    "# Note this is a random variable independent of any other variable\n",
    "# so it is a 3x5 matrix where the rows correspond to the customer type and the columns to the products.  \n",
    "avg_items = np.array(\n",
    "                    [[10,15,2,3,4],  \n",
    "                    [8,10,2,1,2],\n",
    "                    [7,8,3,5,1]])\n",
    "\n",
    "# Every day there is a random number of potential new customers  \n",
    "# who with some probability visit either products 1-5 (a1-a5) or competitor (a0)\n",
    "alpha_params = np.array(\n",
    "                  [[0.1,0.2,0.1,0.1,0.4,0.1], \n",
    "                  [0.1,0.2,0.1,0.1,0.4,0.1],\n",
    "                  [0.1,0.2,0.1,0.1,0.4,0.1]])\n",
    "\n",
    "# Assume the mean of the daily number of customers\n",
    "N_parameters = np.array([140, # type 1\n",
    "                         150, # type 2\n",
    "                         160]) # type 3\n"
   ]
  },
  {
   "cell_type": "markdown",
   "id": "1b4f03be",
   "metadata": {
    "cell_id": "00010-7af631c6-b4ee-4ed5-bd9c-9b30a4e21c3d",
    "deepnote_cell_height": 54,
    "deepnote_cell_type": "markdown",
    "tags": []
   },
   "source": [
    "#### Set up environment"
   ]
  },
  {
   "cell_type": "code",
   "execution_count": 180,
   "id": "a557910c",
   "metadata": {
    "cell_id": "00011-f1fc732d-0cd3-44e4-8a0f-6b681e0cfa7a",
    "deepnote_cell_height": 76,
    "deepnote_cell_type": "code",
    "deepnote_to_be_reexecuted": false,
    "execution_millis": 1,
    "execution_start": 1663331028880,
    "source_hash": "17863223",
    "tags": []
   },
   "outputs": [],
   "source": [
    "env = Environment(conversion_rates, margins, click_prob, avg_items, alpha_params, N_parameters)"
   ]
  },
  {
   "cell_type": "markdown",
   "id": "e7787ebe",
   "metadata": {
    "cell_id": "00012-9d56cb48-b49e-41bd-9802-8b4482e0149b",
    "deepnote_cell_height": 54,
    "deepnote_cell_type": "markdown",
    "tags": []
   },
   "source": [
    "#### Test environment (single observation)"
   ]
  },
  {
   "cell_type": "code",
   "execution_count": 181,
   "id": "f9e2130c",
   "metadata": {
    "cell_id": "00013-e313f1f2-8737-47e3-aa22-0dcaf03b012f",
    "deepnote_cell_height": 462.3125,
    "deepnote_cell_type": "code",
    "deepnote_to_be_reexecuted": false,
    "execution_millis": 7,
    "execution_start": 1663329674136,
    "source_hash": "b9657810"
   },
   "outputs": [
    {
     "name": "stdout",
     "output_type": "stream",
     "text": [
      "History:  [0. 0. 0. 0. 0.]\n",
      "n_items_sold:  [0. 0. 0. 0. 0.]\n",
      "Total reward:  0\n",
      "Conversions dataset:  [[], [], [0], [], []]\n",
      "Reward per product: [0. 0. 0. 0. 0.]\n"
     ]
    }
   ],
   "source": [
    "# Pull an arm i.e. chose price-levels \n",
    "arms = np.array([1,1,2,1,2])\n",
    "\n",
    "# assume a customer lands on product 1 \n",
    "init_product = 2\n",
    "features = [0,1]\n",
    "\n",
    "# see if we get a reward\n",
    "history, n_items_sold, reward, x, rew_per_prod = env.round(arms, init_product, features)\n",
    "print(\"History: \", history)\n",
    "print(\"n_items_sold: \", n_items_sold)\n",
    "print(\"Total reward: \", reward)\n",
    "print(\"Conversions dataset: \", x)\n",
    "print(\"Reward per product:\", rew_per_prod)"
   ]
  },
  {
   "cell_type": "markdown",
   "id": "ff4cd4eb",
   "metadata": {
    "cell_id": "00014-e0dcba39-f384-4b7e-b7bc-e5512fc92fd7",
    "deepnote_cell_height": 54,
    "deepnote_cell_type": "markdown"
   },
   "source": [
    "#### Collect rewards and observations for all customers a given day"
   ]
  },
  {
   "cell_type": "code",
   "execution_count": 106,
   "id": "9f0c6e0a",
   "metadata": {
    "cell_id": "00015-03151b61-00a0-4ac2-8fa7-8e661ab20288",
    "deepnote_cell_height": 459.875,
    "deepnote_cell_type": "code",
    "deepnote_to_be_reexecuted": false,
    "execution_millis": 69,
    "execution_start": 1663321351850,
    "source_hash": "a9fb8c33",
    "tags": []
   },
   "outputs": [
    {
     "name": "stdout",
     "output_type": "stream",
     "text": [
      "Total reward for a day:\n",
      "  17002.0\n",
      "____________________________________________________________________________________________________\n",
      "Conversions dataset for a day: \n",
      " \n",
      "Product 1:  [1, 0, 0, 1, 1, 1, 0, 1, 0, 1, 1, 0, 1, 0, 1, 0, 0, 1, 1, 1, 1, 1, 1, 1, 0, 1, 1]\n",
      "Product 2:  [0, 1, 1, 0, 0, 0, 0, 0, 1, 0, 0, 0, 1, 1, 0, 0, 1, 0, 1, 1, 1, 0, 0, 1, 0, 0, 0, 0, 1, 1, 1, 0, 1, 0, 1, 0, 0, 0, 0, 0, 1, 0, 0, 0, 0, 0, 1, 0, 0, 0, 0, 0, 1, 1, 0, 0, 1, 0, 0, 0, 1, 0, 0, 0, 1, 1, 0, 1, 1, 1, 0, 1, 0, 0, 0, 0, 0, 0, 1, 0, 0, 0, 0, 1, 0, 1, 0, 0, 0, 1, 0, 0, 0, 1, 1, 1, 0, 0, 1, 0, 0, 1, 0, 0, 0, 0, 0, 0, 0, 0, 0, 0, 0, 0, 0, 1, 0, 1, 1, 1, 1, 1, 0, 1, 1, 0, 0, 1, 0, 0, 0, 0, 0, 1, 0, 1, 0, 0, 0, 1, 1, 1, 0, 1, 1, 0, 0, 1, 0, 1, 0, 0, 1, 0, 0, 1, 1, 0, 0, 0, 1, 0, 0, 0, 1, 0, 1, 0, 1, 1, 0, 1]\n",
      "Product 3:  [1, 1, 0, 0, 0, 1, 0, 0, 0, 1, 0]\n",
      "Product 4:  [0, 1, 0, 0, 1, 0, 1, 0, 0, 0, 0, 1]\n",
      "Product 5:  [1, 1, 1, 1, 0, 1, 1, 1, 0, 0, 1, 0, 0, 0, 0, 1, 1, 1, 1, 0, 1, 1, 1, 1, 0, 1, 1, 0, 1, 1, 0, 0, 0, 1, 1, 1, 1, 1, 1, 1, 1, 1, 1, 1, 1, 0, 0, 1, 1, 0, 1, 0, 0, 1, 0, 1, 1, 0, 0, 0, 1, 1, 1, 1, 1, 1, 1, 0, 0, 0, 1, 0, 1, 1, 1, 1, 1, 0, 0, 1, 0, 1, 1, 0, 1, 0, 0, 1, 1, 1, 1, 0, 1, 1, 1, 1, 0, 1, 1, 1, 0, 1, 1, 0, 1, 0, 0, 1, 1, 0, 1, 1, 0, 1, 0, 0, 0, 0, 1, 0, 0, 1, 1, 1, 0, 0, 1, 0, 0, 1, 0, 0, 1, 1, 1, 1, 0, 1, 1, 1, 0, 1, 1, 0, 0, 1, 1, 1, 0, 1, 1, 0, 0, 0, 1, 1, 1, 1, 1, 1, 1, 0, 1, 0, 1, 0, 1, 1, 1, 1, 1, 1, 1, 1, 1, 1, 0, 0, 1, 1, 1, 1, 1, 0, 1, 1, 1, 0, 0, 1, 0, 1, 0, 0, 0, 0, 1, 1, 0, 1, 1, 1, 1, 1, 0, 0, 1, 1, 0, 1, 1, 0, 1, 0, 1, 1, 1, 0, 0, 0, 1, 0, 1, 1, 0, 1, 0, 1, 0, 1, 0, 1, 0, 0, 1, 0, 1, 0, 1, 1, 1, 0, 1, 0, 0, 1, 1, 0, 0, 0, 1, 0, 1, 0, 1, 1, 0, 0, 0, 1, 1, 1, 1, 0, 0, 1, 0, 1, 0, 1, 0, 0, 0, 0, 0, 0, 1, 0, 0, 1, 0, 1, 1, 0, 1, 0, 0, 0, 1, 0, 1, 0, 0, 0, 0, 0, 1, 1, 1, 1, 1, 0, 0, 1, 1, 0, 0, 0, 0, 0, 0, 0, 0, 1, 1, 0, 0, 0, 0, 1, 1, 0, 0, 0, 1, 1, 0, 1, 1, 1, 0, 0, 0, 1, 1, 0, 1, 1, 0, 0, 1, 0, 1, 0, 0, 0, 0, 0, 0, 1, 0, 0, 1, 0, 1, 0, 1, 0]\n"
     ]
    }
   ],
   "source": [
    "data, episodes_dataset, total_reward, X,n_items_dataset, alpha_dataset, Ns, features_dataset, rew_per_prod = env.round_entire_day(arms)\n",
    "#print(\"episodes dataset: \\n\", episodes_dataset)\n",
    "print(\"Total reward for a day:\\n \", total_reward)\n",
    "print(\"_\"*100)\n",
    "print(\"Conversions dataset for a day: \\n \")\n",
    "print(\"Product 1: \", X[0])\n",
    "print(\"Product 2: \", X[1])\n",
    "print(\"Product 3: \", X[2])\n",
    "print(\"Product 4: \", X[3])\n",
    "print(\"Product 5: \", X[4])"
   ]
  },
  {
   "cell_type": "markdown",
   "id": "c44183db",
   "metadata": {
    "cell_id": "00016-ecef83a7-4744-48dc-806c-149495e9b160",
    "deepnote_cell_height": 288.734375,
    "deepnote_cell_type": "markdown",
    "tags": []
   },
   "source": [
    "### Monte Carlo simulation\n",
    "Use monte Carlo simulation to estimate the probability with which the other nodes activate using the landing product as the seed. \n",
    "\n",
    "The approach is: \n",
    "1. For every node $i$ assign $z_i = 0$\n",
    "2. Generate randomly a live-edge graph according to the probability of every edge\n",
    "3. For every node that is active due to the generated live-edge graph, assign $z_i = z_i + 1$\n",
    "4. Go to step 1 unless k iterations have been done\n",
    "5. For every node return $z_i/k$\n",
    "\n",
    "\n"
   ]
  },
  {
   "cell_type": "code",
   "execution_count": 107,
   "id": "a51f5138",
   "metadata": {
    "cell_id": "00018-17d3f913-cae1-4d32-b51a-2884677861c9",
    "deepnote_cell_height": 940,
    "deepnote_cell_type": "code",
    "deepnote_to_be_reexecuted": false,
    "execution_millis": 0,
    "execution_start": 1663329684897,
    "source_hash": "d80d1cf2",
    "tags": []
   },
   "outputs": [],
   "source": [
    "def generate_live_edge_graph(\n",
    "    alphas, cp, cr, n_steps_max=5\n",
    "):\n",
    "    # initialize\n",
    "    click_prob_matrix = cp.copy()\n",
    "    n_nodes = np.shape(click_prob_matrix)[0]\n",
    "\n",
    "    # get seed\n",
    "    landing_product = np.random.choice(6, p = alphas) \n",
    "    initial_active_nodes = np.zeros(n_nodes)\n",
    "    if (landing_product > 0) & (np.random.binomial(1, cr[landing_product-1])):\n",
    "        initial_active_nodes[landing_product-1] = 1\n",
    "                                       \n",
    "    # first row in this dataset is just the initial active nodes\n",
    "    nodes_activated = np.array(initial_active_nodes)\n",
    "\n",
    "    # here we store all the activated nodes in our episode\n",
    "    active_nodes = initial_active_nodes\n",
    "\n",
    "    # nodes that have been activated in this timestep:\n",
    "    newly_active_nodes = active_nodes\n",
    "\n",
    "    # initialize time\n",
    "    t = 0\n",
    "\n",
    "    # Iterate over steps\n",
    "    # terminate once we don't have any nodes that can be activated.\n",
    "    while t < n_steps_max and np.sum(newly_active_nodes) > 0:\n",
    "\n",
    "        # select the rows related to the active nodes (the products that were bought in this timestep)\n",
    "        p = (click_prob_matrix.T * newly_active_nodes).T\n",
    "\n",
    "        # compute value of activated edges by sampling\n",
    "        activated_edges = p > np.random.rand(p.shape[0], p.shape[1])\n",
    "\n",
    "        # Remove from prob_matrix all the values of the prob related to the previously activated nodes\n",
    "        click_prob_matrix = click_prob_matrix * ((p != 0) == activated_edges)\n",
    "        newly_active_nodes = (np.sum(activated_edges, axis=0) > 0) * (1 - active_nodes) * (\n",
    "            # Sampling against conversion rates as well\n",
    "            cr > np.random.rand(len(cr))\n",
    "        )\n",
    "\n",
    "        active_nodes = np.array(active_nodes + newly_active_nodes) \n",
    "\n",
    "        nodes_activated += newly_active_nodes\n",
    "\n",
    "        t += 1\n",
    "\n",
    "    return nodes_activated"
   ]
  },
  {
   "cell_type": "code",
   "execution_count": 108,
   "id": "896b2d33",
   "metadata": {
    "cell_id": "00019-046ac2a4-41a4-493e-9a9d-67d2c4ba7f03",
    "deepnote_cell_height": 382,
    "deepnote_cell_type": "code",
    "deepnote_to_be_reexecuted": false,
    "execution_millis": 1,
    "execution_start": 1663329685515,
    "source_hash": "dc8ca7ff",
    "tags": []
   },
   "outputs": [],
   "source": [
    "def monte_carlo_sim(k, cp, cr, alpha):\n",
    "    \n",
    "    # 1. For every node i assign zi = 0\n",
    "    z = np.zeros(5)\n",
    "\n",
    "    for k in range(0,k):\n",
    "        # 2. Generate randomly a live-edge graph \n",
    "        nodes_activated = generate_live_edge_graph(alpha, cp, cr)\n",
    "\n",
    "        # 3. For every node i that is activated assign zi = zi + 1\n",
    "        z += nodes_activated\n",
    "\n",
    "        # 4. repeat k times\n",
    "\n",
    "    # 5. return z_i / (k+1)\n",
    "    probs = z/(k+1)\n",
    "\n",
    "    return probs"
   ]
  },
  {
   "cell_type": "code",
   "execution_count": 109,
   "id": "22379015",
   "metadata": {
    "cell_id": "00020-745317c9-aedb-4e7c-9e3b-0c3d2d5e96f8",
    "deepnote_cell_height": 292,
    "deepnote_cell_type": "code",
    "deepnote_to_be_reexecuted": false,
    "execution_millis": 1,
    "execution_start": 1663329686418,
    "source_hash": "1806d054",
    "tags": []
   },
   "outputs": [],
   "source": [
    "# Estimate reward with sampled Conversion Rates and otherwise known parameters\n",
    "def estimate_reward_Montecarlo(k, cp, cr, margins, alpha, N, n_items):\n",
    "\n",
    "    # Get the activation probabilities \n",
    "    activation_probs = monte_carlo_sim(k, cp, cr, alpha)\n",
    "\n",
    "    # Multiply with expected number of items bought and known margin\n",
    "    profit_vector = activation_probs * margins * n_items \n",
    "    \n",
    "    # Sum over all the products and multiply with the daily number of expected customers\n",
    "    estimated_reward = np.sum(profit_vector)*N\n",
    "\n",
    "    return estimated_reward"
   ]
  },
  {
   "cell_type": "markdown",
   "id": "489f241e",
   "metadata": {
    "cell_id": "ddc421db15f54db0baf51ff7f1039e09",
    "deepnote_cell_type": "text-cell-p",
    "formattedRanges": [],
    "is_collapsed": false,
    "tags": []
   },
   "source": [
    "Calculate expected reward for test instance: "
   ]
  },
  {
   "cell_type": "code",
   "execution_count": 110,
   "id": "532e5a61",
   "metadata": {
    "cell_id": "00021-ca3bc5ad-1b21-46b8-b632-969bd9b15cc1",
    "deepnote_cell_height": 413.1875,
    "deepnote_cell_type": "code",
    "deepnote_to_be_reexecuted": false,
    "execution_millis": 427,
    "execution_start": 1663331035803,
    "source_hash": "754facbe",
    "tags": []
   },
   "outputs": [
    {
     "name": "stdout",
     "output_type": "stream",
     "text": [
      "Total estimated reward:  7482.113043478263\n"
     ]
    }
   ],
   "source": [
    "# Number of iterations to run \n",
    "k = 2300\n",
    "\n",
    "# Since data is aggregated we want the average graph for the three customers\n",
    "cr = np.average(conversion_rates,axis = 0, weights = N_parameters) \n",
    "cp = np.average(click_prob, axis = 0, weights = N_parameters) \n",
    "alpha = np.average(alpha_params, axis = 0, weights = N_parameters)  \n",
    "N = np.sum(N_parameters)\n",
    "n_items = np.average(avg_items,axis=0, weights = N_parameters) \n",
    "\n",
    "# Test price-configuration [0,0,0,0,0]\n",
    "price_config = [0,0,0,0,0]\n",
    "ms = np.choose(price_config,margins)\n",
    "# Estimated conversion rates (should be from UCB or TS) at price-configuration we are testing\n",
    "estimated_cr = [1/2,1/2,1/2,1/2,1/2]\n",
    "\n",
    "Estimated_reward = estimate_reward_Montecarlo(k, cp, estimated_cr, ms, alpha, N, n_items)\n",
    "print(\"Total estimated reward: \", Estimated_reward)"
   ]
  },
  {
   "cell_type": "markdown",
   "id": "340c6a2e",
   "metadata": {
    "cell_id": "00022-b93087ed-9be0-47cc-82bd-1b60458a845f",
    "deepnote_cell_height": 112.53125,
    "deepnote_cell_type": "markdown",
    "tags": []
   },
   "source": [
    "#### How many iterations needed in Montecarlo simulation? \n",
    "We use that with probability at least $1-\\zeta$ the estimated activation probabilty of every node is subject to an additive error of $\\pm \\epsilon n$ when the number of repetitions is $R = O(\\frac{1}{\\epsilon^2 }\\text{log}(|S|)\\text{log}(\\frac{1}{\\zeta})) $, where n is the number of nodes and S the set of seeds.  "
   ]
  },
  {
   "cell_type": "code",
   "execution_count": 111,
   "id": "825cff92",
   "metadata": {
    "cell_id": "00024-ad9c2d12-eb8d-4336-b4e6-cc59dc8b9be2",
    "deepnote_cell_height": 269.1875,
    "deepnote_cell_type": "code",
    "deepnote_to_be_reexecuted": false,
    "execution_millis": 2,
    "execution_start": 1663321352145,
    "source_hash": "840404ae",
    "tags": []
   },
   "outputs": [
    {
     "name": "stdout",
     "output_type": "stream",
     "text": [
      "Repetitions needed:  2307.2037545848702\n"
     ]
    }
   ],
   "source": [
    "n = 5      # number of nodes\n",
    "S_len = 1  # number of seeds\n",
    "\n",
    "# If we want to guarantee an additive error <= 0.15 with 95% probability\n",
    "error_target = 0.15\n",
    "eps = error_target/n\n",
    "delta = 0.05\n",
    "\n",
    "R = 1/(eps**2) * np.log(S_len+1) * np.log(1/delta)  # \n",
    "print(\"Repetitions needed: \", R)"
   ]
  },
  {
   "cell_type": "code",
   "execution_count": 112,
   "id": "d4ccd3c0",
   "metadata": {
    "cell_id": "00025-5ea91dc9-605d-4fea-a182-e567783a784a",
    "deepnote_cell_height": 844.375,
    "deepnote_cell_type": "code",
    "deepnote_output_heights": [
     null,
     448
    ],
    "deepnote_to_be_reexecuted": false,
    "execution_millis": 601,
    "execution_start": 1663324942424,
    "source_hash": "c8155a17",
    "tags": []
   },
   "outputs": [
    {
     "name": "stderr",
     "output_type": "stream",
     "text": [
      "<ipython-input-112-1fdad4050f11>:3: RuntimeWarning: divide by zero encountered in true_divide\n",
      "  eps_sq = (np.log(S_len+1) * np.log(1/delta))/R\n"
     ]
    },
    {
     "data": {
      "image/png": "[encoded data removed]",
      "text/plain": [
       "<Figure size 432x288 with 1 Axes>"
      ]
     },
     "metadata": {},
     "output_type": "display_data"
    }
   ],
   "source": [
    "# Visualize how error changes with number of iterations\n",
    "def get_error(R):\n",
    "    eps_sq = (np.log(S_len+1) * np.log(1/delta))/R \n",
    "    eps = np.sqrt(eps_sq)\n",
    "    error = eps*n\n",
    "    return error\n",
    "\n",
    "Rs = np.arange(0,25000)\n",
    "plt.plot(Rs, get_error(Rs))\n",
    "plt.ylim(0,1)\n",
    "plt.hlines(error_target,0,np.max(Rs), alpha = 0.5,linestyles = 'dashed')\n",
    "plt.xlabel(\"Iterations\")\n",
    "plt.ylabel(\"Additive error\")\n",
    "plt.show()"
   ]
  },
  {
   "cell_type": "markdown",
   "id": "48dc4eeb",
   "metadata": {
    "cell_id": "d32110c35f154fea8235a99bdbfad9bd",
    "deepnote_cell_type": "text-cell-p",
    "formattedRanges": [],
    "is_collapsed": false,
    "tags": []
   },
   "source": [
    "In the figure above, the additive error is visualised as a function of the number of iterations. As can be seen it meets the target after around 2300 iterarations. "
   ]
  },
  {
   "cell_type": "markdown",
   "id": "b5307a65",
   "metadata": {
    "cell_id": "00026-dd523584-f38e-47f2-a4ad-1f96ff246572",
    "deepnote_cell_type": "text-cell-h2",
    "formattedRanges": [],
    "is_collapsed": false,
    "tags": []
   },
   "source": [
    "## Step 2: Optimization algorithm"
   ]
  },
  {
   "cell_type": "code",
   "execution_count": 113,
   "id": "84274f2b",
   "metadata": {
    "cell_id": "00028-0ab2be5b-e9c4-4e0e-83c9-2e262a0b778f",
    "deepnote_cell_height": 1251,
    "deepnote_cell_type": "code",
    "deepnote_to_be_reexecuted": false,
    "execution_millis": 4574,
    "execution_start": 1663331043040,
    "source_hash": "1b548cfc",
    "tags": []
   },
   "outputs": [],
   "source": [
    "# Greedy algorithm that uses the monte-carlo sampler\n",
    "\n",
    "def greedy_algo(cr, k, cp, m, alpha, N, n_items):\n",
    "    '''\n",
    "    cr: conversion rates (vector of length 5)\n",
    "    k: number of montecarlo iterations\n",
    "    cp: click probabilities (5x5 matrix)\n",
    "    m: margins (4x5 matrix)\n",
    "    alpha: the fraction of customers landing on each product page (vector of length 5)\n",
    "    N: the number of customers (int)\n",
    "    n_items: the average number of items sold for each product (given the customer buys it initially) (vector of length 5)\n",
    "\n",
    "    note that all parameters are aggregated (so not for the 3 customer types but an \"aggregate\" customer type)\n",
    "    '''\n",
    "    # initial price configuration \n",
    "    price_conf = np.zeros((5),dtype = int)\n",
    "    \n",
    "    # Get conversion rates and margins at this price-point\n",
    "    cr_cur = np.choose(price_conf, cr)\n",
    "    mar_cur = np.choose(price_conf, m)\n",
    "\n",
    "    # Estimate the expected reward (the current best) \n",
    "    rew_cur = estimate_reward_Montecarlo(k, cp, cr_cur, mar_cur, alpha, N, n_items)\n",
    "    r = []\n",
    "    r.append(rew_cur)\n",
    "\n",
    "    stop = False\n",
    "    \n",
    "    while not(stop): \n",
    "\n",
    "        # Evaluate raising profit one unit\n",
    "        rews = np.zeros(5)\n",
    "        \n",
    "        for prod in range(0,5):\n",
    "\n",
    "            if price_conf[prod] < 3:\n",
    "                \n",
    "                # price conf to test\n",
    "                temp = price_conf.copy()\n",
    "                temp[prod] += 1\n",
    "\n",
    "                # Get the conversion rates and marings at this price-conf\n",
    "                cr_cur = np.choose(temp, cr)\n",
    "                mar_cur = np.choose(temp, m)\n",
    "\n",
    "                # Monte carlo simulation \n",
    "                est =  estimate_reward_Montecarlo(k,cp, cr_cur, mar_cur, alpha, N, n_items)\n",
    "                rews[prod] = est\n",
    "\n",
    "        # Check if improvement can be made\n",
    "        best_ix = np.argmax(rews)\n",
    "        if rews[best_ix] > rew_cur:\n",
    "\n",
    "            # raise price and update expected reward\n",
    "            price_conf[best_ix] += 1 \n",
    "            rew_cur = rews[best_ix]\n",
    "            r.append(rew_cur)\n",
    "\n",
    "        # Otherwise terminate\n",
    "        else: \n",
    "            stop = True\n",
    "\n",
    "    return price_conf, r\n",
    "\n",
    "price_conf, r = greedy_algo(cr, k, cp, margins, alpha, N, n_items)\n"
   ]
  },
  {
   "cell_type": "code",
   "execution_count": 114,
   "id": "187592e7",
   "metadata": {
    "cell_id": "00029-9c5c9e0e-ba19-4f2a-ba93-d95ff06a7e17",
    "deepnote_cell_height": 792.46875,
    "deepnote_cell_type": "code",
    "deepnote_output_heights": [
     null,
     454.09375
    ],
    "deepnote_to_be_reexecuted": false,
    "execution_millis": 566,
    "execution_start": 1663331047621,
    "source_hash": "554677b2",
    "tags": []
   },
   "outputs": [
    {
     "name": "stdout",
     "output_type": "stream",
     "text": [
      "Optimal price configuration:  [1 1 1 0 0]\n",
      "Expected reward at optimal price conf:  15407.043478260868\n"
     ]
    },
    {
     "data": {
      "image/png": "[encoded data removed]",
      "text/plain": [
       "<Figure size 720x360 with 1 Axes>"
      ]
     },
     "metadata": {},
     "output_type": "display_data"
    }
   ],
   "source": [
    "print(\"Optimal price configuration: \", price_conf)\n",
    "print(\"Expected reward at optimal price conf: \", r[-1])\n",
    "\n",
    "plt.figure(figsize =(10,5))\n",
    "sns.set_theme()\n",
    "sns.lineplot(data = pd.DataFrame(r), legend = False)\n",
    "plt.xlabel(\"Iteration\", fontsize = 20)\n",
    "plt.ylabel(\"Expected Cumuative Reward\", fontsize = 20)\n",
    "plt.xticks(range(0,6),fontsize = 18)\n",
    "plt.yticks(fontsize = 18)\n",
    "plt.show()"
   ]
  },
  {
   "cell_type": "markdown",
   "id": "c77b9af6",
   "metadata": {
    "cell_id": "4c5416f62af34f6c8201c27983859dc9",
    "deepnote_cell_type": "text-cell-p",
    "formattedRanges": [],
    "is_collapsed": false,
    "tags": []
   },
   "source": [
    "We can now use the greedy algorithm to find obtain an approximation of the optimal reward. This is later used to compute the regret for our learners. "
   ]
  },
  {
   "cell_type": "code",
   "execution_count": 18,
   "id": "c18243f2",
   "metadata": {
    "cell_id": "00030-5d29939f-197d-454a-a31f-18bcef3dce02",
    "deepnote_cell_height": 323.1875,
    "deepnote_cell_type": "code",
    "deepnote_to_be_reexecuted": false,
    "execution_millis": 16218,
    "execution_start": 1663331048997,
    "source_hash": "91489c2c",
    "tags": []
   },
   "outputs": [
    {
     "data": {
      "text/plain": [
       "14355.608695652176"
      ]
     },
     "execution_count": 18,
     "metadata": {},
     "output_type": "execute_result"
    }
   ],
   "source": [
    "# Find value to use as the optimal\n",
    "n_exp = 5\n",
    "MC_price_conf = []\n",
    "Exp_rewards = []\n",
    "\n",
    "for n in range(n_exp):\n",
    "    price_conf, exp_rew = greedy_algo(cr, k, cp, margins, alpha, N, n_items)\n",
    "    _, _, rew, _,_, _, _,_, _ = env.round_entire_day(price_conf)\n",
    "    MC_price_conf.append(price_conf)\n",
    "    Exp_rewards.append(exp_rew[-1])\n",
    "\n",
    "opt = np.max(Exp_rewards)\n",
    "opt"
   ]
  },
  {
   "cell_type": "markdown",
   "id": "dcd4e29d",
   "metadata": {
    "cell_id": "00032-d087c556-8ef7-40dc-bbf1-d04e11202831",
    "deepnote_cell_height": 122.78125,
    "deepnote_cell_type": "markdown"
   },
   "source": [
    "### Set-up learning parameters\n",
    "The following parameters are used to set up the experiments. They decide the time horizon we observe, the number of experiments and the number of iterations we run in the MC simulation. \n"
   ]
  },
  {
   "cell_type": "code",
   "execution_count": 115,
   "id": "e7430bbb",
   "metadata": {
    "cell_id": "00033-cb8b44a5-eeca-4fab-9507-488c8112395b",
    "deepnote_cell_height": 202,
    "deepnote_cell_type": "code",
    "deepnote_to_be_reexecuted": false,
    "execution_millis": 1,
    "execution_start": 1663332987977,
    "source_hash": "2e988cf0"
   },
   "outputs": [],
   "source": [
    "# Timehorizon\n",
    "T = 200\n",
    "# Number of experiments\n",
    "n_exp = 3\n",
    "# Monte Carlo iterations\n",
    "k = 2300\n",
    "# SW-UCB window size\n",
    "windows_size = int(T*0.15)"
   ]
  },
  {
   "cell_type": "markdown",
   "id": "aabdbccc",
   "metadata": {
    "cell_id": "00034-75de04a5-cca8-4504-ab28-55e9558803f3",
    "deepnote_cell_type": "text-cell-h2",
    "formattedRanges": [],
    "is_collapsed": false,
    "tags": []
   },
   "source": [
    "## Step 3: Optimization with uncertain conversion rates"
   ]
  },
  {
   "cell_type": "code",
   "execution_count": 116,
   "id": "47b71f2b",
   "metadata": {
    "cell_id": "00035-5ad968d4-49fe-4e06-9cb7-14aeba486b43",
    "deepnote_cell_height": 274,
    "deepnote_cell_type": "code",
    "deepnote_to_be_reexecuted": false,
    "execution_millis": 1,
    "execution_start": 1663331072795,
    "source_hash": "33a5e5b2",
    "tags": []
   },
   "outputs": [],
   "source": [
    "class learner() :\n",
    "    \n",
    "    def __init__(self):\n",
    "        self.t=0\n",
    "       \n",
    "        self.rewards = []\n",
    "        \n",
    "    def reset(self):\n",
    "        self.__init__(self.matrix_cr)\n",
    "    def act (self):\n",
    "        pass\n",
    "    "
   ]
  },
  {
   "cell_type": "markdown",
   "id": "22858e86",
   "metadata": {
    "cell_id": "ed203318b4f248baba8b6c320ca1c231",
    "deepnote_cell_height": 62,
    "deepnote_cell_type": "markdown",
    "tags": []
   },
   "source": [
    "### Thompson sampling"
   ]
  },
  {
   "cell_type": "code",
   "execution_count": 117,
   "id": "53e69899",
   "metadata": {
    "cell_id": "00036-a86a7fb3-0bec-4973-994e-0907ca353c4c",
    "deepnote_cell_height": 531,
    "deepnote_cell_type": "code",
    "deepnote_to_be_reexecuted": false,
    "execution_millis": 0,
    "execution_start": 1663321377693,
    "source_hash": "1ce93e10",
    "tags": []
   },
   "outputs": [],
   "source": [
    "class TS_Learner (learner):\n",
    "    \n",
    "    def __init__ (self,matrix_cr):\n",
    "        super().__init__()\n",
    "        self.matrix_cr=matrix_cr\n",
    "        self.beta_parameters_alpha = np.ones(np.shape(self.matrix_cr))\n",
    "        self.beta_parameters_beta= np.ones(np.shape(self.matrix_cr))\n",
    "        \n",
    "    def pull_arm(self,k,cp,m,alpha,n_items):\n",
    "        \n",
    "        beta_matrix = np.random.beta(self.beta_parameters_alpha,self.beta_parameters_beta)\n",
    "        pull_arm,_= greedy_algo(beta_matrix, k, cp, m, alpha, N, n_items)\n",
    "        #print(\"Estimated optimal price conf.: \", pull_arm)\n",
    "        \n",
    "        #pulled_arm=beta_matrix.max(axis=0)\n",
    "        \n",
    "        return pull_arm\n",
    "    \n",
    "    def update (self,pulled_arm,history):\n",
    "        self.t +=1\n",
    "\n",
    "        for i in range(len(pulled_arm)):\n",
    "            buy=sum(history[i])\n",
    "            \n",
    "            self.beta_parameters_alpha[pulled_arm[i],i]=self.beta_parameters_alpha[pulled_arm[i],i]+buy\n",
    "            self.beta_parameters_beta[pulled_arm[i],i]=self.beta_parameters_beta[pulled_arm[i],i]+len(history[i])-buy"
   ]
  },
  {
   "cell_type": "code",
   "execution_count": 22,
   "id": "041345b9",
   "metadata": {
    "cell_id": "00037-ee30ae28-9bff-4910-8604-04f3e2a020a4",
    "deepnote_cell_height": 743.375,
    "deepnote_cell_type": "code",
    "deepnote_to_be_reexecuted": false,
    "execution_millis": 636703,
    "execution_start": 1663321377694,
    "source_hash": "e89913c5",
    "tags": []
   },
   "outputs": [
    {
     "name": "stdout",
     "output_type": "stream",
     "text": [
      "Experiment:  0\n",
      "Experiment:  1\n",
      "Experiment:  2\n"
     ]
    }
   ],
   "source": [
    "import random\n",
    "\n",
    "ts_ags = TS_Learner(cr)\n",
    "\n",
    "m = margins\n",
    "\n",
    "ts_Reward = []\n",
    "ts_Regret = []\n",
    "\n",
    "for n in range(n_exp):\n",
    "    print(\"Experiment: \", n)\n",
    "    ts_ags.reset()\n",
    "    instant_regret = []\n",
    "    instant_reward = []\n",
    "        \n",
    "    for t in range (0,T):\n",
    "        pulled_arm= ts_ags.pull_arm(k,cp,m,list(alpha),n_items)\n",
    "\n",
    "        _, _,total_reward, history, _, _, _, _, _ = env.round_entire_day(pulled_arm)\n",
    "\n",
    "        ts_ags.update(pulled_arm,history)\n",
    "        \n",
    "        instant_regret.append(max(0,opt - total_reward)) # max since regret cannot be negative\n",
    "        instant_reward.append(total_reward)\n",
    "\n",
    "    cum_regret = np.cumsum(instant_regret)\n",
    "    cum_reward = np.cumsum(instant_reward)\n",
    "    ts_Regret.append(cum_regret)\n",
    "    ts_Reward.append(cum_reward)\n",
    "    \n",
    "ts_Regret = np.array(ts_Regret)\n",
    "ts_Reward = np.array(ts_Reward)"
   ]
  },
  {
   "cell_type": "code",
   "execution_count": 23,
   "id": "e8ac8291",
   "metadata": {
    "cell_id": "00038-cabbd9d6-0803-4596-b1b3-4452ed1f4a7a",
    "deepnote_cell_height": 623,
    "deepnote_cell_type": "code",
    "deepnote_output_heights": [
     441
    ],
    "deepnote_to_be_reexecuted": true,
    "execution_millis": 359,
    "execution_start": 1663319492622,
    "source_hash": "61059c1b",
    "tags": []
   },
   "outputs": [
    {
     "data": {
      "image/png": "[encoded data removed]",
      "text/plain": [
       "<Figure size 432x288 with 1 Axes>"
      ]
     },
     "metadata": {},
     "output_type": "display_data"
    }
   ],
   "source": [
    "regrets = []\n",
    "for i in range(len(ts_Regret[0]) - 1, 0, -1):\n",
    "    regrets.append(ts_Regret[1][i] - ts_Regret[1][i-1])\n",
    "plt.title('TS1 - Daily regret')\n",
    "plt.plot(regrets)\n",
    "plt.show()"
   ]
  },
  {
   "cell_type": "code",
   "execution_count": 170,
   "id": "aa3a4b7b",
   "metadata": {
    "cell_id": "00039-692d549e-768e-414c-be12-e43b961a03b2",
    "deepnote_cell_height": 682,
    "deepnote_cell_type": "code",
    "deepnote_output_heights": [
     464
    ],
    "deepnote_to_be_reexecuted": true,
    "execution_millis": 369,
    "execution_start": 1663319492986,
    "source_hash": "a97101e8",
    "tags": []
   },
   "outputs": [
    {
     "data": {
      "image/png": "[encoded data removed]",
      "text/plain": [
       "<Figure size 720x504 with 1 Axes>"
      ]
     },
     "metadata": {},
     "output_type": "display_data"
    }
   ],
   "source": [
    "plt.figure(figsize = (10,7))\n",
    "mean_Regret_ts3 = np.mean(ts_Regret,axis =0)\n",
    "std_dev_ts3 = np.std(ts_Regret, axis=0)/np.sqrt(n_exp)\n",
    "plt.plot(mean_Regret_ts3)\n",
    "plt.fill_between(range(T),mean_Regret_ts3-std_dev_ts3,mean_Regret_ts3+std_dev_ts3,alpha =0.4)\n",
    "plt.title(\"TS1 - Cumulative regret\",fontsize = 24)\n",
    "plt.ylabel(\"Regret\", fontsize = 16)\n",
    "plt.xlabel(\"Day\",fontsize = 16)\n",
    "plt.xticks(fontsize = 16)\n",
    "plt.yticks(fontsize = 16)\n",
    "plt.show()"
   ]
  },
  {
   "cell_type": "code",
   "execution_count": 25,
   "id": "d83610e0",
   "metadata": {
    "cell_id": "00040-37fd4215-7d85-4517-a71b-cd494b88ffc3",
    "deepnote_cell_height": 112,
    "deepnote_cell_type": "code",
    "deepnote_to_be_reexecuted": true,
    "execution_millis": 10,
    "execution_start": 1663238643773,
    "source_hash": "93395b8f",
    "tags": []
   },
   "outputs": [],
   "source": [
    "with open('result.txt','w') as f: \n",
    "    f.write(str(ts_Regret) + '\\n') \n",
    "    f.write(str(ts_Reward) + '\\n') "
   ]
  },
  {
   "cell_type": "code",
   "execution_count": 171,
   "id": "9aa2e612",
   "metadata": {
    "cell_id": "00041-fe44c2b6-7c67-494d-aa79-198c965049a5",
    "deepnote_cell_height": 658,
    "deepnote_cell_type": "code",
    "deepnote_output_heights": [
     458
    ],
    "deepnote_to_be_reexecuted": true,
    "execution_millis": 330,
    "execution_start": 1663319531121,
    "source_hash": "6b91d506",
    "tags": []
   },
   "outputs": [
    {
     "data": {
      "image/png": "[encoded data removed]",
      "text/plain": [
       "<Figure size 720x504 with 1 Axes>"
      ]
     },
     "metadata": {},
     "output_type": "display_data"
    }
   ],
   "source": [
    "plt.figure(figsize = (10,7))\n",
    "mean_Reward_ts3 = np.mean(ts_Reward,axis =0)\n",
    "std_dev_ts3 = np.std(ts_Reward, axis=0)/np.sqrt(n_exp)\n",
    "plt.plot(mean_Reward_ts3)\n",
    "plt.fill_between(range(T),mean_Reward_ts3-std_dev_ts3,mean_Reward_ts3+std_dev_ts3,alpha =0.4)\n",
    "plt.ylabel(\"Reward\", fontsize = 16)\n",
    "plt.xlabel(\"Day\", fontsize = 16)\n",
    "plt.xticks(fontsize = 16)\n",
    "plt.yticks(fontsize = 16)\n",
    "plt.show()"
   ]
  },
  {
   "cell_type": "markdown",
   "id": "aeb33b71",
   "metadata": {
    "cell_id": "00042-074276d3-15fc-49e8-9e98-c67f434f42ee",
    "deepnote_cell_height": 54,
    "deepnote_cell_type": "markdown"
   },
   "source": [
    "#### Calculate Average Regret and Reward "
   ]
  },
  {
   "cell_type": "code",
   "execution_count": 27,
   "id": "223370f8",
   "metadata": {
    "cell_id": "00043-0f5a2ec6-491d-4c4a-a0f3-cac45eb6e758",
    "deepnote_cell_height": 199.375,
    "deepnote_cell_type": "code",
    "deepnote_to_be_reexecuted": true,
    "execution_millis": 4,
    "execution_start": 1663319534773,
    "source_hash": "ac29dcf7"
   },
   "outputs": [
    {
     "name": "stdout",
     "output_type": "stream",
     "text": [
      "Average reward for TS-approach:  1596390.4966666666\n",
      "Average regret for TS-approach:  89061.71652173914\n"
     ]
    }
   ],
   "source": [
    "average_reward = np.mean(mean_Reward_ts3)\n",
    "average_regret = np.mean(mean_Regret_ts3)\n",
    "\n",
    "print(\"Average reward for TS-approach: \", average_reward)\n",
    "print(\"Average regret for TS-approach: \", average_regret)"
   ]
  },
  {
   "cell_type": "markdown",
   "id": "7e883048",
   "metadata": {
    "cell_id": "00044-cd3befa3-7a5b-4460-863a-6c9306dea2c9",
    "deepnote_cell_height": 62,
    "deepnote_cell_type": "markdown"
   },
   "source": [
    "### UCB"
   ]
  },
  {
   "cell_type": "code",
   "execution_count": 182,
   "id": "eec46f46",
   "metadata": {
    "cell_id": "eac9de4e71844fbabc7477f71ed6b2bc",
    "deepnote_cell_height": 657,
    "deepnote_cell_type": "code",
    "deepnote_to_be_reexecuted": false,
    "execution_millis": 11,
    "execution_start": 1663331077061,
    "source_hash": "df65fc37",
    "tags": []
   },
   "outputs": [],
   "source": [
    "# Implementation of the learner for the UCB approach\n",
    "class ucb(learner):\n",
    "    def __init__(self, matrix_cr, width_bias = 5000):\n",
    "        super().__init__()\n",
    "        self.width_bias = width_bias\n",
    "        self.matrix_cr = matrix_cr\n",
    "        self.n = np.zeros(np.shape(matrix_cr))\n",
    "\n",
    "        self.mean_rewards = np.zeros((n_products, n_prices)) #Shape is number of products, number of price levels\n",
    "        self.width_rewards = np.ones((n_products, n_prices)) * self.width_bias \n",
    "\n",
    "    def pull_arm(self, k, cp, m, alpha, n_items): # TODO: Can probably remove these inputs\n",
    "        # Get arm to pull\n",
    "        if self.t < n_prices:\n",
    "            return np.array([self.t for _ in range(n_products)])\n",
    "        return np.argmax(self.width_rewards + self.mean_rewards, axis = 1)\n",
    "\n",
    "    def update(self, arm_pulled, history, rew_per_prod):\n",
    "        self.t += 1\n",
    "\n",
    "        # Update the mean for the arms in the superarm we have pulled\n",
    "        for i in range(len(arm_pulled)):\n",
    "            # Update the mean\n",
    "            self.mean_rewards[i, arm_pulled[i]] = (self.mean_rewards[i, arm_pulled[i]]*(self.t-1) + rew_per_prod[i]) / self.t\n",
    "            # perhaps do a weighted mean? Like in part 4 where we take into account that each day has different number of customers\n",
    "\n",
    "            # Update the counter n\n",
    "            self.n[arm_pulled[i], i] += 1\n",
    "\n",
    "            n = self.n[arm_pulled[i], i]\n",
    "\n",
    "            # Update the width for ALL arms/conversion rates\n",
    "            self.width_rewards[i, arm_pulled[i]] = self.width_rewards[i, arm_pulled[i]]*np.sqrt(2*np.log(np.maximum(2, self.t))/ n)"
   ]
  },
  {
   "cell_type": "code",
   "execution_count": 183,
   "id": "2beeab7e",
   "metadata": {
    "cell_id": "00046-0eef5e30-cc79-4ca6-afd2-6ebad0a99548",
    "deepnote_cell_height": 669.5625,
    "deepnote_cell_type": "code",
    "deepnote_to_be_reexecuted": false,
    "execution_millis": 31820,
    "execution_start": 1663331077284,
    "source_hash": "cc8cfccd",
    "tags": []
   },
   "outputs": [
    {
     "name": "stdout",
     "output_type": "stream",
     "text": [
      "Experiment:  0\n",
      "Experiment:  1\n",
      "Experiment:  2\n"
     ]
    }
   ],
   "source": [
    "ucb_ags = ucb(cr)\n",
    "\n",
    "m=margins\n",
    "\n",
    "ucb_Reward3 = []\n",
    "ucb_Regret3 = []\n",
    "\n",
    "for n in range(n_exp):\n",
    "    print(\"Experiment: \", n)\n",
    "    ucb_ags.reset()\n",
    "    instant_regret = []\n",
    "    instant_reward = []\n",
    "        \n",
    "    for t in range (0,T):\n",
    "        pulled_arm = ucb_ags.pull_arm(k, cp, m, list(alpha), n_items)\n",
    "\n",
    "        _, _,total_reward, history, _, _, _, _, rew_per_prod = env.round_entire_day(pulled_arm)\n",
    "\n",
    "        ucb_ags.update(pulled_arm, history, rew_per_prod)\n",
    "        instant_regret.append(max(0,opt - total_reward))\n",
    "        instant_reward.append(total_reward)\n",
    "\n",
    "    cum_regret = np.cumsum(instant_regret)\n",
    "    cum_reward = np.cumsum(instant_reward)\n",
    "    ucb_Regret3.append(cum_regret)\n",
    "    ucb_Reward3.append(cum_reward)\n",
    "    \n",
    "ucb_Regret3 = np.array(ucb_Regret3)\n",
    "ucb_Reward3 = np.array(ucb_Reward3)\n"
   ]
  },
  {
   "cell_type": "code",
   "execution_count": 184,
   "id": "6242d7c9",
   "metadata": {
    "cell_id": "00047-d14b71d4-83fd-4b2b-b436-ad43e439b3b9",
    "deepnote_cell_height": 682,
    "deepnote_cell_type": "code",
    "deepnote_output_heights": [
     464
    ],
    "deepnote_to_be_reexecuted": false,
    "execution_millis": 322,
    "execution_start": 1663331109109,
    "source_hash": "1ea51a27",
    "tags": []
   },
   "outputs": [
    {
     "data": {
      "image/png": "[encoded data removed]",
      "text/plain": [
       "<Figure size 720x504 with 1 Axes>"
      ]
     },
     "metadata": {},
     "output_type": "display_data"
    }
   ],
   "source": [
    "plt.figure(figsize = (10,7))\n",
    "mean_Regret_ucb3 = np.mean(ucb_Regret3,axis =0)\n",
    "std_dev_ucb3 = np.std(ucb_Regret3, axis=0)/np.sqrt(n_exp)\n",
    "plt.plot(mean_Regret_ucb3)\n",
    "plt.fill_between(range(T),mean_Regret_ucb3-std_dev_ucb3,mean_Regret_ucb3+std_dev_ucb3,alpha = 0.4)\n",
    "plt.title(\"UCB - Cumulative regret\", fontsize = 20)\n",
    "plt.ylabel(\"Regret\", fontsize = 16)\n",
    "plt.xlabel(\"Day\", fontsize = 16)\n",
    "plt.xticks(fontsize = 16)\n",
    "plt.yticks(fontsize = 16)\n",
    "plt.show()"
   ]
  },
  {
   "cell_type": "code",
   "execution_count": 185,
   "id": "9fb2cac9",
   "metadata": {
    "cell_id": "00048-1fb6f189-76aa-4d87-92b7-422c3e890420",
    "deepnote_cell_height": 682,
    "deepnote_cell_type": "code",
    "deepnote_output_heights": [
     464
    ],
    "deepnote_to_be_reexecuted": false,
    "execution_millis": 256,
    "execution_start": 1663331109436,
    "source_hash": "266bbfda",
    "tags": []
   },
   "outputs": [
    {
     "data": {
      "image/png": "[encoded data removed]",
      "text/plain": [
       "<Figure size 720x504 with 1 Axes>"
      ]
     },
     "metadata": {},
     "output_type": "display_data"
    }
   ],
   "source": [
    "plt.figure(figsize = (10,7))\n",
    "mean_Reward_ucb3 = np.mean(ucb_Reward3,axis =0)\n",
    "std_dev_ucb3 = np.std(ucb_Reward3, axis=0)/np.sqrt(n_exp)\n",
    "plt.plot(mean_Reward_ucb3)\n",
    "plt.fill_between(range(T),mean_Reward_ucb3-std_dev_ucb3,mean_Reward_ucb3+std_dev_ucb3,alpha =0.4)\n",
    "plt.title(\"UCB - Cumulative reward\", fontsize = 20)\n",
    "plt.ylabel(\"Reward\", fontsize = 16)\n",
    "plt.xlabel(\"Day\", fontsize = 16)\n",
    "plt.xticks(fontsize = 16)\n",
    "plt.yticks(fontsize = 16)\n",
    "plt.show()"
   ]
  },
  {
   "cell_type": "markdown",
   "id": "f6cf24f8",
   "metadata": {
    "cell_id": "3f299a61c5554ad5b19cba421e10698f",
    "deepnote_cell_height": 54,
    "deepnote_cell_type": "markdown",
    "tags": []
   },
   "source": [
    "#### Average regret and reward"
   ]
  },
  {
   "cell_type": "code",
   "execution_count": 32,
   "id": "0c14bc2b",
   "metadata": {
    "cell_id": "00049-e376ce05-e17c-4bfc-827a-4098cfa0df49",
    "deepnote_cell_height": 199.375,
    "deepnote_cell_type": "code",
    "deepnote_to_be_reexecuted": false,
    "execution_millis": 0,
    "execution_start": 1663331109697,
    "source_hash": "9cfd9d92",
    "tags": []
   },
   "outputs": [
    {
     "name": "stdout",
     "output_type": "stream",
     "text": [
      "Average reward for UCB1-approach:  1436890.37\n",
      "Average regret for UCB1-approach:  150826.19710144913\n"
     ]
    }
   ],
   "source": [
    "average_reward = np.mean(mean_Reward_ucb3)\n",
    "average_regret = np.mean(mean_Regret_ucb3)\n",
    "\n",
    "print(\"Average reward for UCB1-approach: \", average_reward)\n",
    "print(\"Average regret for UCB1-approach: \", average_regret)"
   ]
  },
  {
   "cell_type": "markdown",
   "id": "ab19fad5",
   "metadata": {
    "cell_id": "00050-292d0ea2-8802-4a1d-94af-6a60186bba57",
    "deepnote_cell_type": "text-cell-h2",
    "formattedRanges": [],
    "is_collapsed": false,
    "tags": []
   },
   "source": [
    "## Step 4: Optimization with uncertain conversion rates, 𝛼-ratios, and number of items sold per product"
   ]
  },
  {
   "cell_type": "markdown",
   "id": "edfb2b75",
   "metadata": {
    "cell_id": "00051-6cdeb11d-9e6c-4c0f-b313-d5194cf86338",
    "deepnote_cell_height": 62,
    "deepnote_cell_type": "markdown"
   },
   "source": [
    "### Thompson-Sampling"
   ]
  },
  {
   "cell_type": "code",
   "execution_count": 120,
   "id": "1184e4b5",
   "metadata": {
    "cell_id": "00052-a99d7e7d-99bf-43f0-8a92-2ac28fa98626",
    "deepnote_cell_height": 981,
    "deepnote_cell_type": "code",
    "deepnote_to_be_reexecuted": true,
    "execution_millis": 3,
    "execution_start": 1663167093087,
    "source_hash": "45855013"
   },
   "outputs": [],
   "source": [
    "class TS_Learner2 (TS_Learner):\n",
    "    \n",
    "    def __init__ (self,matrix_cr):\n",
    "        super().__init__(matrix_cr)\n",
    "        \n",
    "        self.n_items_param = np.ones(np.shape(self.matrix_cr[1]))\n",
    "        self.alpha_param = np.ones(6) # update \n",
    "        self.tot_customer = 0\n",
    "        self.empiric_mean = 0\n",
    "        \n",
    "    def pull_arm(self,k,cp,m,alpha,n_items):\n",
    "        \n",
    "        beta_matrix = np.random.beta(self.beta_parameters_alpha,self.beta_parameters_beta)\n",
    "        \n",
    "        n_items_estimated = np.random.poisson(self.n_items_param)\n",
    "        alphas_estimated = np.random.dirichlet(self.alpha_param)\n",
    "        \n",
    "        pull_arm,_= greedy_algo(beta_matrix, k, cp, m, alphas_estimated, N, n_items_estimated)\n",
    "        \n",
    "        return pull_arm\n",
    "    \n",
    "    def update (self,\n",
    "                pulled_arm,\n",
    "                cr_dataset, \n",
    "                n_items_dataset,\n",
    "                alpha_dataset,\n",
    "                Ns): # number of customers (for three types)\n",
    "        \n",
    "        self.t +=1\n",
    "        self.tot_customer += np.sum(Ns)\n",
    "\n",
    "        ###### Update n_items_param ######     \n",
    "        actual_customer = np.count_nonzero(n_items_dataset, axis = 0)\n",
    "        actual_items_buy = np.sum(n_items_dataset, axis = 0)\n",
    "        self.n_items_param = (actual_items_buy* actual_customer+ self.tot_customer*self.empiric_mean)/(self.tot_customer + actual_customer)\n",
    "        self.tot_customer += actual_customer\n",
    "        self.empiric_mean = actual_items_buy\n",
    "        #self.n_items_param = np.sum(n_items_dataset, axis = 0)/np.count_nonzero(n_items_dataset, axis = 0)\n",
    "        \n",
    "        ###### Update alpha params ######\n",
    "        alpha_dataset = np.average(alpha_dataset,axis = 0, weights = Ns)\n",
    "        self.alpha_param = self.alpha_param + alpha_dataset\n",
    "        \n",
    "        ###### Update conversion rates ######\n",
    "        for i in range(len(pulled_arm)):\n",
    "            buy=sum(cr_dataset[i])\n",
    "            \n",
    "            self.beta_parameters_alpha[pulled_arm[i],i]=self.beta_parameters_alpha[pulled_arm[i],i]+buy\n",
    "            self.beta_parameters_beta[pulled_arm[i],i]=self.beta_parameters_beta[pulled_arm[i],i]+len(cr_dataset[i])-buy\n",
    "            \n",
    "            "
   ]
  },
  {
   "cell_type": "code",
   "execution_count": 34,
   "id": "6d94738d",
   "metadata": {
    "cell_id": "00053-ed7d2b93-5ff5-48f6-b3a1-6aae4ebce16c",
    "deepnote_cell_height": 675,
    "deepnote_cell_type": "code",
    "deepnote_to_be_reexecuted": true,
    "execution_millis": 9935,
    "execution_start": 1663167095755,
    "output_cleared": true,
    "scrolled": true,
    "source_hash": "10d0c0a4"
   },
   "outputs": [
    {
     "name": "stdout",
     "output_type": "stream",
     "text": [
      "Experiment:  0\n",
      "Experiment:  1\n",
      "Experiment:  2\n"
     ]
    }
   ],
   "source": [
    "\n",
    "ts_ags = TS_Learner2(cr)\n",
    "\n",
    "m=margins\n",
    "\n",
    "ts_rewards_per_experiment=[]\n",
    "\n",
    "ts4_Reward = []\n",
    "ts4_Regret = []\n",
    "\n",
    "for n in range(n_exp):\n",
    "    print(\"Experiment: \", n)\n",
    "    ts_ags.reset()\n",
    "    instant_regret = []\n",
    "    instant_reward = []\n",
    "        \n",
    "    for t in range (0,T):\n",
    "        pulled_arm = ts_ags.pull_arm(k,cp,m,list(alpha),n_items)\n",
    "        _, _, total_reward, cr_dataset, n_items_dataset, alphas_dataset, Ns, _, _ = env.round_entire_day(pulled_arm)\n",
    "\n",
    "        ts_ags.update(pulled_arm,cr_dataset, n_items_dataset, alphas_dataset, Ns)\n",
    "        instant_regret.append(max(0,opt - total_reward)) # max since regret cannot be negative\n",
    "        instant_reward.append(total_reward)\n",
    "\n",
    "    cum_regret = np.cumsum(instant_regret)\n",
    "    cum_reward = np.cumsum(instant_reward)\n",
    "    ts4_Regret.append(cum_regret)\n",
    "    ts4_Reward.append(cum_reward)\n",
    "    \n",
    "ts4_Regret = np.array(ts4_Regret)\n",
    "ts4_Reward = np.array(ts4_Reward)\n",
    "\n",
    "\n"
   ]
  },
  {
   "cell_type": "code",
   "execution_count": 186,
   "id": "e852c060",
   "metadata": {
    "cell_id": "00054-4a0fe283-fc2f-4926-bc4b-5844ce1f9793",
    "deepnote_cell_height": 184,
    "deepnote_cell_type": "code",
    "deepnote_to_be_reexecuted": true,
    "execution_millis": 986,
    "execution_start": 1663167116863,
    "output_cleared": true,
    "source_hash": "3bd1fd07"
   },
   "outputs": [
    {
     "data": {
      "image/png": "[encoded data removed]",
      "text/plain": [
       "<Figure size 720x504 with 1 Axes>"
      ]
     },
     "metadata": {},
     "output_type": "display_data"
    }
   ],
   "source": [
    "plt.figure(figsize = (10,7))\n",
    "mean_Regret_ts4 = np.mean(ts4_Regret,axis =0)\n",
    "std_dev_ts4 = np.std(ts4_Regret, axis=0)/np.sqrt(n_exp)\n",
    "plt.plot(mean_Regret_ts4)\n",
    "plt.fill_between(range(T),mean_Regret_ts4-std_dev_ts4,mean_Regret_ts4+std_dev_ts4,alpha =0.4)\n",
    "plt.ylabel(\"Regret\", fontsize = 16)\n",
    "plt.xlabel(\"Day\", fontsize = 16)\n",
    "plt.xticks(fontsize = 16)\n",
    "plt.yticks(fontsize = 16)\n",
    "plt.show()"
   ]
  },
  {
   "cell_type": "code",
   "execution_count": 187,
   "id": "edcf22e5",
   "metadata": {
    "cell_id": "00055-259ae6b3-16bb-4ca4-a99c-99c9b94b1bce",
    "deepnote_cell_height": 184,
    "deepnote_cell_type": "code",
    "deepnote_to_be_reexecuted": true,
    "execution_millis": 3,
    "execution_start": 1657815155531,
    "source_hash": "a0734b83",
    "tags": []
   },
   "outputs": [
    {
     "data": {
      "image/png": "[encoded data removed]",
      "text/plain": [
       "<Figure size 720x504 with 1 Axes>"
      ]
     },
     "metadata": {},
     "output_type": "display_data"
    }
   ],
   "source": [
    "plt.figure(figsize = (10,7))\n",
    "mean_Reward_ts4 = np.mean(ts4_Reward,axis =0)\n",
    "std_dev_ts4 = np.std(ts4_Reward, axis=0)/np.sqrt(n_exp)\n",
    "plt.plot(mean_Reward_ts4)\n",
    "plt.fill_between(range(T),mean_Reward_ts4-std_dev_ts4,mean_Reward_ts4+std_dev_ts4,alpha =0.4)\n",
    "plt.ylabel(\"Reward\", fontsize = 16)\n",
    "plt.xlabel(\"Day\", fontsize = 16)\n",
    "plt.xticks(fontsize = 16)\n",
    "plt.yticks(fontsize = 16)\n",
    "plt.show()"
   ]
  },
  {
   "cell_type": "markdown",
   "id": "d5697d0e",
   "metadata": {
    "cell_id": "0d45e1be16cc4f7bb030dab130619f5f",
    "deepnote_cell_type": "text-cell-p",
    "formattedRanges": [],
    "is_collapsed": false,
    "tags": []
   },
   "source": [
    "#### Average regret and reward"
   ]
  },
  {
   "cell_type": "code",
   "execution_count": 37,
   "id": "2bf9044f",
   "metadata": {
    "cell_id": "00057-f99542ed-65cf-4af5-aa9e-d0d4dfb0ae19",
    "deepnote_cell_height": 148,
    "deepnote_cell_type": "code",
    "deepnote_to_be_reexecuted": true,
    "source_hash": "df2163cf"
   },
   "outputs": [
    {
     "name": "stdout",
     "output_type": "stream",
     "text": [
      "Average reward for TS-approach:  1546730.195\n",
      "Average regret for TS-approach:  105259.4742753623\n"
     ]
    }
   ],
   "source": [
    "average_reward = np.mean(mean_Reward_ts4)\n",
    "average_regret = np.mean(mean_Regret_ts4)\n",
    "\n",
    "print(\"Average reward for TS-approach: \", average_reward)\n",
    "print(\"Average regret for TS-approach: \", average_regret)"
   ]
  },
  {
   "cell_type": "markdown",
   "id": "28ac0b5b",
   "metadata": {
    "cell_id": "00058-7e71ce80-b14f-41eb-94e8-36a71b3003dd",
    "deepnote_cell_height": 145.171875,
    "deepnote_cell_type": "markdown"
   },
   "source": [
    "### UCB\n",
    "As the UCB approach used in step 3 optimizes with respect to the reward and only the reward for each price level for each product, no adaptions need to be made to the learner when the alpha-ratios and number of items sold per product is no longer known apriori. Consequentially, the performance of the algorithm is also expected to be the same in the new setting. "
   ]
  },
  {
   "cell_type": "markdown",
   "id": "b897f50f",
   "metadata": {
    "cell_id": "00062-62e152e1-4bc2-4fd1-8d85-20a25fa3208a",
    "deepnote_cell_type": "text-cell-h2",
    "formattedRanges": [],
    "is_collapsed": false,
    "tags": []
   },
   "source": [
    "## Step 5: Optimization with uncertain graph weights"
   ]
  },
  {
   "cell_type": "markdown",
   "id": "42e33cbf",
   "metadata": {
    "cell_id": "075cb95d9eca4d788668dd673fc3702f",
    "deepnote_cell_height": 62,
    "deepnote_cell_type": "markdown",
    "tags": []
   },
   "source": [
    "### Thompson-Sampling"
   ]
  },
  {
   "cell_type": "code",
   "execution_count": 121,
   "id": "a21405bd",
   "metadata": {
    "cell_id": "00063-2791042c-20b1-405e-a747-0e514f44ead1",
    "deepnote_cell_height": 1102,
    "deepnote_cell_type": "code",
    "deepnote_to_be_reexecuted": true,
    "execution_millis": 1,
    "execution_start": 1663167133298,
    "source_hash": "8f3c7049",
    "tags": []
   },
   "outputs": [],
   "source": [
    "class TS_Learner5 (learner):\n",
    "    \n",
    "    def __init__ (self,matrix_cp):\n",
    "        super().__init__()\n",
    "        self.matrix_cp = matrix_cp\n",
    "        self.beta_parameters_alpha = np.ones(np.shape(self.matrix_cp))\n",
    "        self.beta_parameters_beta= np.ones(np.shape(self.matrix_cp))\n",
    "        self.beta_matrix=np.random.beta(self.beta_parameters_alpha,self.beta_parameters_beta)\n",
    "        \n",
    "    def reset(self):\n",
    "        self.__init__(self.matrix_cp)\n",
    "        #given the dataset episodes_dataset, it is the output\n",
    "        #of the function round_entire_day of the class Enviroment.\n",
    "        #and given the numbe of product the fuction return\n",
    "        #a matrix that represent the graph matrix\n",
    "    \n",
    "    def graph_matrix_comp(n_prod, dataset):\n",
    "        #initialize the matrix with zeros\n",
    "        matrix = np.zeros([n_prod,n_prod])\n",
    "        list_customer = np.zeros(n_prod)\n",
    "        #the length represent the number of customer that land on the webpage\n",
    "        for j in range(len(dataset)): \n",
    "            #which is the product that the customer bought\n",
    "            after_buy = dataset[j].tolist()\n",
    "            # if the first element of the list is a flot\n",
    "            # this means that customer didn't buy any product\n",
    "            if  type(after_buy[0]) != float :\n",
    "                # which is the product that the customer bbuy\n",
    "                row = after_buy[0].index(1)\n",
    "                for i in range(len(after_buy)-2):\n",
    "                        col = after_buy[i+1].index(1)\n",
    "                        matrix[row][col] += 1\n",
    "                        \n",
    "        cust_matrix = []\n",
    "        for el in range(n_prod):\n",
    "            cust_matrix.append([list_customer[el] for _ in range (5) ])\n",
    "        \n",
    "        return matrix, cust_matrix\n",
    "\n",
    "\n",
    "    def pull_arm(self,k,cr,m,alpha,n_items):\n",
    "        \n",
    "        beta_matrix = np.random.beta(self.beta_parameters_alpha, self.beta_parameters_beta)\n",
    "        pull_arm,_ = greedy_algo(cr, k, beta_matrix, m, alpha, N, n_items)\n",
    "        \n",
    "        return pull_arm\n",
    "    \n",
    "    def update(self,n_prod,episodes_dataset):\n",
    "        self.t +=1\n",
    "        \n",
    "        alpha, beta = graph_matrix_comp(n_prod,episodes_dataset)\n",
    "        \n",
    "        self.beta_parameters_alpha = (self.beta_parameters_alpha+alpha)/self.t \n",
    "        self.beta_parameters_beta = (self.beta_parameters_beta+beta-alpha)/self.t \n",
    "        # Correct zero elements to ones\n",
    "                # Correct zero elements to ones\n",
    "        self.beta_parameters_beta[self.beta_parameters_beta < 1] = 1\n",
    "        self.beta_parameters_alpha[self.beta_parameters_alpha < 1] = 1"
   ]
  },
  {
   "cell_type": "code",
   "execution_count": 122,
   "id": "3a619dfa",
   "metadata": {
    "cell_id": "94a54368453c4bd08bf25bdc765ee4bb",
    "deepnote_cell_height": 454,
    "deepnote_cell_type": "code",
    "deepnote_to_be_reexecuted": true,
    "source_hash": "1f6891d5",
    "tags": []
   },
   "outputs": [],
   "source": [
    "def graph_matrix_comp(n_prod, dataset):\n",
    "    #initialize the matrix with zeros\n",
    "    matrix = np.zeros([n_prod,n_prod])\n",
    "    list_customer = np.zeros(n_prod)\n",
    "    #the length represent the number of customer that land on the webpage\n",
    "    for j in range(len(dataset)): \n",
    "        #which is the product that the customer bought\n",
    "        after_buy = dataset[j].tolist()\n",
    "        # if the first element of the list is a flot\n",
    "        # this means that customer didn't buy any product\n",
    "        if  type(after_buy[0]) != float :\n",
    "            # which is the product that the customer bbuy\n",
    "            row = after_buy[0].index(1)\n",
    "            for i in range(len(after_buy)-2):\n",
    "                    col = after_buy[i+1].index(1)\n",
    "                    matrix[row][col] += 1\n",
    "\n",
    "    cust_matrix = []\n",
    "    for el in range(n_prod):\n",
    "        cust_matrix.append([list_customer[el] for _ in range (5) ])\n",
    "\n",
    "    return matrix, cust_matrix"
   ]
  },
  {
   "cell_type": "code",
   "execution_count": 40,
   "id": "d1d97653",
   "metadata": {
    "cell_id": "00064-54cd73cd-a25b-459c-88fe-0ee684902a45",
    "deepnote_cell_height": 694.375,
    "deepnote_cell_type": "code",
    "deepnote_to_be_reexecuted": true,
    "execution_millis": 3930,
    "execution_start": 1663167141156,
    "source_hash": "c9e4d477",
    "tags": []
   },
   "outputs": [
    {
     "name": "stdout",
     "output_type": "stream",
     "text": [
      "Experiment:  0\n",
      "Experiment:  1\n",
      "Experiment:  2\n"
     ]
    }
   ],
   "source": [
    "ts_ags = TS_Learner5(cp)\n",
    "\n",
    "ts5_Reward = []\n",
    "ts5_Regret = []\n",
    "n_prod = 5\n",
    "\n",
    "for n in range(0,n_exp):\n",
    "    print(\"Experiment: \", n)\n",
    "    ts_ags.reset()\n",
    "    instant_regret = []\n",
    "    instant_reward = []\n",
    "        \n",
    "    for t in range(0,T):\n",
    "        pulled_arm = ts_ags.pull_arm(k,cr,m,list(alpha),n_items)\n",
    "        \n",
    "        _, episodes_dataset, total_reward, cr_dataset, n_items_dataset, alphas_dataset, Ns, _, _ = env.round_entire_day(pulled_arm)\n",
    "\n",
    "        ts_ags.update(n_prod,episodes_dataset)\n",
    "        \n",
    "        instant_regret.append(max(0,opt - total_reward)) # max since regret cannot be negative\n",
    "        instant_reward.append(total_reward)\n",
    "\n",
    "    cum_regret = np.cumsum(instant_regret)\n",
    "    cum_reward = np.cumsum(instant_reward)\n",
    "    ts5_Regret.append(cum_regret)\n",
    "    ts5_Reward.append(cum_reward)\n",
    "    \n",
    "ts5_Regret = np.array(ts5_Regret)\n",
    "ts5_Reward = np.array(ts5_Reward)"
   ]
  },
  {
   "cell_type": "code",
   "execution_count": 41,
   "id": "e9fd94ff",
   "metadata": {
    "cell_id": "00066-b516884a-6eca-4cc2-9860-e6fffdffb612",
    "deepnote_cell_height": 112,
    "deepnote_cell_type": "code",
    "deepnote_to_be_reexecuted": true,
    "source_hash": "161639d0",
    "tags": []
   },
   "outputs": [],
   "source": [
    "with open('result.txt','w') as f: \n",
    "    f.write(str(ts_Regret) + '\\n') \n",
    "    f.write(str(ts_Reward) + '\\n')"
   ]
  },
  {
   "cell_type": "code",
   "execution_count": 188,
   "id": "4a1cab76",
   "metadata": {
    "cell_id": "00068-6c98d391-7538-4208-bdc0-52d8cd972173",
    "deepnote_cell_height": 184,
    "deepnote_cell_type": "code",
    "deepnote_to_be_reexecuted": true,
    "source_hash": "81491821",
    "tags": []
   },
   "outputs": [
    {
     "data": {
      "image/png": "[encoded data removed]",
      "text/plain": [
       "<Figure size 720x504 with 1 Axes>"
      ]
     },
     "metadata": {},
     "output_type": "display_data"
    }
   ],
   "source": [
    "plt.figure(figsize = (10,7))\n",
    "mean_Regret_ts5 = np.mean(ts5_Regret,axis =0)\n",
    "std_dev_ts5 = np.std(ts5_Regret, axis=0)/np.sqrt(n_exp)\n",
    "plt.plot(mean_Regret_ts5)\n",
    "plt.fill_between(range(T),mean_Regret_ts5-std_dev_ts5,mean_Regret_ts5+std_dev_ts5,alpha =0.4)\n",
    "plt.ylabel(\"Regret\", fontsize = 16)\n",
    "plt.xlabel(\"Day\", fontsize = 16)\n",
    "plt.xticks(fontsize = 16)\n",
    "plt.yticks(fontsize = 16)\n",
    "plt.show()"
   ]
  },
  {
   "cell_type": "code",
   "execution_count": 189,
   "id": "c6d92771",
   "metadata": {
    "cell_id": "00069-998681a9-0d09-4b73-9d88-8174dfa28d90",
    "deepnote_cell_height": 202,
    "deepnote_cell_type": "code",
    "deepnote_to_be_reexecuted": true,
    "source_hash": "d2adca2",
    "tags": []
   },
   "outputs": [
    {
     "data": {
      "image/png": "[encoded data removed]",
      "text/plain": [
       "<Figure size 720x504 with 1 Axes>"
      ]
     },
     "metadata": {},
     "output_type": "display_data"
    }
   ],
   "source": [
    "plt.figure(figsize = (10,7))\n",
    "mean_Reward_ts5 = np.mean(ts5_Reward,axis =0)\n",
    "std_dev_ts5 = np.std(ts5_Reward, axis=0)/np.sqrt(n_exp)\n",
    "plt.plot(mean_Reward_ts5)\n",
    "plt.fill_between(range(T),mean_Reward_ts5 - std_dev_ts5,mean_Reward_ts5 + std_dev_ts5,alpha = 0.4)\n",
    "plt.title(\"TS5 - Cumulative reward\", fontsize = 20)\n",
    "plt.ylabel(\"Reward\",fontsize = 16)\n",
    "plt.xlabel(\"Day\",fontsize = 16)\n",
    "plt.xticks(fontsize = 16)\n",
    "plt.yticks(fontsize = 16)\n",
    "plt.show()"
   ]
  },
  {
   "cell_type": "markdown",
   "id": "883cf6e4",
   "metadata": {
    "cell_id": "00070-e618961a-fdaa-4b27-b214-579cebbdaccd",
    "deepnote_cell_height": 54,
    "deepnote_cell_type": "markdown"
   },
   "source": [
    "#### Average regret and reward"
   ]
  },
  {
   "cell_type": "code",
   "execution_count": 44,
   "id": "6a65d2dc",
   "metadata": {
    "cell_id": "00071-c0bd311e-90ab-4ef3-aef6-d28bcb642517",
    "deepnote_cell_height": 148,
    "deepnote_cell_type": "code",
    "deepnote_to_be_reexecuted": true,
    "source_hash": "5d0b5a63"
   },
   "outputs": [
    {
     "name": "stdout",
     "output_type": "stream",
     "text": [
      "Average reward for TS5-approach:  1565903.0883333334\n",
      "Average regret for TS5-approach:  82177.30934782613\n"
     ]
    }
   ],
   "source": [
    "average_reward = np.mean(mean_Reward_ts5)\n",
    "average_regret = np.mean(mean_Regret_ts5)\n",
    "\n",
    "print(\"Average reward for TS5-approach: \", average_reward)\n",
    "print(\"Average regret for TS5-approach: \", average_regret)"
   ]
  },
  {
   "cell_type": "markdown",
   "id": "7f397c0e",
   "metadata": {
    "cell_id": "00072-7c21f518-9dcf-4e80-a250-ba881c66bbb0",
    "deepnote_cell_height": 122.78125,
    "deepnote_cell_type": "markdown"
   },
   "source": [
    "### UCB\n",
    "The same logic applies here as the one presented in step 4 with regards to the performance of the UCB1-learner in a setting where the graph weights are also masked for it."
   ]
  },
  {
   "cell_type": "markdown",
   "id": "7a28132f",
   "metadata": {
    "cell_id": "75e10005705b41a8aa1d0d4b5d52321c",
    "deepnote_cell_height": 70,
    "deepnote_cell_type": "markdown",
    "tags": []
   },
   "source": [
    "## Step 6: Non-stationary demand curve"
   ]
  },
  {
   "cell_type": "markdown",
   "id": "459ea57e",
   "metadata": {
    "cell_id": "250777034dd44b53bf702c86c7638cb4",
    "deepnote_cell_height": 122.78125,
    "deepnote_cell_type": "markdown",
    "tags": []
   },
   "source": [
    "### Sliding Window UCB\n",
    "To handle a dynamic environment, a sliding window approach has been adopted for the UCB learner, which works by limiting the dataset in which the learner calculates its reward estimates on to a given size $\\tau$. "
   ]
  },
  {
   "cell_type": "code",
   "execution_count": 123,
   "id": "7dededdf",
   "metadata": {
    "cell_id": "00078-0fd26282-6e65-4697-86b8-4995228c23b5",
    "deepnote_cell_height": 1138,
    "deepnote_cell_type": "code",
    "deepnote_to_be_reexecuted": false,
    "execution_millis": 1,
    "execution_start": 1663331290213,
    "output_cleared": true,
    "source_hash": "69abc91d",
    "tags": []
   },
   "outputs": [],
   "source": [
    "# Sliding window UCB learner\n",
    "class SW_UCB(ucb):\n",
    "    def __init__(self, matrix_cr, window_size):\n",
    "        super().__init__(matrix_cr)\n",
    "        self.window_size = window_size  # tau\n",
    "\n",
    "        # Reward and simulation data\n",
    "        self.data = []\n",
    "        self.current_data = None\n",
    "\n",
    "        # Arms pulled history\n",
    "        self.pulled_arms = []\n",
    "        self.current_pulled_arms = None\n",
    "\n",
    "    def pull_arm(self, k, cp, m, alpha, n_items):\n",
    "        return super().pull_arm(k, cp, m, alpha, n_items)\n",
    "\n",
    "    def reset(self):\n",
    "        self.__init__(self.matrix_cr, self.window_size)\n",
    "\n",
    "    def update(self, arm_pulled, history, rew_per_prod):\n",
    "        self.t += 1\n",
    "\n",
    "        # Recording pulled arms\n",
    "        self.pulled_arms.append(arm_pulled)\n",
    "\n",
    "        # Recording rewards for each product given price level\n",
    "        current_obs = np.zeros((n_products, n_prices))\n",
    "        for i in range(len(arm_pulled)):\n",
    "            current_obs[i, arm_pulled[i]] = rew_per_prod[i]\n",
    "        self.data.append(current_obs)\n",
    "\n",
    "        # Fetching the data for the current window\n",
    "        self.current_data = np.array(self.data[\n",
    "            np.maximum(0, len(self.data) - self.window_size) :\n",
    "        ])\n",
    "        self.current_pulled_arms = np.array(self.pulled_arms[\n",
    "            np.maximum(0, len(self.data) - self.window_size) :\n",
    "        ])\n",
    "\n",
    "\n",
    "        # Update the mean for the arms in the superarm we have pulled\n",
    "        for i in range(len(arm_pulled)):\n",
    "            # Update the mean\n",
    "            temp = self.current_data[:, i, arm_pulled[i]]\n",
    "            if len(temp[np.nonzero(temp)]):\n",
    "                self.mean_rewards[i, arm_pulled[i]] = np.average(temp[np.nonzero(temp)])\n",
    "\n",
    "        # Update the width for rewards in the superarm we have pulled\n",
    "        for i in range(len(arm_pulled)):\n",
    "            # Count number of times arm has been pulled in current window\n",
    "            n = (\n",
    "                np.sum(np.array(self.current_pulled_arms)[:, i] == arm_pulled[i]) - 1\n",
    "            )  # -1 to account for the current pull\n",
    "\n",
    "            # Update width for the values of the current window\n",
    "            self.width_rewards[i, arm_pulled[i]] = self.width_rewards[\n",
    "                i, arm_pulled[i]\n",
    "            ] * np.sqrt(np.log(np.maximum(self.t, 2)) / np.maximum(1, n))\n"
   ]
  },
  {
   "cell_type": "markdown",
   "id": "f38123db",
   "metadata": {
    "cell_id": "bc970e1393d145ecb87bcace828c3fce",
    "deepnote_cell_height": 62,
    "deepnote_cell_type": "markdown",
    "tags": []
   },
   "source": [
    "### Change Detection UCB"
   ]
  },
  {
   "cell_type": "code",
   "execution_count": 124,
   "id": "8fad144e",
   "metadata": {
    "cell_id": "00079-69b150ed-41fe-464a-ae88-99428644a7ad",
    "deepnote_cell_height": 711,
    "deepnote_cell_type": "code",
    "deepnote_to_be_reexecuted": true,
    "execution_millis": 4,
    "execution_start": 1663316058571,
    "source_hash": "e13c7c68",
    "tags": []
   },
   "outputs": [],
   "source": [
    "class ChangeDetector:\n",
    "    def __init__(self, M, eps, h):\n",
    "        self.M = M #number of tuning samples\n",
    "        self.eps = eps\n",
    "        self.h = h #threshold\n",
    "        \n",
    "        self.t = 0 #time\n",
    "        self.reference = 0\n",
    "        self.g_plus = 0\n",
    "        self.g_minus = 0\n",
    "    \n",
    "    def detect(self, reward, i): #we have to understand what is sample\n",
    "        self.t += 1\n",
    "        \n",
    "        #for the first M samples we tune the reference value of the detector\n",
    "        if self.t <= self.M:\n",
    "            self.reference += reward/self.M\n",
    "                \n",
    "            return 0\n",
    "        \n",
    "        #from M+1th sample we can detect some changes\n",
    "        else: \n",
    "            s_plus = (reward - self.reference) - self.eps\n",
    "            s_minus = -(reward - self.reference) - self.eps\n",
    "\n",
    "            self.g_minus = max(0, self.g_minus + s_minus)\n",
    "            self.g_plus = max(0, self.g_plus + s_plus)\n",
    "\n",
    "            #we return 1 only if the new sample is greater than the reference by a value greater than the threshold\n",
    "            return self.g_plus > self.h or self.g_minus > self.h\n",
    "\n",
    "    def reset(self):\n",
    "        self.t = 0\n",
    "        self.reference = 0\n",
    "        self.g_minus = 0\n",
    "        self.g_plus = 0"
   ]
  },
  {
   "cell_type": "code",
   "execution_count": 125,
   "id": "39da6732",
   "metadata": {
    "cell_id": "5653d9d5a9c74f36b7acdb3f2ea7df1b",
    "deepnote_cell_height": 760,
    "deepnote_cell_type": "code",
    "deepnote_to_be_reexecuted": true,
    "execution_millis": 4,
    "execution_start": 1663316063138,
    "source_hash": "d39d178a",
    "tags": []
   },
   "outputs": [],
   "source": [
    "class CD_UCB(ucb):\n",
    "\n",
    "    def __init__(self, matrix_cr, M, eps, h):\n",
    "        super().__init__(matrix_cr)\n",
    "\n",
    "        self.change_detector = [ChangeDetector(M,eps,h) for _ in self.mean_rewards.reshape(-1)]\n",
    "        \n",
    "        self.detections = [[] for _ in self.mean_rewards.reshape(-1)]\n",
    "        self.valid_rewards = [[] for _ in self.mean_rewards.reshape(-1)]\n",
    "    \n",
    "    def pull_arm(self, k, cp, m, alpha, n_items):\n",
    "        return super().pull_arm(k, cp, m, alpha, n_items)\n",
    "\n",
    "    def reset(self):\n",
    "        self.__init__(self.matrix_cr, 50, 100, 10000)\n",
    "\n",
    "    def update(self, arm_pulled, history, rew_per_prod):\n",
    "        self.t += 1\n",
    "\n",
    "        for i in range(len(arm_pulled)):\n",
    "\n",
    "            arm = np.ravel_multi_index([i, arm_pulled[i]], np.shape(self.mean_rewards))\n",
    "        \n",
    "            if self.change_detector[arm].detect(rew_per_prod[i], i):\n",
    "                self.detections[arm].append(self.t)\n",
    "                self.valid_rewards[arm] = []\n",
    "                self.change_detector[arm].reset\n",
    "\n",
    "            self.valid_rewards[arm].append(rew_per_prod[i])\n",
    "\n",
    "            self.mean_rewards[i, arm_pulled[i]] = np.mean(self.valid_rewards[arm])\n",
    "\n",
    "            if len(self.valid_rewards[arm]) > 0:\n",
    "                n=len(self.valid_rewards[arm])\n",
    "                self.width_rewards[i, arm_pulled[i]] = min(np.sqrt(2*np.log(self.t)/n),1)\n",
    "            \n",
    "            else:\n",
    "                self.width_rewards[i, arm_pulled[i]] = 1 * 10000 #TODO: Check this\n"
   ]
  },
  {
   "cell_type": "markdown",
   "id": "8d8d4667",
   "metadata": {
    "cell_id": "00081-068e3aea-5b2a-49b1-978b-e3fb0b5e1bb1",
    "deepnote_cell_height": 62,
    "deepnote_cell_type": "markdown",
    "tags": []
   },
   "source": [
    "### Implementation of non-stationary environment"
   ]
  },
  {
   "cell_type": "code",
   "execution_count": 126,
   "id": "567753b1",
   "metadata": {
    "cell_id": "00082-290db7aa-910f-4629-b452-c9dcfc653fdd",
    "deepnote_cell_height": 729,
    "deepnote_cell_type": "code",
    "deepnote_to_be_reexecuted": false,
    "execution_millis": 5,
    "execution_start": 1663331297306,
    "source_hash": "81cde29c",
    "tags": []
   },
   "outputs": [],
   "source": [
    "# extend environment to have an abrupt change\n",
    "class NonstatEnvironment(Environment):\n",
    "\n",
    "    def __init__(self,\n",
    "                env,\n",
    "                conversion_rates_mult,\n",
    "                phase_len,\n",
    "                ):\n",
    "        '''\n",
    "        Takes as input\n",
    "\n",
    "        1. conversion_rates_mult - matrix similar to conversion rates in original environment \n",
    "           with an extra dimension containing the cr for each phase of the nonstationary environment\n",
    "        \n",
    "        2. phase_len - Length of each phase for the conversion rates (e.g. phase_len = 30 if the length of the phases should be for 30 days)\n",
    "        '''\n",
    "        super().__init__(\n",
    "            conversion_rates=conversion_rates_mult[0],\n",
    "            margins = env.margins,\n",
    "            click_probabilities = env.click_probabilities,\n",
    "            no_items_bought= env.no_items_bought,\n",
    "            alpha_params=env.alpha_params,\n",
    "            N_params=env.N_params,\n",
    "            )\n",
    "        self.conversion_rates_mult = conversion_rates_mult \n",
    "        self.t = 0\n",
    "        self.phase_len = phase_len\n",
    "    \n",
    "    def dynamic_round_entire_day(self, arms): \n",
    "        # Updates self.conversion_rates if it has entered a new phase, and increments the day by one\n",
    "        self.conversion_rates = self.conversion_rates_mult[(self.t // self.phase_len) % len(self.conversion_rates_mult)]\n",
    "        self.t += 1\n",
    "        \n",
    "        # return the regular function of the environment\n",
    "        return self.round_entire_day(arms)\n",
    "\n"
   ]
  },
  {
   "cell_type": "code",
   "execution_count": 127,
   "id": "e6163d56",
   "metadata": {
    "cell_id": "00084-b9e43e9d-fac7-4f36-b2fa-6e3c901a0573",
    "deepnote_cell_height": 112,
    "deepnote_cell_type": "code",
    "deepnote_to_be_reexecuted": false,
    "execution_millis": 0,
    "execution_start": 1663332227645,
    "source_hash": "6ba596ce",
    "tags": []
   },
   "outputs": [],
   "source": [
    "conversion_rates_p1 = np.array([conversion_rates_1, conversion_rates_2, conversion_rates_3])\n",
    "conversion_rates_p2 = np.array([conversion_rates_3, conversion_rates_1, conversion_rates_2])\n",
    "conversion_rates_mult = np.array([conversion_rates_p1, conversion_rates_p2])"
   ]
  },
  {
   "cell_type": "code",
   "execution_count": 128,
   "id": "013b895e",
   "metadata": {
    "cell_id": "00085-deba85f8-1b8a-44db-9075-25459cba1e4f",
    "deepnote_cell_height": 94,
    "deepnote_cell_type": "code",
    "deepnote_to_be_reexecuted": false,
    "execution_millis": 0,
    "execution_start": 1663332647253,
    "source_hash": "21b5065",
    "tags": []
   },
   "outputs": [],
   "source": [
    "phase_len = T/2\n",
    "non_stat_env = NonstatEnvironment(env, conversion_rates_mult, int(phase_len))"
   ]
  },
  {
   "cell_type": "markdown",
   "id": "bc5ccf75",
   "metadata": {
    "cell_id": "00086-af162739-3716-4b5d-ae77-0c41634993bd",
    "deepnote_cell_height": 54,
    "deepnote_cell_type": "markdown",
    "tags": []
   },
   "source": [
    "#### Test SW-UCB algorithm on stationary and non-stationary environment"
   ]
  },
  {
   "cell_type": "code",
   "execution_count": 129,
   "id": "03edae13",
   "metadata": {
    "cell_id": "00087-7c178524-15f0-4f1d-903d-cd8a3b0a6b18",
    "deepnote_cell_height": 615.5625,
    "deepnote_cell_type": "code",
    "deepnote_to_be_reexecuted": false,
    "execution_millis": 63922,
    "execution_start": 1663332794151,
    "source_hash": "696ee0f0",
    "tags": []
   },
   "outputs": [
    {
     "name": "stdout",
     "output_type": "stream",
     "text": [
      "Experiment:  0\n",
      "Experiment:  1\n",
      "Experiment:  2\n"
     ]
    }
   ],
   "source": [
    "m=margins\n",
    "ucb6_Reward = []\n",
    "ucb6_Regret = []\n",
    "SW_UCB_ags = SW_UCB(cr,windows_size)\n",
    "\n",
    "for n in range(n_exp):\n",
    "    print(\"Experiment: \", n)\n",
    "    SW_UCB_ags.reset()\n",
    "    instant_regret = []\n",
    "    instant_reward = []\n",
    "        \n",
    "    for t in range (0,T):\n",
    "        \n",
    "        pulled_arm = SW_UCB_ags.pull_arm(k, cp, m, list(alpha), n_items)\n",
    "\n",
    "        _, _,total_reward, history, _, _, _, _, rew_per_prod = env.round_entire_day(pulled_arm)\n",
    "\n",
    "        SW_UCB_ags.update(pulled_arm, history, rew_per_prod)\n",
    "        instant_regret.append(max(0,opt - total_reward))\n",
    "        instant_reward.append(total_reward)\n",
    "\n",
    "    cum_regret = np.cumsum(instant_regret)\n",
    "    cum_reward = np.cumsum(instant_reward)\n",
    "    ucb6_Regret.append(cum_regret)\n",
    "    ucb6_Reward.append(cum_reward)\n",
    "    \n",
    "ucb6_Regret = np.array(ucb6_Regret)\n",
    "ucb6_Reward = np.array(ucb6_Reward)"
   ]
  },
  {
   "cell_type": "code",
   "execution_count": 130,
   "id": "4a907be3",
   "metadata": {
    "cell_id": "00088-4fc8a147-c945-483b-b2c0-babcbf715c4c",
    "deepnote_cell_height": 638.5625,
    "deepnote_cell_type": "code",
    "deepnote_to_be_reexecuted": false,
    "execution_millis": 61749,
    "execution_start": 1663332858079,
    "source_hash": "e23de5da",
    "tags": []
   },
   "outputs": [
    {
     "name": "stdout",
     "output_type": "stream",
     "text": [
      "Experiment:  0\n",
      "Experiment:  1\n",
      "Experiment:  2\n"
     ]
    }
   ],
   "source": [
    "m=margins\n",
    "ucb_Reward_nonstat = []\n",
    "ucb_Regret_nonstat = []\n",
    "\n",
    "SW_UCB_ags_nonstat = SW_UCB(cr,windows_size)\n",
    "\n",
    "for n in range(n_exp):\n",
    "    print(\"Experiment: \", n)\n",
    "    SW_UCB_ags.reset()\n",
    "    instant_regret = []\n",
    "    instant_reward = []\n",
    "        \n",
    "    for t in range (0,T):\n",
    "        pulled_arm = SW_UCB_ags_nonstat.pull_arm(k, cp, m, list(alpha), n_items)\n",
    "\n",
    "        _, _,total_reward, history, _, _, _, _, rew_per_prod = non_stat_env.dynamic_round_entire_day(pulled_arm)\n",
    "\n",
    "        SW_UCB_ags_nonstat.update(pulled_arm, history, rew_per_prod)\n",
    "        instant_regret.append(max(0,opt - total_reward))\n",
    "        instant_reward.append(total_reward)\n",
    "\n",
    "    cum_regret = np.cumsum(instant_regret)\n",
    "    cum_reward = np.cumsum(instant_reward)\n",
    "    ucb_Regret_nonstat.append(cum_regret)\n",
    "    ucb_Reward_nonstat.append(cum_reward)\n",
    "    \n",
    "ucb_Regret_nonstat = np.array(ucb_Regret_nonstat)\n",
    "ucb_Reward_nonstat = np.array(ucb_Reward_nonstat)"
   ]
  },
  {
   "cell_type": "code",
   "execution_count": 190,
   "id": "a8b2760f",
   "metadata": {
    "cell_id": "00089-1fffdc9d-367b-4ffe-9595-463917371941",
    "deepnote_cell_height": 682,
    "deepnote_cell_type": "code",
    "deepnote_output_heights": [
     464
    ],
    "deepnote_to_be_reexecuted": false,
    "execution_millis": 254,
    "execution_start": 1663332919870,
    "source_hash": "68be860b",
    "tags": []
   },
   "outputs": [
    {
     "data": {
      "image/png": "[encoded data removed]",
      "text/plain": [
       "<Figure size 720x504 with 1 Axes>"
      ]
     },
     "metadata": {},
     "output_type": "display_data"
    }
   ],
   "source": [
    "plt.figure(figsize = (10,7))\n",
    "mean_Regret_ucb6 = np.mean(ucb6_Regret,axis =0)\n",
    "std_dev_ucb6 = np.std(ucb6_Regret, axis=0)/np.sqrt(n_exp)\n",
    "plt.plot(mean_Regret_ucb6)\n",
    "plt.fill_between(range(T),mean_Regret_ucb6-std_dev_ucb6,mean_Regret_ucb6+std_dev_ucb6,alpha = 0.4)\n",
    "plt.title(\"SW-UCB: Cumulative regret\", fontsize = 20)\n",
    "plt.ylabel(\"Regret\", fontsize = 16)\n",
    "plt.xlabel(\"Day\", fontsize = 16)\n",
    "plt.xticks(fontsize = 16)\n",
    "plt.yticks(fontsize = 16)\n",
    "plt.show()"
   ]
  },
  {
   "cell_type": "code",
   "execution_count": 191,
   "id": "8c2c8885",
   "metadata": {
    "cell_id": "51126bd7ff00484380525ffdf2a99af4",
    "deepnote_cell_height": 682,
    "deepnote_cell_type": "code",
    "deepnote_output_heights": [
     464
    ],
    "deepnote_to_be_reexecuted": false,
    "execution_millis": 273,
    "execution_start": 1663332920130,
    "source_hash": "9c968e4b",
    "tags": []
   },
   "outputs": [
    {
     "data": {
      "image/png": "[encoded data removed]",
      "text/plain": [
       "<Figure size 720x504 with 1 Axes>"
      ]
     },
     "metadata": {},
     "output_type": "display_data"
    }
   ],
   "source": [
    "mean_Reward_ucb6 = np.mean(ucb6_Reward,axis =0)\n",
    "std_dev_ucb6 = np.std(ucb6_Reward, axis=0)/np.sqrt(n_exp)\n",
    "\n",
    "plt.figure(figsize = (10,7))\n",
    "plt.plot(mean_Reward_ucb6)\n",
    "plt.fill_between(range(T),mean_Reward_ucb6-std_dev_ucb6,mean_Reward_ucb6+std_dev_ucb6,alpha = 0.4)\n",
    "plt.title(\"SW-UCB: Cumulative reward\", fontsize = 20)\n",
    "plt.ylabel(\"Reward\", fontsize = 16)\n",
    "plt.xlabel(\"Day\", fontsize = 16)\n",
    "plt.xticks(fontsize = 16)\n",
    "plt.yticks(fontsize = 16)\n",
    "plt.show()"
   ]
  },
  {
   "cell_type": "markdown",
   "id": "38fb3d4c",
   "metadata": {
    "cell_id": "364bd2b7eebe4566a846c253759f3db0",
    "deepnote_cell_height": 54,
    "deepnote_cell_type": "markdown",
    "tags": []
   },
   "source": [
    "#### Average regret and reward"
   ]
  },
  {
   "cell_type": "code",
   "execution_count": 133,
   "id": "ab4ddb5f",
   "metadata": {
    "cell_id": "ab36e3589db3437c8502944a11995db9",
    "deepnote_cell_height": 199.375,
    "deepnote_cell_type": "code",
    "deepnote_to_be_reexecuted": false,
    "execution_millis": 328,
    "execution_start": 1663332685247,
    "source_hash": "7bb56de5",
    "tags": []
   },
   "outputs": [
    {
     "name": "stdout",
     "output_type": "stream",
     "text": [
      "Average reward for SW-UCB:  1526388.2733333332\n",
      "Average regret for SW-UCB:  117095.01434782604\n"
     ]
    }
   ],
   "source": [
    "average_reward = np.mean(mean_Reward_ucb6)\n",
    "average_regret = np.mean(mean_Regret_ucb6)\n",
    "\n",
    "print(\"Average reward for SW-UCB: \", average_reward)\n",
    "print(\"Average regret for SW-UCB: \", average_regret)"
   ]
  },
  {
   "cell_type": "markdown",
   "id": "215079b9",
   "metadata": {
    "cell_id": "00090-81c09e0d-91cb-4a84-a1c1-badebf400c78",
    "deepnote_cell_type": "text-cell-h3",
    "formattedRanges": [],
    "is_collapsed": false,
    "tags": []
   },
   "source": [
    "### Test CD-UCB algorithm on stationary and non-stationary environment"
   ]
  },
  {
   "cell_type": "code",
   "execution_count": 134,
   "id": "f3caf972",
   "metadata": {
    "cell_id": "00091-89304f4b-0bca-44ef-b1d2-cdade6513032",
    "deepnote_cell_height": 657.75,
    "deepnote_cell_type": "code",
    "deepnote_to_be_reexecuted": true,
    "execution_millis": 50558,
    "execution_start": 1663316070003,
    "source_hash": "f5836e23",
    "tags": []
   },
   "outputs": [
    {
     "name": "stdout",
     "output_type": "stream",
     "text": [
      "Experiment:  0\n",
      "Experiment:  1\n",
      "Experiment:  2\n"
     ]
    }
   ],
   "source": [
    "m=margins\n",
    "cd_ucb_Reward = []\n",
    "cd_ucb_Regret = []\n",
    "\n",
    "cumsum_UCB_ags = CD_UCB(conversion_rates, 50, 100, 10000)\n",
    "\n",
    "for n in range(n_exp):\n",
    "    print(\"Experiment: \", n)\n",
    "    cumsum_UCB_ags.reset()\n",
    "    instant_regret = []\n",
    "    instant_reward = []\n",
    "        \n",
    "    for t in range (0,T):\n",
    "        pulled_arm = cumsum_UCB_ags.pull_arm(k, cp, m, list(alpha), n_items)\n",
    "        _, _,total_reward, history, _, _, _, _, rew_per_prod = env.round_entire_day(pulled_arm)\n",
    "\n",
    "        cumsum_UCB_ags.update(pulled_arm, history, rew_per_prod)\n",
    "        instant_regret.append(max(0,opt - total_reward))\n",
    "        instant_reward.append(total_reward)\n",
    "\n",
    "    cum_regret = np.cumsum(instant_regret)\n",
    "    cum_reward = np.cumsum(instant_reward)\n",
    "    cd_ucb_Regret.append(cum_regret)\n",
    "    cd_ucb_Reward.append(cum_reward)\n",
    "    \n",
    "cd_ucb_Regret = np.array(cd_ucb_Regret)\n",
    "cd_ucb_Reward = np.array(cd_ucb_Reward)"
   ]
  },
  {
   "cell_type": "code",
   "execution_count": 211,
   "id": "23d02e96",
   "metadata": {
    "cell_id": "b719e31e27b34f32acb738ce7eb6d6a5",
    "deepnote_cell_height": 682,
    "deepnote_cell_type": "code",
    "deepnote_output_heights": [
     464
    ],
    "deepnote_to_be_reexecuted": true,
    "execution_millis": 683,
    "execution_start": 1663316127137,
    "source_hash": "4d6fe9f7",
    "tags": []
   },
   "outputs": [
    {
     "data": {
      "image/png": "[encoded data removed]",
      "text/plain": [
       "<Figure size 720x504 with 1 Axes>"
      ]
     },
     "metadata": {},
     "output_type": "display_data"
    }
   ],
   "source": [
    "cd_mean_Regret = np.mean(cd_ucb_Regret,axis =0)\n",
    "cd_std_dev = np.std(cd_ucb_Regret, axis=0)/np.sqrt(n_exp)\n",
    "plt.figure(figsize = (10,7))\n",
    "plt.plot(cd_mean_Regret)\n",
    "plt.fill_between(range(T),cd_mean_Regret-cd_std_dev,cd_mean_Regret+cd_std_dev,alpha = 0.4)\n",
    "plt.title(\"CD-UCB in static environment\", fontsize = 20)\n",
    "plt.ylabel(\"Regret\", fontsize = 16)\n",
    "plt.xlabel(\"Day\", fontsize = 16)\n",
    "plt.xticks(fontsize = 16)\n",
    "plt.yticks(fontsize = 16)\n",
    "plt.show()"
   ]
  },
  {
   "cell_type": "code",
   "execution_count": 136,
   "id": "515bfd0d",
   "metadata": {
    "cell_id": "00092-c23b7252-a435-4f39-bb5b-a0692e39ab93",
    "deepnote_cell_height": 638.5625,
    "deepnote_cell_type": "code",
    "deepnote_to_be_reexecuted": true,
    "execution_millis": 52425,
    "execution_start": 1663315885089,
    "source_hash": "5486a1f4",
    "tags": []
   },
   "outputs": [
    {
     "name": "stdout",
     "output_type": "stream",
     "text": [
      "Experiment:  0\n",
      "Experiment:  1\n",
      "Experiment:  2\n"
     ]
    }
   ],
   "source": [
    "m=margins\n",
    "cd_ucb_Reward_nonstat = []\n",
    "cd_ucb_Regret_nonstat = []\n",
    "\n",
    "cumsum_UCB_ags_nonstat = CD_UCB(cr, 50, 100, 10000)\n",
    "\n",
    "for n in range(n_exp):\n",
    "    print(\"Experiment: \", n)\n",
    "    cumsum_UCB_ags_nonstat.reset()\n",
    "    instant_regret = []\n",
    "    instant_reward = []\n",
    "        \n",
    "    for t in range (0,T):\n",
    "        pulled_arm = cumsum_UCB_ags_nonstat.pull_arm(k, cp, m, list(alpha), n_items)\n",
    "\n",
    "        _, _,total_reward, history, _, _, _, _, rew_per_prod = non_stat_env.dynamic_round_entire_day(pulled_arm)\n",
    "        \n",
    "        cumsum_UCB_ags_nonstat.update(pulled_arm, history, rew_per_prod)\n",
    "        instant_regret.append(max(0,opt - total_reward))\n",
    "        instant_reward.append(reward)\n",
    "\n",
    "    cum_regret = np.cumsum(instant_regret)\n",
    "    cum_reward = np.cumsum(instant_reward)\n",
    "    cd_ucb_Regret_nonstat.append(cum_regret)\n",
    "    cd_ucb_Reward_nonstat.append(cum_reward)\n",
    "    \n",
    "cd_ucb_Regret_nonstat = np.array(cd_ucb_Regret_nonstat)\n",
    "cd_ucb_Reward_nonstat = np.array(cd_ucb_Reward_nonstat)"
   ]
  },
  {
   "cell_type": "code",
   "execution_count": 192,
   "id": "a8ab7f33",
   "metadata": {
    "cell_id": "00093-4e02e5fd-da44-49a8-9e20-b1672bf5656f",
    "deepnote_cell_height": 682,
    "deepnote_cell_type": "code",
    "deepnote_output_heights": [
     464
    ],
    "deepnote_to_be_reexecuted": true,
    "execution_millis": 351,
    "execution_start": 1663315944252,
    "source_hash": "2fdeaefe",
    "tags": []
   },
   "outputs": [
    {
     "data": {
      "image/png": "[encoded data removed]",
      "text/plain": [
       "<Figure size 720x504 with 1 Axes>"
      ]
     },
     "metadata": {},
     "output_type": "display_data"
    }
   ],
   "source": [
    "cd_mean_Regret_ns = np.mean(cd_ucb_Regret_nonstat,axis =0)\n",
    "cd_std_dev_ns = np.std(cd_ucb_Regret_nonstat, axis=0)/np.sqrt(n_exp)\n",
    "plt.figure(figsize = (10,7))\n",
    "plt.plot(cd_mean_Regret_ns)\n",
    "plt.fill_between(range(T),cd_mean_Regret_ns-cd_std_dev_ns,cd_mean_Regret_ns+cd_std_dev_ns,alpha = 0.4)\n",
    "plt.title(\"CD-UCB in dynamic environment\", fontsize = 20)\n",
    "plt.ylabel(\"Regret\", fontsize = 16)\n",
    "plt.xlabel(\"Day\", fontsize = 16)\n",
    "plt.xticks(fontsize = 16)\n",
    "plt.yticks(fontsize = 16)\n",
    "plt.show()"
   ]
  },
  {
   "cell_type": "markdown",
   "id": "2675108d",
   "metadata": {
    "cell_id": "00095-88acd7bf-a1ff-440f-a12c-d0f11a9100f7",
    "deepnote_cell_type": "text-cell-h2",
    "formattedRanges": [],
    "is_collapsed": false,
    "owner_user_id": "7ac3a14b-4d20-48a6-8fc3-07a479fc8a9b",
    "tags": []
   },
   "source": [
    "## Step 7: Context generation"
   ]
  },
  {
   "cell_type": "code",
   "execution_count": 212,
   "id": "c5e9f49e",
   "metadata": {
    "cell_id": "922fe189e8184b679f8c9d8ce3111878",
    "deepnote_cell_height": 3180,
    "deepnote_cell_type": "code",
    "tags": []
   },
   "outputs": [],
   "source": [
    "#the envviroment is the same as before,the only difference is that the round_entire_day \n",
    "#function also takes as input a list containing the binary features of the customers\n",
    "#customer can simulate.so we could simulate the customers separately within the day\n",
    "\n",
    "class Environment7():\n",
    "\n",
    "    def __init__(self, \n",
    "                conversion_rates, \n",
    "                margins, \n",
    "                click_probabilities, \n",
    "                no_items_bought,\n",
    "                alpha_params,\n",
    "                N_params\n",
    "                ):\n",
    "        '''\n",
    "        Takes as input\n",
    "        1. Conversion rates for each price-level (3-dim matrix)\n",
    "        \n",
    "        2. Margins for the products at the different price-levels \n",
    "        \n",
    "        3. Probabilities of the user visiting other products (one graph for each customer type)\n",
    "        \n",
    "        4. The expected number of items a customer will buy for each customer type and product type \n",
    "           (used as input for the Poisson process)\n",
    "        \n",
    "        5. Alpha-values representing the expected fractions of the customers landing on the product pages (a1-a5) and competitor pages a0\n",
    "        \n",
    "        6. The expected daily number of potential customers (3 different types) \n",
    "           This is used to draw the daily number of customers each day \n",
    "        '''\n",
    "        \n",
    "        self.conversion_rates = conversion_rates \n",
    "        self.margins = margins \n",
    "        self.click_probabilities = click_probabilities\n",
    "        self.no_items_bought = no_items_bought\n",
    "        self.alpha_params = alpha_params\n",
    "        self.N_params = N_params\n",
    "            \n",
    "    # model interaction with learner\n",
    "    # round takes as input the chosen arms/prices and returns a stochastic reward\n",
    "    def round(self, arms, init_product, features):\n",
    "        '''\n",
    "        Arms are the indices of the chosen price-levels for each product, e.g. [0,1,1,2,4] \n",
    "        Init_product is the product the customer initially lands on \n",
    "        Features are the binary features of the customer e.g. [0,0] or [0,1]\n",
    "        '''\n",
    "        \n",
    "        # Determine the class of the user based on the features\n",
    "        # NB I have just chosen some random customer types \n",
    "        \n",
    "        if features[0] == 0 & features[1] == 0:\n",
    "            context = 0\n",
    "        elif features[0] == 1 & features[1] == 1:\n",
    "            context = 1\n",
    "        else: context = 2\n",
    "        \n",
    "        # check if customer buys the primary product, if yes, trigger episode \n",
    "        buy = np.random.binomial(n=1,p = self.conversion_rates[context, arms[init_product], init_product])\n",
    "        # Rewards per product for current day\n",
    "        rew_per_prod = np.array([0 for _ in range(5)], dtype=float)\n",
    "        \n",
    "        ################ the customer buys the initial primary product ################\n",
    "        if buy: \n",
    "            # get conversion rates as a vector (for these prices and this context)\n",
    "            cr = np.zeros(5)\n",
    "            for i,j in zip(arms, range(5)):\n",
    "                cr[j] = self.conversion_rates[context, i,j]\n",
    "            click_probs = self.click_probabilities[context,:,:]\n",
    "            \n",
    "            # let the customer move along the graph (stochastically)\n",
    "            history, x = simulate_episode(init_product, click_probs, cr)\n",
    "\n",
    "            # draw the number of items the customer buys\n",
    "            n_items_sold = np.zeros(5)\n",
    "            for array in history: \n",
    "                # the number of items sold follows a Poisson distribution \n",
    "                # add and subtract 1 to make sure it is not zero! \n",
    "                lambdas = self.no_items_bought[context,:]-np.ones(5)\n",
    "                n_items_sold += array*(np.random.poisson(lambdas)+np.ones(5))\n",
    "            \n",
    "            # compute reward\n",
    "            reward = 0\n",
    "            for i in range(5):\n",
    "                reward += n_items_sold[i]*self.margins[arms[i], i]\n",
    "                rew_per_prod[i] += n_items_sold[i]*self.margins[arms[i],i]\n",
    "        ################ does NOT buy the initial primary product ################\n",
    "        else: \n",
    "            x = [[] for _ in range(5)]\n",
    "            x[init_product].append(0)\n",
    "            history = np.zeros(5)\n",
    "            n_items_sold = np.zeros(5)\n",
    "            reward = 0\n",
    "        \n",
    "        return history, n_items_sold, reward, x,rew_per_prod\n",
    "    \n",
    "    def round_entire_day(self, arms,type_customer):\n",
    "        '''\n",
    "        collects observations for a whole day - uses function defined above \n",
    "\n",
    "        Takes as input: \n",
    "        arms: The chosen price-levels e.g. [0,1,1,2,4]\n",
    "        \n",
    "        '''\n",
    "        \n",
    "        # store whether or not we make a conversion\n",
    "        X = [[] for _ in range(5)]\n",
    "        \n",
    "        # Draw how many customers we have this day \n",
    "        Ns = np.random.poisson(self.N_params)  # type 1, 2,  3\n",
    "\n",
    "        # Draw how many of each type lands on each product page \n",
    "        #print(\"Alphas: \", self.alpha_params)\n",
    "        alpha_sampled = [np.random.dirichlet(self.alpha_params[0,:]),    # type 1\n",
    "                        np.random.dirichlet(self.alpha_params[1,:]),    # type 2\n",
    "                        np.random.dirichlet(self.alpha_params[2,:])]    # type 3\n",
    "\n",
    "        # Get observations for each type\n",
    "        context_experiments = []\n",
    "        episodes_dataset = []\n",
    "        n_items_dataset = []\n",
    "        types = type_customer\n",
    "        \n",
    "        # Record of reward per product for current day\n",
    "        sum_rew_per_prod = np.array([0 for _ in range(5)], dtype=float)\n",
    "        \n",
    "        # Allocate space for saving the dataset for each feature\n",
    "        features_dataset = dict()\n",
    "        features_dataset[(0,0)] = {\"n_items\":[], \"X\":[[] for _ in range(5)],\"N_customers\":0, \"reward\":0,'alpha_sampled':0,'sum_rew_per_prod':0}\n",
    "        features_dataset[(0,1)] = {\"n_items\":[], \"X\":[[] for _ in range(5)],\"N_customers\":0,\"reward\":0,'alpha_sampled':0,'sum_rew_per_prod':0}\n",
    "        features_dataset[(1,0)] = {\"n_items\":[], \"X\":[[] for _ in range(5)],\"N_customers\":0,\"reward\":0,'alpha_sampled':0,'sum_rew_per_prod':0}\n",
    "        features_dataset[(1,1)] = {\"n_items\":[], \"X\":[[] for _ in range(5)],\"N_customers\":0,\"reward\":0,'alpha_sampled':0,'sum_rew_per_prod':0}\n",
    "        \n",
    "        for f, N, a in zip(types, Ns, alpha_sampled):\n",
    "            sum_result = [np.zeros(5), 0]\n",
    "            \n",
    "            for i in range(np.abs(N)): # Sampling based on distribution so edge-case can cause draws to be negative\n",
    "                # Draws a landing-product based on distribution of alphas\n",
    "                landing_product = np.random.choice(np.arange(6), 1, p=a)[0]\n",
    "\n",
    "                # Checks if product is one of our products\n",
    "                if(landing_product < 5):\n",
    "\n",
    "                    # The learner needs to observe the set of features for each observation (so it can learn it later)\n",
    "                    # therefore the the featurespace is defined below for each customer-type\n",
    "\n",
    "                   \n",
    "                    # Runs simulation for given customer\n",
    "                    round_his, round_items, round_rew, x,round_rew_per_prod = self.round(arms, landing_product, f)\n",
    "                    \n",
    "                    # Stores result for individual customer \n",
    "                    sum_result[0] += round_items\n",
    "                    sum_result[1] += round_rew\n",
    "                    episodes_dataset.append(round_his)\n",
    "                    X = [X[i]+x[i] for i in range(5)]\n",
    "                    n_items_dataset.append(round_items)\n",
    "                    sum_rew_per_prod += round_rew_per_prod\n",
    "                    \n",
    "                    \n",
    "                    # Store dataset for each featurecombination\n",
    "                    features_dataset[f][\"X\"] = [features_dataset[f][\"X\"][i]+x[i] for i in range(5)]\n",
    "                    features_dataset[f][\"n_items\"].append(round_items)\n",
    "                    features_dataset[f][\"N_customers\"] += 1 \n",
    "                    features_dataset[f][\"reward\"]+=round_rew\n",
    "                    features_dataset[f]['alpha_sampled']=a\n",
    "                features_dataset[f]['sum_rew_per_prod']=sum_rew_per_prod\n",
    "                   # features_dataset[f][\"alpha_sampled\"]+=alpha_sampled\n",
    "            # Stores results from simulation for each user class\n",
    "            context_experiments.append(sum_result)\n",
    "\n",
    "        # return dataset and total reward for that day \n",
    "        total_reward = np.sum([l[1] for l in context_experiments])\n",
    "        data = context_experiments \n",
    "            \n",
    "        return data, episodes_dataset, total_reward, X, n_items_dataset, alpha_sampled, Ns, features_dataset,sum_rew_per_prod"
   ]
  },
  {
   "cell_type": "markdown",
   "id": "7681e953",
   "metadata": {
    "cell_id": "747c29addfed45afbcc3cee587c4c1dc",
    "deepnote_cell_height": 62,
    "deepnote_cell_type": "markdown",
    "tags": []
   },
   "source": [
    "### Customer class"
   ]
  },
  {
   "cell_type": "code",
   "execution_count": 213,
   "id": "3795e15b",
   "metadata": {
    "cell_id": "7c04073bd05a43b693deaca0bc356663",
    "deepnote_cell_height": 1992,
    "deepnote_cell_type": "code",
    "tags": []
   },
   "outputs": [],
   "source": [
    "\n",
    "#the customer class takes the values observed during each day and saves and updates them\n",
    "\n",
    "\n",
    "\n",
    "class customer():\n",
    "    def __init__(self,cr,i,j):\n",
    "        #store the cr matrix for each type of customer\n",
    "        self.database_cr=np.zeros(cr.shape)\n",
    "        #for each type of customer save how many type of product the customer have bought\n",
    "        self.n_customer=[[0] for _ in range(5)]\n",
    "        #the beta parameters of cr per each customer\n",
    "        self.beta_parameters_alpha = np.ones(np.shape(self.database_cr))\n",
    "        self.beta_parameters_beta= np.ones(np.shape(self.database_cr))\n",
    "        #save the binary feature each customer must have an unique type of customer\n",
    "        #the type of customer can be (0,0) , (1,0) , (0,1) , (1,1)\n",
    "        self.type_of_customer=(i,j)\n",
    "        self.empiric_mean = 0\n",
    "                ###for ucb###\n",
    "        #the bias for the ucb\n",
    "        self.width_bias=5000\n",
    "        self.mean_rewards = np.zeros((5, 4)) #Shape is number of products, number of price levels\n",
    "        self.width_rewards = np.ones((5, 4)) * self.width_bias \n",
    "        #the alpha parameter per each customer\n",
    "        self.alpha_param = np.ones(6)/6 # update \n",
    "        self.n_items_param = np.ones(np.shape(self.database_cr[1]))\n",
    "        #the total number of customer that buy at least one product\n",
    "        self.tot_customer = 1\n",
    "        #total number of customer that lend on the webpage or lend in the competitor's webpage\n",
    "        self.customer_landing=0\n",
    "        #time\n",
    "        self.t=0\n",
    "        #the same of ucb \n",
    "        self.n=np.zeros(np.shape(cr))\n",
    "        \n",
    "    def update(self,features_dataset,arm_pulled,Ns):\n",
    "        self.t+=1\n",
    "                # Determine the class of the user based on the features\n",
    "        # NB I have just chosen some random customer types \n",
    "        if self.type_of_customer[0] == 0 & self.type_of_customer[1] == 0:\n",
    "            context = 0\n",
    "        elif self.type_of_customer[0] == 1 & self.type_of_customer[1] == 1:\n",
    "            context = 1\n",
    "        else: context = 2\n",
    "        \n",
    "        Ns=Ns\n",
    "        \n",
    "        \n",
    "        \n",
    "        #number of customer that buy at least one prod\n",
    "        actual_customer = np.count_nonzero(features_dataset[self.type_of_customer]['n_items'], axis = 0)\n",
    "        #average number of products that each customer has bought\n",
    "        actual_items_buy =np.mean(features_dataset[self.type_of_customer]['n_items'], axis = 0)\n",
    "        \n",
    "        #if a customer don't buy a product don't update \n",
    "        #else update the average of product bought by each customer\n",
    "        try :\n",
    "            if (np.isnan(actual_items_buy)):\n",
    "                     actual_items_buy=np.zeros(5)\n",
    "        except:\n",
    "            actual_items_buy=actual_items_buy\n",
    "        self.n_items_param = (actual_items_buy* (self.t-1)+ actual_items_buy)/(self.t)\n",
    "\n",
    "        \n",
    "        \n",
    "        try:\n",
    "            self.tot_customer += sum(actual_customer)\n",
    "            self.customer_landing +=len(features_dataset[self.type_of_customer][\"X\"])\n",
    "        except:\n",
    "            self.customer_landing += 0\n",
    "            self.tot_customer += 0\n",
    "\n",
    "        \n",
    "                ###### Update alpha params ######\n",
    "        alpha_dataset = features_dataset[self.type_of_customer]['alpha_sampled']\n",
    "        self.alpha_param = self.alpha_param + alpha_dataset\n",
    "        #\n",
    "        #update the conversion rate per each product\n",
    "        for i in range(5):\n",
    "            self.n_items_param\n",
    "            #how many time the customer have bought a product \n",
    "            buy= np.sum(features_dataset[self.type_of_customer][\"X\"][i])\n",
    "            #update the alpha matrix, the beta matrix and also the cr of each customer per prod\n",
    "            \n",
    "            self.beta_parameters_alpha[pulled_arm[i],i]=self.beta_parameters_alpha[pulled_arm[i],i]+buy\n",
    "            self.beta_parameters_beta[pulled_arm[i],i]=self.beta_parameters_beta[pulled_arm[i],i]+len(features_dataset[self.type_of_customer][\"X\"])-buy\n",
    "\n",
    "            \n",
    "            \n",
    "            #update the parameters for the ucb.\n",
    "            try:\n",
    "            \n",
    "                self.mean_rewards[ arm_pulled[i],i] = (self.mean_rewards[ i,arm_pulled[i]]*(self.t-1) + features_dataset[self.type_of_customer][\"sum_rew_per_prod\"][i]) / self.t\n",
    "          \n",
    "            except:\n",
    "                 self.mean_rewards=self.mean_rewards\n",
    "            # Update the counter n\n",
    "            self.n[arm_pulled[i], i] += 1\n",
    "\n",
    "            n = self.n[arm_pulled[i], i]\n",
    "\n",
    "            # Update the width for ALL arms/conversion rates\n",
    "            self.width_rewards[i, arm_pulled[i]] = self.width_rewards[i, arm_pulled[i]]*np.sqrt(2*np.log(np.maximum(2, self.t))/ n)\n",
    "            \n",
    "        #force the beta parameters to be between 0 and 1, because when the simulation start there are same zeros\n",
    "        #that generate errors\n",
    "        self.beta_parameters_alpha=np.clip( self.beta_parameters_alpha, a_min=0.001,a_max=1)\n",
    "        self.beta_parameters_beta=np.clip( self.beta_parameters_beta, a_min=0.001,a_max=1)"
   ]
  },
  {
   "cell_type": "code",
   "execution_count": 214,
   "id": "faad4a45",
   "metadata": {
    "cell_id": "1df05bbec18b4283b0c931a596dc2b21",
    "deepnote_cell_height": 3987,
    "deepnote_cell_type": "code",
    "deepnote_to_be_reexecuted": false,
    "execution_millis": 10,
    "execution_start": 1663334211895,
    "source_hash": "b623e53d",
    "tags": []
   },
   "outputs": [],
   "source": [
    "#the \"agg_customer\" class is used to merge two different type of customer customers\n",
    "class agg_customer():\n",
    "    #the class take as input as the feature of 2 different type of customer and merge it\n",
    "    def __init__(self):\n",
    "        #create a list that cointain the unique identifaier of the merged customer\n",
    "        self.type_of_customer=[]\n",
    "        #sum the alpha matrix and beta matrix of the 2 customers\n",
    "        self.alpha=[]\n",
    "        self.beta=[]\n",
    "        self.alpha_landing=np.ones(6)/6\n",
    "        self.customer_landing=0\n",
    "        self.sum_customer=0\n",
    "            \n",
    "            #ucb#\n",
    "        self.reward=0\n",
    "        self.tot_n_customer=[]\n",
    "        self.width_bias =5000\n",
    "        self.mean_rewards=np.zeros((5, 4))\n",
    " \n",
    "        self.width_rewards=np.ones((5, 4)) * self.width_bias \n",
    "        self.items=0\n",
    "        \n",
    "    \n",
    "    def reset(self):\n",
    "        #reset the values\n",
    "        \n",
    "        self.type_of_customer=[]\n",
    "        #sum the alpha matrix and beta matrix of the 2 customers\n",
    "        self.alpha=[]\n",
    "        self.beta=[]\n",
    "        self.reward=0\n",
    "        self.sum_customer=0\n",
    "\n",
    "        self.alpha_landing=0\n",
    "\n",
    "        self.items=0\n",
    "        self.width_bias =5000\n",
    "        self.mean_rewards=np.zeros((5, 4))\n",
    "        \n",
    "        self.width_rewards=np.ones((5, 4)) * self.width_bias \n",
    "        self.customer_landing=0\n",
    "\n",
    "    \n",
    "    \n",
    "    #this function merge diffenrent type of customers, it enter a list of customer object and a list of binary feature \n",
    "    #and merge the custu\n",
    "    def generation(self,list_of_existing_customer):\n",
    "        \n",
    "        #identify the agg_cust with the list of the binary feature of the merged customer\n",
    "        for people in range(len(list_of_existing_customer)):\n",
    "                #setting which are the customer\n",
    "                self.type_of_customer=list_of_existing_customer[people].type_of_customer\n",
    "                \n",
    "\n",
    "        if len(list_of_existing_customer)==4:\n",
    "            \n",
    "            # summing the total number of customer that land on the webpage\n",
    "            self.customer_landing=list_of_existing_customer[0].customer_landing+list_of_existing_customer[1].customer_landing+list_of_existing_customer[2].customer_landing+list_of_existing_customer[3].customer_landing\n",
    "            \n",
    "            #alpha of beta parameters\n",
    "            alpha1=list_of_existing_customer[0].beta_parameters_alpha\n",
    "            alpha2=list_of_existing_customer[1].beta_parameters_alpha\n",
    "            alpha3=list_of_existing_customer[2].beta_parameters_alpha\n",
    "            alpha4=list_of_existing_customer[3].beta_parameters_alpha\n",
    "            #beta of beta parameters\n",
    "            beta1=list_of_existing_customer[0].beta_parameters_beta\n",
    "            beta2=list_of_existing_customer[1].beta_parameters_beta\n",
    "            beta3=list_of_existing_customer[2].beta_parameters_beta\n",
    "            beta4=list_of_existing_customer[3].beta_parameters_beta\n",
    "\n",
    "            #probability to land on a product or on a webpage\n",
    "            alpha_landing1=list_of_existing_customer[0].alpha_param\n",
    "            alpha_landing2=list_of_existing_customer[1].alpha_param\n",
    "            alpha_landing3=list_of_existing_customer[2].alpha_param\n",
    "            alpha_landing4=list_of_existing_customer[3].alpha_param\n",
    "\n",
    "            #number of items bought\n",
    "            n_items_param1=list_of_existing_customer[0].n_items_param\n",
    "            n_items_param2=list_of_existing_customer[1].n_items_param\n",
    "            n_items_param3=list_of_existing_customer[2].n_items_param\n",
    "            n_items_param4=list_of_existing_customer[3].n_items_param\n",
    "            \n",
    "            #total number of custumer that bought a product\n",
    "            self.tot_n_customer.append(list_of_existing_customer[0].tot_customer)\n",
    "            self.tot_n_customer.append(list_of_existing_customer[1].tot_customer)\n",
    "            self.tot_n_customer.append(list_of_existing_customer[2].tot_customer)\n",
    "            self.tot_n_customer.append(list_of_existing_customer[3].tot_customer)\n",
    "\n",
    "            \n",
    "            #make the sum of the alpha matrix \n",
    "            self.alpha=[[sum(el) for el in zip(list1,list2,list3,list4 )]  for list1,list2,list3,list4 in zip(alpha1,alpha2,alpha3,alpha4) ]\n",
    "            #make the sum of the betas matrix\n",
    "            self.beta=[[sum(el) for el in zip(list1,list2,list3,list4 )]  for list1,list2,list3,list4 in zip(beta1,beta2,beta3,beta4) ]\n",
    "\n",
    "            #make the mean of the items bought\n",
    "            self.items=[np.mean(el) for el in zip(n_items_param1,n_items_param2,n_items_param3,n_items_param4 )] \n",
    "\n",
    "           # weight the probability of landing on a webpage based on the number of that buy the items\n",
    "            weight=self.tot_n_customer\n",
    "            self.alpha_landing=np.average([alpha_landing1,alpha_landing2,alpha_landing3,alpha_landing4],axis = 0, weights = weight)\n",
    "\n",
    "            ###ucb\n",
    "            #mean rewards of each customer\n",
    "            mean_rewards1=list_of_existing_customer[0].mean_rewards\n",
    "            mean_rewards2=list_of_existing_customer[1].mean_rewards\n",
    "            mean_rewards3=list_of_existing_customer[2].mean_rewards\n",
    "            mean_rewards4=list_of_existing_customer[3].mean_rewards\n",
    "            #with rewards of each cutomer\n",
    "            width_rewards1=list_of_existing_customer[0].width_rewards\n",
    "            width_rewards2=list_of_existing_customer[1].width_rewards\n",
    "            width_rewards3=list_of_existing_customer[2].width_rewards\n",
    "            width_rewards4=list_of_existing_customer[3].width_rewards            \n",
    "            \n",
    "            \n",
    "            #weight the mean and the with by the number of custumer that buy a product\n",
    "            self.mean_rewards=np.average([mean_rewards1,mean_rewards2,mean_rewards3,mean_rewards4],axis = 0, weights = weight)\n",
    "            self.width_rewards=np.average([width_rewards1,width_rewards2,width_rewards3,width_rewards4],axis = 0, weights = weight)\n",
    "\n",
    "\n",
    "            \n",
    "        elif len(list_of_existing_customer)==3:\n",
    "            # summing the total number of customer that land on the webpage\n",
    "            self.customer_landing=list_of_existing_customer[0].customer_landing+list_of_existing_customer[1].customer_landing+list_of_existing_customer[2].customer_landing\n",
    "            #alpha of beta parameters\n",
    "            alpha1=list_of_existing_customer[0].beta_parameters_alpha\n",
    "            alpha2=list_of_existing_customer[1].beta_parameters_alpha\n",
    "            alpha3=list_of_existing_customer[2].beta_parameters_alpha\n",
    "\n",
    "            #beta of beta parameters\n",
    "            beta1=list_of_existing_customer[0].beta_parameters_beta\n",
    "            beta2=list_of_existing_customer[1].beta_parameters_beta\n",
    "            beta3=list_of_existing_customer[2].beta_parameters_beta\n",
    "\n",
    "            #alpha and beta parameter of the mergend customer\n",
    "            self.alpha=[[sum(el) for el in zip(list1,list2,list3 )]  for list1,list2,list3 in zip(alpha1,alpha2,alpha3) ]\n",
    "            self.beta=[[sum(el) for el in zip(list1,list2,list3 )]  for list1,list2,list3 in zip(beta1,beta2,beta3) ]\n",
    "            #alpha landing of customer to merge\n",
    "            alpha_landing1=list_of_existing_customer[0].alpha_param\n",
    "            alpha_landing2=list_of_existing_customer[1].alpha_param\n",
    "            alpha_landing3=list_of_existing_customer[2].alpha_param\n",
    "       \n",
    "            #number of items bought\n",
    "            n_items_param1=list_of_existing_customer[0].n_items_param\n",
    "            n_items_param2=list_of_existing_customer[1].n_items_param\n",
    "            n_items_param3=list_of_existing_customer[2].n_items_param\n",
    "            \n",
    "            self.tot_n_customer.append(list_of_existing_customer[0].tot_customer)\n",
    "            self.tot_n_customer.append(list_of_existing_customer[1].tot_customer)\n",
    "            self.tot_n_customer.append(list_of_existing_customer[2].tot_customer)\n",
    "            #average oot the items buy by each customer\n",
    "            self.items=[np.mean(el) for el in zip(n_items_param1,n_items_param2,n_items_param3 )] \n",
    "            #average of the alpha landing of the customers\n",
    "            weight=self.tot_n_customer\n",
    "            self.alpha_landing=np.average([alpha_landing1,alpha_landing2,alpha_landing3],axis = 0, weights = weight)\n",
    "\n",
    "            \n",
    "              #ucb\n",
    "                #mean of the customer to merge\n",
    "            mean_rewards1=list_of_existing_customer[0].mean_rewards\n",
    "            mean_rewards2=list_of_existing_customer[1].mean_rewards\n",
    "            mean_rewards3=list_of_existing_customer[2].mean_rewards\n",
    "\n",
    "            #with rewards of each cutomer\n",
    "            width_rewards1=list_of_existing_customer[0].width_rewards\n",
    "            width_rewards2=list_of_existing_customer[1].width_rewards\n",
    "            width_rewards3=list_of_existing_customer[2].width_rewards\n",
    "            #weighted average of the with and the reward of the custommer to merge\n",
    "            self.mean_rewards=np.average([mean_rewards1,mean_rewards2,mean_rewards3],axis = 0, weights = weight)\n",
    "            self.width_rewards=np.average([width_rewards1,width_rewards2,width_rewards3],axis = 0, weights = weight)\n",
    "\n",
    "\n",
    "\n",
    "        elif len(list_of_existing_customer)==2:\n",
    "            \n",
    "            # summing the total number of customer that land on the webpage\n",
    "            self.customer_landing=list_of_existing_customer[0].customer_landing+list_of_existing_customer[1].customer_landing\n",
    "            #alpha of beta parameters\n",
    "            alpha1=list_of_existing_customer[0].beta_parameters_alpha\n",
    "            alpha2=list_of_existing_customer[1].beta_parameters_alpha\n",
    "\n",
    "            #beta of beta parameters\n",
    "            beta1=list_of_existing_customer[0].beta_parameters_beta\n",
    "            beta2=list_of_existing_customer[1].beta_parameters_beta\n",
    "\n",
    "\n",
    "            #make the sum of the alphas matrix\n",
    "            self.alpha=[[sum(el) for el in zip(list1,list2 )]  for list1,list2 in zip(alpha1,alpha2) ]\n",
    "            #make the sum of the betas matrix  \n",
    "            self.beta=[[sum(el) for el in zip(list1,list2 )]  for list1,list2 in zip(beta1,beta2) ]\n",
    "            #alpha landing of the customer to merge\n",
    "            alpha_landing1=list_of_existing_customer[0].alpha_param\n",
    "            alpha_landing2=list_of_existing_customer[1].alpha_param\n",
    "            \n",
    "            #number of items bought\n",
    "            n_items_param1=list_of_existing_customer[0].n_items_param\n",
    "            n_items_param2=list_of_existing_customer[1].n_items_param\n",
    "            #number of customer that bought at leat one prod\n",
    "            self.tot_n_customer.append(list_of_existing_customer[0].tot_customer)\n",
    "            self.tot_n_customer.append(list_of_existing_customer[1].tot_customer)    \n",
    "\n",
    "            #average ov the items bought by a customer\n",
    "            self.items=[np.mean(el) for el in zip(n_items_param1,n_items_param2 )] \n",
    "            #weighted average of the alphas landing\n",
    "            weight=self.tot_n_customer\n",
    "            self.alpha_landing=np.average([alpha_landing1,alpha_landing2],axis = 0, weights = weight)\n",
    "            \n",
    "                        #ucb\n",
    "            #mean reward of each cutomer\n",
    "            mean_rewards1=list_of_existing_customer[0].mean_rewards\n",
    "            mean_rewards2=list_of_existing_customer[1].mean_rewards\n",
    "\n",
    "\n",
    "            #with rewards of each cutomer\n",
    "            width_rewards1=list_of_existing_customer[0].width_rewards\n",
    "            width_rewards2=list_of_existing_customer[1].width_rewards\n",
    "            #average of the mean and the width of the reward weighetd by the customer that buy at leat one prod\n",
    "            self.mean_rewards=np.average([mean_rewards1,mean_rewards2],axis = 0, weights = weight)\n",
    "            self.width_rewards=np.average([width_rewards1,width_rewards2],axis = 0, weights = weight)"
   ]
  },
  {
   "cell_type": "markdown",
   "id": "ead1eb43",
   "metadata": {
    "cell_id": "4da0ac540e5b4941be59898e2c9c5054",
    "deepnote_cell_type": "text-cell-h3",
    "formattedRanges": [],
    "is_collapsed": false,
    "tags": []
   },
   "source": [
    "### Learners"
   ]
  },
  {
   "cell_type": "code",
   "execution_count": 215,
   "id": "165a91a2",
   "metadata": {
    "cell_id": "42dff502f77d4ccdab6cd64599528092",
    "deepnote_cell_height": 660,
    "deepnote_cell_type": "code",
    "tags": []
   },
   "outputs": [],
   "source": [
    "# the learner are the same with the list of the binary feature of the customers.\n",
    "#the learner tries to estimate the unknow parameters of one or more customer\n",
    "class ucb(learner):\n",
    "    def __init__(self, matrix_cr,list_customer, width_bias = 5000):\n",
    "        super().__init__()\n",
    "        self.width_bias = width_bias\n",
    "        self.matrix_cr = matrix_cr\n",
    "        self.n = np.zeros(np.shape(matrix_cr))\n",
    "        self.type_of_customer=list_customer\n",
    "        self.mean_rewards = np.zeros((n_products, n_prices)) #Shape is number of products, number of price levels\n",
    "        self.width_rewards = np.ones((n_products, n_prices)) * self.width_bias \n",
    "\n",
    "    def pull_arm(self, k, cp, m, alpha, n_items): # TODO: Can probably remove these inputs\n",
    "        # Get arm to pull\n",
    "        if self.t < n_prices:\n",
    "            return np.array([self.t for _ in range(n_products)])\n",
    "        return np.argmax(self.width_rewards + self.mean_rewards, axis = 1)\n",
    "\n",
    "    def update(self, arm_pulled, history, rew_per_prod):\n",
    "        self.t += 1\n",
    "\n",
    "        # Update the mean for the arms in the superarm we have pulled\n",
    "        for i in range(len(arm_pulled)):\n",
    "            # Update the mean\n",
    "            self.mean_rewards[i, arm_pulled[i]] = (self.mean_rewards[i, arm_pulled[i]]*(self.t-1) + rew_per_prod[i]) / self.t\n",
    "            # perhaps do a weighted mean? Like in part 4 where we take into account that each day has different number of customers\n",
    "\n",
    "            # Update the counter n\n",
    "            self.n[arm_pulled[i], i] += 1\n",
    "\n",
    "            n = self.n[arm_pulled[i], i]\n",
    "\n",
    "            # Update the width for ALL arms/conversion rates\n",
    "  "
   ]
  },
  {
   "cell_type": "code",
   "execution_count": 216,
   "id": "c64a2e31",
   "metadata": {
    "cell_id": "d662142a154c4962966d8f4de37722d8",
    "deepnote_cell_height": 1038,
    "deepnote_cell_type": "code",
    "tags": []
   },
   "outputs": [],
   "source": [
    "# the learner are the same with the list of the binary feature of the customers.\n",
    "#the learner tries to estimate the unknow parameters of one or more customer\n",
    "class TS_Learner2 (TS_Learner):\n",
    "    \n",
    "    def __init__ (self,matrix_cr,list_customer):\n",
    "        super().__init__(matrix_cr)\n",
    "        \n",
    "        self.n_items_param = np.ones(np.shape(self.matrix_cr[1]))\n",
    "        self.alpha_param = np.ones(6) # update \n",
    "        self.tot_customer = 0\n",
    "        self.empiric_mean = 0\n",
    "        self.type_of_customer=list_customer\n",
    "        \n",
    "    def pull_arm(self,k,cp,m,alpha,n_items):\n",
    "        self.beta_parameters_alpha=np.clip( self.beta_parameters_alpha, a_min=0.001,a_max=1)\n",
    "        self.beta_parameters_beta=np.clip( self.beta_parameters_beta, a_min=0.001,a_max=1)\n",
    "        beta_matrix = np.random.beta(self.beta_parameters_alpha,self.beta_parameters_beta)\n",
    "        \n",
    "        n_items_estimated = np.random.poisson(self.n_items_param)\n",
    "        alphas_estimated = np.random.dirichlet(self.alpha_param)\n",
    "        \n",
    "        pull_arm,_= greedy_algo(beta_matrix, k, cp, m, alphas_estimated, N, n_items_estimated)\n",
    "        \n",
    "        return pull_arm\n",
    "    \n",
    "    def update (self,\n",
    "                pulled_arm,\n",
    "                cr_dataset, \n",
    "                n_items_dataset,\n",
    "                alpha_dataset,\n",
    "                Ns): # number of customers (for three types)\n",
    "\n",
    "        self.t +=1\n",
    "        self.tot_customer += np.sum(Ns)\n",
    "\n",
    "        ###### Update n_items_param ######     \n",
    "        actual_customer = np.count_nonzero(n_items_dataset, axis = 0)\n",
    "        actual_items_buy = np.sum(n_items_dataset, axis = 0)\n",
    "        self.n_items_param = (actual_items_buy* actual_customer+ self.tot_customer*self.empiric_mean)/(self.tot_customer + actual_customer)\n",
    "        self.tot_customer += actual_customer\n",
    "        self.empiric_mean = actual_items_buy\n",
    "        #self.n_items_param = np.sum(n_items_dataset, axis = 0)/np.count_nonzero(n_items_dataset, axis = 0)\n",
    "\n",
    "        ###### Update alpha params ######\n",
    "        alpha_dataset = np.average(alpha_dataset,axis = 0, weights = Ns)\n",
    "        self.alpha_param = self.alpha_param + alpha_dataset\n",
    "\n",
    "        ###### Update conversion rates ######\n",
    "        for i in range(len(pulled_arm)):\n",
    "            buy=sum(cr_dataset[i])\n",
    "\n",
    "            self.beta_parameters_alpha[pulled_arm[i],i]=self.beta_parameters_alpha[pulled_arm[i],i]+buy\n",
    "            self.beta_parameters_beta[pulled_arm[i],i]=self.beta_parameters_beta[pulled_arm[i],i]+len(cr_dataset[i])-buy\n",
    "\n"
   ]
  },
  {
   "cell_type": "markdown",
   "id": "799adbd2",
   "metadata": {
    "cell_id": "76294f4b32a445478249a6febcc3586b",
    "deepnote_cell_type": "text-cell-h3",
    "formattedRanges": [],
    "is_collapsed": false,
    "tags": []
   },
   "source": [
    "### General function"
   ]
  },
  {
   "cell_type": "code",
   "execution_count": 217,
   "id": "40406123",
   "metadata": {
    "cell_id": "e39fd23211ea4872870d92f994213c14",
    "deepnote_cell_height": 228,
    "deepnote_cell_type": "code",
    "tags": []
   },
   "outputs": [],
   "source": [
    "#the function enter a list of customer objects and a list of binary features, \n",
    "#and it returns a list containing the indices.\n",
    "#the indices represent the position  inside   the first list of the customer with the binary feature of the second list \n",
    "def position_customer(customers_list_obj,list_):\n",
    "    \n",
    "    idx=[]\n",
    "    for cust in range(len(customers_list_obj)):\n",
    "        if customers_list_obj[cust].type_of_customer in list_:\n",
    "            idx.append(cust)\n",
    "    return idx"
   ]
  },
  {
   "cell_type": "code",
   "execution_count": 218,
   "id": "bdfc57cb",
   "metadata": {
    "cell_id": "f86a6f7fde2b456c8763cee16ceba904",
    "deepnote_cell_height": 1254,
    "deepnote_cell_type": "code",
    "tags": []
   },
   "outputs": [],
   "source": [
    "#the function has as input a list of customer objects, the indexes of the customers\n",
    "#we want to calculate the reward, and the values we need to run the greedy algorithm.\n",
    "#the function returns the reward.\n",
    "#The function merge together a list of customers by creating the agg_cust object \n",
    "#and then calculates the reword using the greedy_algorithm which will have as input\n",
    "#the values averaged by the merged customers.\n",
    "#the function can have even one customer so the reward will be equal to the reward \n",
    "#of the greedy learner who has as input the parameters of the single customer\n",
    "def compute_reward_dissaggregated(customers_list_obj,idx,k, cp, m, N):\n",
    "        \n",
    "    #if we have to merge all the customer togheter\n",
    "    if len(idx)==4:\n",
    "        #built the custumer to object that merge the customer\n",
    "        aggregated_customer=agg_customer()\n",
    "        #compute the parametersof the merged customer\n",
    "        aggregated_customer.generation(customers_list_obj)\n",
    "        #compute the beta matrix\n",
    "        beta_matrix_disaggregated=np.random.beta(np.clip(aggregated_customer.alpha,a_min=0.01,a_max=1),np.clip(aggregated_customer.beta,a_min=0.01,a_max=1))\n",
    "        alpha_param=np.random.dirichlet(aggregated_customer.alpha_landing)\n",
    "        #consider the n_items of merged cust\n",
    "        n_items_param=aggregated_customer.items\n",
    "        _,aggregated_reward= greedy_algo(beta_matrix_disaggregated, k, cp, m, list(alpha_param), aggregated_customer.customer_landing, n_items_param)\n",
    "        #rest the values\n",
    "        aggregated_customer.reset()\n",
    "        \n",
    "        return aggregated_reward[-1]\n",
    "    \n",
    "    elif len(idx)>1:\n",
    "        #built the merged customer\n",
    "        custemer1_2=agg_customer()\n",
    "        #initializating the parameters\n",
    "        custemer1_2.generation([customers_list_obj[idx[0]],customers_list_obj[idx[1]]])\n",
    "        #beta matrix\n",
    "        alpha_matrix=np.clip(custemer1_2.alpha, a_min=0.001,a_max=1)\n",
    "        beta_matrix=np.clip(custemer1_2.beta, a_min=0.001,a_max=1)\n",
    "        #beta matrix\n",
    "        beta_matrix_disaggregated = np.random.beta(alpha_matrix,beta_matrix)\n",
    "\n",
    "        #alpha matrix\n",
    "        alpha_param=np.random.dirichlet(custemer1_2.alpha_landing)\n",
    "        #item param\n",
    "        item_param=custemer1_2.items\n",
    "        \n",
    "        #compute the reward\n",
    "        _,dissagregated_reward= greedy_algo(beta_matrix_disaggregated, k, cp, m, alpha_param, custemer1_2.customer_landing, item_param)\n",
    "        \n",
    "        custemer1_2.reset()\n",
    "        \n",
    "        return dissagregated_reward[-1]\n",
    "     #case in which we compute the reward of a single customer\n",
    "    elif idx != [] :\n",
    "        #beta matrix\n",
    "        alpha=np.clip(customers_list_obj[idx[0]].beta_parameters_alpha, a_min=0.001,a_max=1)\n",
    "        beta=np.clip(customers_list_obj[idx[0]].beta_parameters_beta, a_min=0.001,a_max=1)\n",
    "        #alpha parameters and n items\n",
    "        alpha_params=np.random.dirichlet(customers_list_obj[idx[0]].alpha_param)\n",
    "        item_param=customers_list_obj[idx[0]].n_items_param\n",
    "        beta_matrix_disaggregated = np.random.beta(alpha,beta)\n",
    "        #compute the reward\n",
    "        _,dissagregated_reward= greedy_algo(beta_matrix_disaggregated, k, cp, m, alpha_params,customers_list_obj[idx[0]].customer_landing, item_param)\n",
    "        return dissagregated_reward[-1]\n",
    "    #if the list is empty\n",
    "    else:\n",
    "        dissagregated_reward=0\n",
    "        return dissagregated_reward\n",
    "        \n",
    "    "
   ]
  },
  {
   "cell_type": "code",
   "execution_count": 219,
   "id": "d08d417d",
   "metadata": {
    "cell_id": "d826481cf7cd40ecaeda57b73387a1f2",
    "deepnote_cell_height": 858,
    "deepnote_cell_type": "code",
    "tags": []
   },
   "outputs": [],
   "source": [
    "#the function has as input a list of the unique identifier of customers and divide it.\n",
    "#the division can be or by gender or by age \n",
    "# the variables gender and age are boolean values.\n",
    "#the function return 2 list divided by the selected feature\n",
    "def customer_tree(customer,gender,age):\n",
    "    if gender==age:\n",
    "        return print('error division on the gender or age')\n",
    "    \n",
    "    # the gender is identified by the second coordinates of the unique identifier\n",
    "    #so it is identified by the second position in the list, instead age is in the first position of the coordinates\n",
    "    if gender ==True:\n",
    "        customer_separation=1\n",
    "    if  age ==True:\n",
    "        customer_separation=0\n",
    "    #divs are the list in which there will be the customer divided so we append the first type of customer in the first list\n",
    "    div1=[customer[0]]\n",
    "    div2=[]\n",
    "    \n",
    "    #we cycle by the length of the the list as input\n",
    "    for i in range(len(customer)):\n",
    "        \n",
    "        #if the feature selected of the of the ith element in the input list is equal to the feature selected\n",
    "        #in the list div1 will be in the same list otherwise will be appended in the second list\n",
    "        #surely the first iteration will be equal to itself so we will remuve it\n",
    "        \n",
    "        if customer[i][customer_separation]==div1[0][customer_separation]:\n",
    "\n",
    "            div1.append(customer[i])\n",
    "\n",
    "        else:\n",
    "\n",
    "            div2.append(customer[i])\n",
    "\n",
    "    #this is needed to removee the repetition\n",
    "    custumer1=[]\n",
    "    customer2=[]\n",
    "    for l in div1:\n",
    "        if l not in custumer1:\n",
    "            custumer1.append(l)\n",
    "\n",
    "\n",
    "    customer2=div2        \n",
    "            \n",
    "            \n",
    "    return custumer1,customer2"
   ]
  },
  {
   "cell_type": "code",
   "execution_count": 220,
   "id": "05b28e45",
   "metadata": {
    "cell_id": "fe57b50e78fb43c0a6cfdb8f12c3993b",
    "deepnote_cell_height": 1920,
    "deepnote_cell_type": "code",
    "tags": []
   },
   "outputs": [],
   "source": [
    "#the function return the final split of the customer if the reward of the aggregated customer is higher the the splitted once \n",
    "#the return will return a list containing all the type of customer\n",
    "#instead if splitting the customer by a feature we obtain an higher reward from the greedy learner we will split\n",
    "#in case we continue to split\n",
    "def split_number_of_customer(customers_list_obj,k, cp, m, N):\n",
    "    customer=[(0,0),(1,0),(0,1),(1,1)]\n",
    "\n",
    "                ####aggregated\n",
    "    aggregated_reward=compute_reward_dissaggregated(customers_list_obj,[0,1,2,3],k, cp, m, N)\n",
    "\n",
    "                ####split by gender\n",
    "    customer1,customer2=customer_tree(customer,gender=True,age=False)\n",
    "    #find the position of the first segmentation\n",
    "    idx_customer1=position_customer(customers_list_obj,customer1)\n",
    "    #compute the reward of the first segmentation\n",
    "    reward_customer1=compute_reward_dissaggregated(customers_list_obj,idx_customer1,k, cp, m,  N)\n",
    "    #find the index of the second segmentation\n",
    "    idx_customer2=position_customer(customers_list_obj,customer2)\n",
    "    #compute the reward\n",
    "    reward_customer2=compute_reward_dissaggregated(customers_list_obj,idx_customer2,k, cp, m, N)\n",
    "    #compute the gender segmentation\n",
    "    gender_reward=reward_customer1+reward_customer2\n",
    "\n",
    "                ####split by age####\n",
    "    #divide customer by age\n",
    "    customer3,customer4=customer_tree(customer,gender=False,age=True)\n",
    "    #find position of first segmentation\n",
    "    idx_customer3=position_customer(customers_list_obj,customer3)\n",
    "    #compute the reward\n",
    "    reward_customer3=compute_reward_dissaggregated(customers_list_obj,idx_customer3,k, cp, m, N)\n",
    "    #find the index of second segmentation\n",
    "    idx_customer4=position_customer(customers_list_obj,customer4)\n",
    "    #compute the reward\n",
    "    reward_customer4=compute_reward_dissaggregated(customers_list_obj,idx_customer4,k, cp, m, N)           \n",
    "    #sum the reward of the age segmentation\n",
    "    reward_age=reward_customer4+reward_customer3\n",
    "    \n",
    "    #creating a dictionary to make comparison between the results\n",
    "    var = {reward_age:[\"reward_age\",reward_age,customer3,customer4],gender_reward:[\"gender_reward\",gender_reward,customer1,customer2],aggregated_reward:[\"aggregated_reward\",aggregated_reward,customer]}\n",
    "    #get the name of the highest reward\n",
    "    name_var_max=var.get(max(var))[0]\n",
    "    #create a new dictionary where will be store the result of the function\n",
    "    dict_split_customer={'split':[]}\n",
    "\n",
    "   # if the maximum reward is the aggregated one, we have just to return the list of all the customer together\n",
    "    if name_var_max == 'aggregated_reward':\n",
    "        dict_split_customer['split'].append(customer)\n",
    "        return dict_split_customer\n",
    "    #else check the name of the higher vale and divide the list by the other binary feature\n",
    "    else:\n",
    "        name_first_split = name_var_max\n",
    "\n",
    "        if name_first_split == 'reward_age':\n",
    "            gender=True\n",
    "            age=False\n",
    "        else:\n",
    "            gender=False\n",
    "            age=True\n",
    "            \n",
    "            \n",
    "        \n",
    "        #first branch of the tree\n",
    "        customer10=var[max(var)][2]\n",
    "        #customer20=var[max(var)][3]\n",
    "\n",
    "        \n",
    "        customer11,customer12=customer_tree(customer10,gender=gender,age=age)\n",
    "\n",
    "        #first second splitt\n",
    "        idx_customer11=position_customer(customers_list_obj,customer11)\n",
    "        reward_customer11=compute_reward_dissaggregated(customers_list_obj,idx_customer11,k, cp, m, N)\n",
    "\n",
    "        #second second split\n",
    "        idx_customer12=position_customer(customers_list_obj,customer12)\n",
    "        reward_customer12=compute_reward_dissaggregated(customers_list_obj,idx_customer12,k, cp, m, N)\n",
    "        if reward_customer12 + reward_customer11 > var[max(var)][1]:\n",
    "                dict_split_customer['split'].append(customer11)\n",
    "                dict_split_customer['split'].append(customer12)\n",
    "\n",
    "        else:\n",
    "            dict_split_customer['split'].append(var[max(var)][2])\n",
    "        #second branch of the tree\n",
    "        customer20=var[max(var)][3]\n",
    "        customer21,customer22=customer_tree(customer20,gender=False,age=True)\n",
    "\n",
    "        #second list\n",
    "         #split by age first\n",
    "        idx_customer21=position_customer(customers_list_obj,customer21)\n",
    "        reward_customer21=compute_reward_dissaggregated(customers_list_obj,idx_customer21,k, cp, m, N, )\n",
    "\n",
    "        #split by age second\n",
    "        idx_customer22=position_customer(customers_list_obj,customer22)\n",
    "        reward_customer22=compute_reward_dissaggregated(customers_list_obj,idx_customer22,k, cp, m,  N)\n",
    "        if reward_customer22 + reward_customer21 > var[max(var)][1]:\n",
    "                dict_split_customer['split'].append(customer21)\n",
    "                dict_split_customer['split'].append(customer22)\n",
    "\n",
    "        else:\n",
    "            dict_split_customer['split'].append(var[max(var)][3])   \n",
    "\n",
    "\n",
    "\n",
    "    return dict_split_customer\n"
   ]
  },
  {
   "cell_type": "markdown",
   "id": "39db9338",
   "metadata": {
    "cell_id": "860801955554414fae0b273bcc501b79",
    "deepnote_cell_type": "text-cell-h3",
    "formattedRanges": [],
    "is_collapsed": false,
    "tags": []
   },
   "source": [
    "### creation of learners"
   ]
  },
  {
   "cell_type": "code",
   "execution_count": 221,
   "id": "ef9b0330",
   "metadata": {
    "cell_id": "9687abed47124b08959214a427506e61",
    "deepnote_cell_height": 1128,
    "deepnote_cell_type": "code",
    "tags": []
   },
   "outputs": [],
   "source": [
    "#the function enter a list of customer object a list of lists containing binary features and dat to \n",
    "#initialize ucb. it returns a list of ucb object, the number of ucb object in the  is equal to the dimention\n",
    "#of the list of list.\n",
    "def creation_of_ucb(customers_list_obj,list_of_division,cr,t):\n",
    "    #create number of division equal to the number of segmentation of customer\n",
    "    ucb_list=[]\n",
    "    #if the first element of the list is a customer object it means that the we have to merge all the customer togheter\n",
    "    if type(list_of_division[0])!=customer:\n",
    "        #cycle of the the list\n",
    "        for segment in range(len(list_of_division)):\n",
    "            list_of_customer_to_merge=[]\n",
    "            #find the position f the customer inside the former list\n",
    "            idx=position_customer(customers_list_obj,list_of_division[segment])\n",
    "            if len(idx)>1:\n",
    "                for c in range(len(idx)):\n",
    "\n",
    "                    list_of_customer_to_merge.append(customers_list_obj[c])\n",
    "                    \n",
    "                # append the learners\n",
    "                ucb_list.append(ucb(cr,list_of_division[segment],t))\n",
    "                #built the parameters to inizialize the ucb\n",
    "                builter_learner=agg_customer()\n",
    "                builter_learner.generation(list_of_customer_to_merge)\n",
    "                #update the parameters of the ucb\n",
    "                ucb_list[segment].mean_rewards=builter_learner.mean_rewards\n",
    "                ucb_list[segment].width_rewards=builter_learner.width_rewards\n",
    "\n",
    "                builter_learner.reset()\n",
    "                \n",
    "            \n",
    "            #if the custumer inside the list of list is only one we have to\n",
    "            #initialize the new ucb with the value of the single customer\n",
    "            elif len(idx)==1:\n",
    "                    #creation of ucb\n",
    "                ucb_list.append(ucb(cr,[customers_list_obj[idx[0]].type_of_customer],t))\n",
    " \n",
    "                #updated the values\n",
    "                ucb_list[segment].mean_rewards=customers_list_obj[idx[0]].mean_rewards\n",
    "                ucb_list[segment].width_rewards=customers_list_obj[idx[0]].width_rewards\n",
    "\n",
    "\n",
    "\n",
    "        \n",
    "    #all the customer must be merged togheter\n",
    "    else:\n",
    "        \n",
    "        tot_list=[(0, 0), (0, 1), (1, 0), (1, 1)]\n",
    "        #creation of the merge\n",
    "        builter_learner=agg_customer()\n",
    "        #generate the builter\n",
    "        builter_learner.generation(customers_list_obj)\n",
    "        #create the ucb \n",
    "        ucb_list.append(ucb(cr,tot_list,t))\n",
    "        #inizialize the values of the learner\n",
    "        ucb_list[0].mean_rewards=builter_learner.mean_rewards\n",
    "        ucb_list[0].width_rewards=builter_learner.width_rewards\n",
    "\n",
    "\n",
    "    \n",
    "    return ucb_list"
   ]
  },
  {
   "cell_type": "code",
   "execution_count": 222,
   "id": "f1b22058",
   "metadata": {
    "cell_id": "9ff46053faad4f76b1e9e1442158728b",
    "deepnote_cell_height": 979,
    "deepnote_cell_type": "code",
    "tags": []
   },
   "outputs": [],
   "source": [
    "\n",
    "#the way of functioning is the same between creation of ucb and creation_of_ts\n",
    "def creation_of_ts(customers_list_obj,list_of_division,cr):\n",
    "    #create number of division equal to the number of segmentation of customer\n",
    "    ts_list=[]\n",
    "    if type(list_of_division[0])!=customer:\n",
    "\n",
    "    \n",
    "        for segment in range(len(list_of_division)):\n",
    "            list_of_customer_to_merge=[]\n",
    "\n",
    "            idx=position_customer(customers_list_obj,list_of_division[segment])\n",
    "            if len(idx)>1:\n",
    "                for c in range(len(idx)):\n",
    "                    list_of_customer_to_merge.append(customers_list_obj[c])\n",
    "                    \n",
    "                    \n",
    "                ts_list.append(TS_Learner2(cr,list_of_division[segment]))\n",
    "                builter_learner=agg_customer()\n",
    "                builter_learner.generation(list_of_customer_to_merge)\n",
    "\n",
    "                ts_list[segment].n_items_param=builter_learner.items\n",
    "                ts_list[segment].alpha_param=builter_learner.alpha_landing\n",
    "                \n",
    "                ts_list[segment].beta_parameters_alpha=builter_learner.alpha\n",
    "                ts_list[segment].beta_parameters_beta=builter_learner.beta\n",
    "\n",
    "                builter_learner.reset()\n",
    "                \n",
    "            \n",
    "            \n",
    "            elif len(idx)==1:\n",
    " \n",
    "                ts_list.append(TS_Learner2(cr,[customers_list_obj[idx[0]].type_of_customer]))\n",
    "                ts_list[segment].n_items_param=customers_list_obj[idx[0]].n_items_param\n",
    "                ts_list[segment].alpha_param=customers_list_obj[idx[0]].alpha_param\n",
    "                ts_list[segment].beta_parameters_alpha=customers_list_obj[idx[0]].beta_parameters_alpha\n",
    "                ts_list[segment].beta_parameters_beta=customers_list_obj[idx[0]].beta_parameters_alpha\n",
    "\n",
    "    else:\n",
    "        tot_list=[(0, 0), (0, 1), (1, 0), (1, 1)]\n",
    "        builter_learner=agg_customer()\n",
    "        builter_learner.generation(customers_list_obj)\n",
    "        ts_list.append(TS_Learner2(cr,tot_list))\n",
    "        ts_list[0].n_items_param=builter_learner.items\n",
    "        ts_list[0].alpha_param=builter_learner.alpha_landing\n",
    "        ts_list[0].beta_parameters_alpha=builter_learner.alpha\n",
    "        ts_list[0].beta_parameters_beta=builter_learner.beta\n",
    "\n",
    "\n",
    "    \n",
    "    return ts_list"
   ]
  },
  {
   "cell_type": "markdown",
   "id": "630bd71e",
   "metadata": {
    "cell_id": "054e9e2c036b4973bb5efa6ccbab2b03",
    "deepnote_cell_type": "text-cell-h3",
    "formattedRanges": [],
    "is_collapsed": false,
    "tags": []
   },
   "source": [
    "### testing the enviroment"
   ]
  },
  {
   "cell_type": "markdown",
   "id": "0edd4a28",
   "metadata": {
    "cell_id": "83a61fcd29e14a798ae3816c631633bc",
    "deepnote_cell_type": "text-cell-p",
    "formattedRanges": [],
    "is_collapsed": false,
    "tags": []
   },
   "source": [
    "ucb"
   ]
  },
  {
   "cell_type": "code",
   "execution_count": 253,
   "id": "192fc8d1",
   "metadata": {
    "cell_id": "076baebaea56497691c0362358dfbc98",
    "deepnote_cell_height": 1704,
    "deepnote_cell_type": "code",
    "tags": []
   },
   "outputs": [
    {
     "name": "stderr",
     "output_type": "stream",
     "text": [
      "/Users/sivhansen/opt/anaconda3/lib/python3.8/site-packages/numpy/core/fromnumeric.py:3419: RuntimeWarning: Mean of empty slice.\n",
      "  return _methods._mean(a, axis=axis, dtype=dtype,\n",
      "/Users/sivhansen/opt/anaconda3/lib/python3.8/site-packages/numpy/core/_methods.py:188: RuntimeWarning: invalid value encountered in double_scalars\n",
      "  ret = ret.dtype.type(ret / rcount)\n"
     ]
    }
   ],
   "source": [
    "\n",
    "#initializatio of 4 different types of customer each with a unique pair of binary features\n",
    "a=b=[0,1]\n",
    "t=0\n",
    "customers_list_obj=[]\n",
    "for i in a:\n",
    "    for j in b:\n",
    "        customers_list_obj.append(customer(cr,i,j))\n",
    "        \n",
    "#setting the parameters\n",
    "\n",
    "\n",
    "#creating empty list to store regret and reward\n",
    "#####ucb######\n",
    "ucb_Regret7 = []\n",
    "ucb_Reward7 =[]\n",
    "    \n",
    "\n",
    "#creating the enviroment\n",
    "env=Environment7(conversion_rates, margins, click_prob, avg_items, alpha_params, N_parameters)\n",
    "\n",
    "\n",
    "for n in range(n_exp):\n",
    "    \n",
    "    #####ucb######\n",
    "\n",
    "    instant_regret_ucb7 = []\n",
    "    instant_reward_ucb7 = []\n",
    "    ucb_list=[]\n",
    "        \n",
    "    #the function return a list with one learner, the learner is a UCB and it considers all customers together\n",
    "    ucb_list=creation_of_ucb(customers_list_obj,customers_list_obj,cr,t=0)\n",
    "    \n",
    "    \n",
    "     #####ts######\n",
    "    instant_regret_ts = []\n",
    "    instant_reward_ts = []\n",
    "    ts_list=[]\n",
    "    #the function return a list with one learner, the learner is a TS and it considers all customers together\n",
    "    ts_list=creation_of_ts(customers_list_obj,customers_list_obj,cr)    \n",
    "    instant_regret = []\n",
    "    for t in range (0,T):\n",
    "        \n",
    "        # evry 14 days  check if we should divide the customers\n",
    "        if t%14 ==0 and t !=0 :\n",
    "            #the function return a dictionary, which contain the segmentation of the customers \n",
    "            division=split_number_of_customer(customers_list_obj,k, cp, margins,  N)\n",
    "            new_segmentation=division['split']\n",
    "            # create a number of learner equal to the split found above\n",
    "            #creating of ubc\n",
    "            ucb_list=creation_of_ucb(customers_list_obj,new_segmentation,cr,t)\n",
    "            #creatinon of ts\n",
    "            ts_list=creation_of_ts(customers_list_obj,new_segmentation,cr)\n",
    "            \n",
    "                            #####UCB####\n",
    "        \n",
    "        instant_reward_per_agent_ucb=0\n",
    "        # cycle over all the learner inside the ucb list\n",
    "        for agent_ucb in (ucb_list):\n",
    "            \n",
    "            #interaction\n",
    "            pulled_arm = agent_ucb.pull_arm(k, cp, m, list(alpha), n_items)\n",
    "            _, _, total_reward, X, _, _, Ns, features_dataset,sum_rew_per_prod  = env.round_entire_day(pulled_arm,agent_ucb.type_of_customer)\n",
    "            agent_ucb.update(pulled_arm, X, sum_rew_per_prod)\n",
    "            \n",
    "            #sum the reward per all the agents\n",
    "            instant_reward_per_agent_ucb +=total_reward\n",
    "           \n",
    "            \n",
    "            # find the customers who interacted with the environment and update the values based on their behavior\n",
    "            idx=position_customer(customers_list_obj,agent_ucb.type_of_customer)\n",
    "            for pos in range(len(idx)):\n",
    "                customers_list_obj[pos].update(features_dataset,pulled_arm,Ns)\n",
    "                \n",
    "            #save regret an reward\n",
    "        instant_regret_ucb7.append(max(0,opt - instant_reward_per_agent_ucb)) # max since regret cannot be negative\n",
    "        instant_reward_ucb7.append(instant_reward_per_agent_ucb)\n",
    "\n",
    "####ucb####                  \n",
    "    cum_regret_ucb7 = np.cumsum(instant_regret_ucb7)\n",
    "    cum_reward_ucb7= np.cumsum(instant_reward_ucb7)\n",
    "    ucb_Regret7 = np.append(ucb_Regret7, cum_regret_ucb7)\n",
    "    ucb_Reward7 = np.append(ucb_Reward7, cum_reward_ucb7)\n",
    "\n",
    "\n",
    "#####ucb######\n",
    "ucb_Regret7 = np.array(ucb_Regret7)\n",
    "ucb_Reward7 = np.array(ucb_Reward7)\n"
   ]
  },
  {
   "cell_type": "code",
   "execution_count": 266,
   "id": "1aef9371",
   "metadata": {
    "cell_id": "9df65a3ff16b433294194bf3f92f2796",
    "deepnote_cell_height": 192,
    "deepnote_cell_type": "code",
    "tags": []
   },
   "outputs": [
    {
     "data": {
      "image/png": "[encoded data removed]",
      "text/plain": [
       "<Figure size 720x504 with 1 Axes>"
      ]
     },
     "metadata": {},
     "output_type": "display_data"
    }
   ],
   "source": [
    "\n",
    "mean_regret_ucb7 = np.mean(np.reshape(ucb_Regret7, [n_exp, T]), axis = 0)\n",
    "std_dev_regret_ucb7 = np.std(np.reshape(ucb_Regret7, [n_exp, T]), axis=0)/np.sqrt(n_exp)\n",
    "plt.figure(figsize = (10,7))\n",
    "plt.plot(mean_regret_ucb7)\n",
    "plt.fill_between(range(T),mean_regret_ucb7-std_dev_regret_ucb7,mean_regret_ucb7+std_dev_regret_ucb7,alpha =0.4)\n",
    "plt.title(\"Context generation UCB - Cumulative Regret\", fontsize = 20)\n",
    "plt.ylabel(\"Regret\", fontsize = 16)\n",
    "plt.xlabel(\"Day\", fontsize = 16)\n",
    "plt.xticks(fontsize = 16)\n",
    "plt.yticks(fontsize = 16)\n",
    "plt.show()"
   ]
  },
  {
   "cell_type": "code",
   "execution_count": 268,
   "id": "38861795",
   "metadata": {
    "cell_id": "bcf2b2ffb3444563a6544f66c08cbdee",
    "deepnote_cell_height": 192,
    "deepnote_cell_type": "code",
    "tags": []
   },
   "outputs": [
    {
     "data": {
      "image/png": "[encoded data removed]",
      "text/plain": [
       "<Figure size 720x504 with 1 Axes>"
      ]
     },
     "metadata": {},
     "output_type": "display_data"
    }
   ],
   "source": [
    "mean_reward_ucb7 = np.mean(np.reshape(ucb_Reward7, [n_exp, T]), axis = 0)\n",
    "std_dev_reward_ucb7 = np.std(np.reshape(ucb_Reward7, [n_exp, T]), axis=0)/np.sqrt(n_exp)\n",
    "plt.figure(figsize = (10,7))\n",
    "plt.plot(mean_reward_ucb7)\n",
    "plt.fill_between(range(T),mean_reward_ucb7-std_dev_reward_ucb7,mean_reward_ucb7+std_dev_reward_ucb7,alpha =0.4)\n",
    "plt.title(\"Context generation UCB - Cumulative Reward\", fontsize = 20)\n",
    "plt.ylabel(\"Reward\", fontsize = 16)\n",
    "plt.xlabel(\"Day\", fontsize = 16)\n",
    "plt.xticks(fontsize = 16)\n",
    "plt.yticks(fontsize = 16)\n",
    "plt.show()"
   ]
  },
  {
   "cell_type": "code",
   "execution_count": 269,
   "id": "5615fb87",
   "metadata": {},
   "outputs": [
    {
     "name": "stdout",
     "output_type": "stream",
     "text": [
      "Average reward for TS7-approach:  2084537.2\n",
      "Average regret for TS7-approach:  30448.836847826107\n"
     ]
    }
   ],
   "source": [
    "average_reward = np.mean(mean_reward_ucb7)\n",
    "average_regret = np.mean(mean_regret_ucb7)\n",
    "\n",
    "print(\"Average reward for TS7-approach: \", average_reward)\n",
    "print(\"Average regret for TS7-approach: \", average_regret)"
   ]
  },
  {
   "cell_type": "markdown",
   "id": "44b6bd00",
   "metadata": {
    "cell_id": "e4375c54c6e747dfae624e9dd85df76b",
    "deepnote_cell_type": "text-cell-p",
    "formattedRanges": [],
    "is_collapsed": false,
    "tags": []
   },
   "source": [
    "#### Ts_learner"
   ]
  },
  {
   "cell_type": "code",
   "execution_count": 270,
   "id": "010a61ef",
   "metadata": {
    "cell_id": "d26f3e37d0984875a1834c2f4dd628ca",
    "deepnote_cell_height": 1488,
    "deepnote_cell_type": "code",
    "tags": []
   },
   "outputs": [
    {
     "name": "stderr",
     "output_type": "stream",
     "text": [
      "/Users/sivhansen/opt/anaconda3/lib/python3.8/site-packages/numpy/core/fromnumeric.py:3419: RuntimeWarning: Mean of empty slice.\n",
      "  return _methods._mean(a, axis=axis, dtype=dtype,\n",
      "/Users/sivhansen/opt/anaconda3/lib/python3.8/site-packages/numpy/core/_methods.py:188: RuntimeWarning: invalid value encountered in double_scalars\n",
      "  ret = ret.dtype.type(ret / rcount)\n"
     ]
    },
    {
     "ename": "KeyboardInterrupt",
     "evalue": "",
     "output_type": "error",
     "traceback": [
      "\u001b[0;31m---------------------------------------------------------------------------\u001b[0m",
      "\u001b[0;31mKeyboardInterrupt\u001b[0m                         Traceback (most recent call last)",
      "\u001b[0;32m<ipython-input-270-4fe4aaf1789f>\u001b[0m in \u001b[0;36m<module>\u001b[0;34m\u001b[0m\n\u001b[1;32m     43\u001b[0m         \u001b[0;32mfor\u001b[0m \u001b[0magent_ts\u001b[0m \u001b[0;32min\u001b[0m \u001b[0;34m(\u001b[0m\u001b[0mts_list\u001b[0m\u001b[0;34m)\u001b[0m\u001b[0;34m:\u001b[0m\u001b[0;34m\u001b[0m\u001b[0;34m\u001b[0m\u001b[0m\n\u001b[1;32m     44\u001b[0m                 \u001b[0;31m#interact\u001b[0m\u001b[0;34m\u001b[0m\u001b[0;34m\u001b[0m\u001b[0;34m\u001b[0m\u001b[0m\n\u001b[0;32m---> 45\u001b[0;31m                 \u001b[0mpulled_arm\u001b[0m \u001b[0;34m=\u001b[0m \u001b[0magent_ts\u001b[0m\u001b[0;34m.\u001b[0m\u001b[0mpull_arm\u001b[0m\u001b[0;34m(\u001b[0m\u001b[0mk\u001b[0m\u001b[0;34m,\u001b[0m\u001b[0mcp\u001b[0m\u001b[0;34m,\u001b[0m\u001b[0mm\u001b[0m\u001b[0;34m,\u001b[0m\u001b[0magent_ts\u001b[0m\u001b[0;34m.\u001b[0m\u001b[0malpha_param\u001b[0m\u001b[0;34m,\u001b[0m\u001b[0magent_ts\u001b[0m\u001b[0;34m.\u001b[0m\u001b[0mn_items_param\u001b[0m\u001b[0;34m)\u001b[0m\u001b[0;34m\u001b[0m\u001b[0;34m\u001b[0m\u001b[0m\n\u001b[0m\u001b[1;32m     46\u001b[0m                 \u001b[0m_\u001b[0m\u001b[0;34m,\u001b[0m \u001b[0m_\u001b[0m\u001b[0;34m,\u001b[0m \u001b[0mtotal_reward\u001b[0m\u001b[0;34m,\u001b[0m \u001b[0mX\u001b[0m\u001b[0;34m,\u001b[0m \u001b[0mn_items_dataset\u001b[0m\u001b[0;34m,\u001b[0m \u001b[0malpha_sampled\u001b[0m\u001b[0;34m,\u001b[0m \u001b[0mNs\u001b[0m\u001b[0;34m,\u001b[0m \u001b[0mfeatures_dataset\u001b[0m\u001b[0;34m,\u001b[0m\u001b[0m_\u001b[0m\u001b[0;34m=\u001b[0m \u001b[0menv\u001b[0m\u001b[0;34m.\u001b[0m\u001b[0mround_entire_day\u001b[0m\u001b[0;34m(\u001b[0m\u001b[0mpulled_arm\u001b[0m\u001b[0;34m,\u001b[0m\u001b[0magent_ts\u001b[0m\u001b[0;34m.\u001b[0m\u001b[0mtype_of_customer\u001b[0m\u001b[0;34m)\u001b[0m\u001b[0;34m\u001b[0m\u001b[0;34m\u001b[0m\u001b[0m\n\u001b[1;32m     47\u001b[0m                 \u001b[0magent_ts\u001b[0m\u001b[0;34m.\u001b[0m\u001b[0mupdate\u001b[0m\u001b[0;34m(\u001b[0m\u001b[0mpulled_arm\u001b[0m\u001b[0;34m,\u001b[0m\u001b[0mX\u001b[0m\u001b[0;34m,\u001b[0m \u001b[0mn_items_dataset\u001b[0m\u001b[0;34m,\u001b[0m \u001b[0malphas_dataset\u001b[0m\u001b[0;34m,\u001b[0m \u001b[0mNs\u001b[0m\u001b[0;34m)\u001b[0m\u001b[0;34m\u001b[0m\u001b[0;34m\u001b[0m\u001b[0m\n",
      "\u001b[0;32m<ipython-input-216-7b9e5897ceaa>\u001b[0m in \u001b[0;36mpull_arm\u001b[0;34m(self, k, cp, m, alpha, n_items)\u001b[0m\n\u001b[1;32m     20\u001b[0m         \u001b[0malphas_estimated\u001b[0m \u001b[0;34m=\u001b[0m \u001b[0mnp\u001b[0m\u001b[0;34m.\u001b[0m\u001b[0mrandom\u001b[0m\u001b[0;34m.\u001b[0m\u001b[0mdirichlet\u001b[0m\u001b[0;34m(\u001b[0m\u001b[0mself\u001b[0m\u001b[0;34m.\u001b[0m\u001b[0malpha_param\u001b[0m\u001b[0;34m)\u001b[0m\u001b[0;34m\u001b[0m\u001b[0;34m\u001b[0m\u001b[0m\n\u001b[1;32m     21\u001b[0m \u001b[0;34m\u001b[0m\u001b[0m\n\u001b[0;32m---> 22\u001b[0;31m         \u001b[0mpull_arm\u001b[0m\u001b[0;34m,\u001b[0m\u001b[0m_\u001b[0m\u001b[0;34m=\u001b[0m \u001b[0mgreedy_algo\u001b[0m\u001b[0;34m(\u001b[0m\u001b[0mbeta_matrix\u001b[0m\u001b[0;34m,\u001b[0m \u001b[0mk\u001b[0m\u001b[0;34m,\u001b[0m \u001b[0mcp\u001b[0m\u001b[0;34m,\u001b[0m \u001b[0mm\u001b[0m\u001b[0;34m,\u001b[0m \u001b[0malphas_estimated\u001b[0m\u001b[0;34m,\u001b[0m \u001b[0mN\u001b[0m\u001b[0;34m,\u001b[0m \u001b[0mn_items_estimated\u001b[0m\u001b[0;34m)\u001b[0m\u001b[0;34m\u001b[0m\u001b[0;34m\u001b[0m\u001b[0m\n\u001b[0m\u001b[1;32m     23\u001b[0m \u001b[0;34m\u001b[0m\u001b[0m\n\u001b[1;32m     24\u001b[0m         \u001b[0;32mreturn\u001b[0m \u001b[0mpull_arm\u001b[0m\u001b[0;34m\u001b[0m\u001b[0;34m\u001b[0m\u001b[0m\n",
      "\u001b[0;32m<ipython-input-113-955100b10d8a>\u001b[0m in \u001b[0;36mgreedy_algo\u001b[0;34m(cr, k, cp, m, alpha, N, n_items)\u001b[0m\n\u001b[1;32m     45\u001b[0m \u001b[0;34m\u001b[0m\u001b[0m\n\u001b[1;32m     46\u001b[0m                 \u001b[0;31m# Monte carlo simulation\u001b[0m\u001b[0;34m\u001b[0m\u001b[0;34m\u001b[0m\u001b[0;34m\u001b[0m\u001b[0m\n\u001b[0;32m---> 47\u001b[0;31m                 \u001b[0mest\u001b[0m \u001b[0;34m=\u001b[0m  \u001b[0mestimate_reward_Montecarlo\u001b[0m\u001b[0;34m(\u001b[0m\u001b[0mk\u001b[0m\u001b[0;34m,\u001b[0m\u001b[0mcp\u001b[0m\u001b[0;34m,\u001b[0m \u001b[0mcr_cur\u001b[0m\u001b[0;34m,\u001b[0m \u001b[0mmar_cur\u001b[0m\u001b[0;34m,\u001b[0m \u001b[0malpha\u001b[0m\u001b[0;34m,\u001b[0m \u001b[0mN\u001b[0m\u001b[0;34m,\u001b[0m \u001b[0mn_items\u001b[0m\u001b[0;34m)\u001b[0m\u001b[0;34m\u001b[0m\u001b[0;34m\u001b[0m\u001b[0m\n\u001b[0m\u001b[1;32m     48\u001b[0m                 \u001b[0mrews\u001b[0m\u001b[0;34m[\u001b[0m\u001b[0mprod\u001b[0m\u001b[0;34m]\u001b[0m \u001b[0;34m=\u001b[0m \u001b[0mest\u001b[0m\u001b[0;34m\u001b[0m\u001b[0;34m\u001b[0m\u001b[0m\n\u001b[1;32m     49\u001b[0m \u001b[0;34m\u001b[0m\u001b[0m\n",
      "\u001b[0;32m<ipython-input-109-6f74e5b4ff60>\u001b[0m in \u001b[0;36mestimate_reward_Montecarlo\u001b[0;34m(k, cp, cr, margins, alpha, N, n_items)\u001b[0m\n\u001b[1;32m      3\u001b[0m \u001b[0;34m\u001b[0m\u001b[0m\n\u001b[1;32m      4\u001b[0m     \u001b[0;31m# Get the activation probabilities\u001b[0m\u001b[0;34m\u001b[0m\u001b[0;34m\u001b[0m\u001b[0;34m\u001b[0m\u001b[0m\n\u001b[0;32m----> 5\u001b[0;31m     \u001b[0mactivation_probs\u001b[0m \u001b[0;34m=\u001b[0m \u001b[0mmonte_carlo_sim\u001b[0m\u001b[0;34m(\u001b[0m\u001b[0mk\u001b[0m\u001b[0;34m,\u001b[0m \u001b[0mcp\u001b[0m\u001b[0;34m,\u001b[0m \u001b[0mcr\u001b[0m\u001b[0;34m,\u001b[0m \u001b[0malpha\u001b[0m\u001b[0;34m)\u001b[0m\u001b[0;34m\u001b[0m\u001b[0;34m\u001b[0m\u001b[0m\n\u001b[0m\u001b[1;32m      6\u001b[0m \u001b[0;34m\u001b[0m\u001b[0m\n\u001b[1;32m      7\u001b[0m     \u001b[0;31m# Multiply with expected number of items bought and known margin\u001b[0m\u001b[0;34m\u001b[0m\u001b[0;34m\u001b[0m\u001b[0;34m\u001b[0m\u001b[0m\n",
      "\u001b[0;32m<ipython-input-108-443d20865bdf>\u001b[0m in \u001b[0;36mmonte_carlo_sim\u001b[0;34m(k, cp, cr, alpha)\u001b[0m\n\u001b[1;32m      6\u001b[0m     \u001b[0;32mfor\u001b[0m \u001b[0mk\u001b[0m \u001b[0;32min\u001b[0m \u001b[0mrange\u001b[0m\u001b[0;34m(\u001b[0m\u001b[0;36m0\u001b[0m\u001b[0;34m,\u001b[0m\u001b[0mk\u001b[0m\u001b[0;34m)\u001b[0m\u001b[0;34m:\u001b[0m\u001b[0;34m\u001b[0m\u001b[0;34m\u001b[0m\u001b[0m\n\u001b[1;32m      7\u001b[0m         \u001b[0;31m# 2. Generate randomly a live-edge graph\u001b[0m\u001b[0;34m\u001b[0m\u001b[0;34m\u001b[0m\u001b[0;34m\u001b[0m\u001b[0m\n\u001b[0;32m----> 8\u001b[0;31m         \u001b[0mnodes_activated\u001b[0m \u001b[0;34m=\u001b[0m \u001b[0mgenerate_live_edge_graph\u001b[0m\u001b[0;34m(\u001b[0m\u001b[0malpha\u001b[0m\u001b[0;34m,\u001b[0m \u001b[0mcp\u001b[0m\u001b[0;34m,\u001b[0m \u001b[0mcr\u001b[0m\u001b[0;34m)\u001b[0m\u001b[0;34m\u001b[0m\u001b[0;34m\u001b[0m\u001b[0m\n\u001b[0m\u001b[1;32m      9\u001b[0m \u001b[0;34m\u001b[0m\u001b[0m\n\u001b[1;32m     10\u001b[0m         \u001b[0;31m# 3. For every node i that is activated assign zi = zi + 1\u001b[0m\u001b[0;34m\u001b[0m\u001b[0;34m\u001b[0m\u001b[0;34m\u001b[0m\u001b[0m\n",
      "\u001b[0;32m<ipython-input-107-20fb569ed6db>\u001b[0m in \u001b[0;36mgenerate_live_edge_graph\u001b[0;34m(alphas, cp, cr, n_steps_max)\u001b[0m\n\u001b[1;32m      7\u001b[0m \u001b[0;34m\u001b[0m\u001b[0m\n\u001b[1;32m      8\u001b[0m     \u001b[0;31m# get seed\u001b[0m\u001b[0;34m\u001b[0m\u001b[0;34m\u001b[0m\u001b[0;34m\u001b[0m\u001b[0m\n\u001b[0;32m----> 9\u001b[0;31m     \u001b[0mlanding_product\u001b[0m \u001b[0;34m=\u001b[0m \u001b[0mnp\u001b[0m\u001b[0;34m.\u001b[0m\u001b[0mrandom\u001b[0m\u001b[0;34m.\u001b[0m\u001b[0mchoice\u001b[0m\u001b[0;34m(\u001b[0m\u001b[0;36m6\u001b[0m\u001b[0;34m,\u001b[0m \u001b[0mp\u001b[0m \u001b[0;34m=\u001b[0m \u001b[0malphas\u001b[0m\u001b[0;34m)\u001b[0m\u001b[0;34m\u001b[0m\u001b[0;34m\u001b[0m\u001b[0m\n\u001b[0m\u001b[1;32m     10\u001b[0m     \u001b[0minitial_active_nodes\u001b[0m \u001b[0;34m=\u001b[0m \u001b[0mnp\u001b[0m\u001b[0;34m.\u001b[0m\u001b[0mzeros\u001b[0m\u001b[0;34m(\u001b[0m\u001b[0mn_nodes\u001b[0m\u001b[0;34m)\u001b[0m\u001b[0;34m\u001b[0m\u001b[0;34m\u001b[0m\u001b[0m\n\u001b[1;32m     11\u001b[0m     \u001b[0;32mif\u001b[0m \u001b[0;34m(\u001b[0m\u001b[0mlanding_product\u001b[0m \u001b[0;34m>\u001b[0m \u001b[0;36m0\u001b[0m\u001b[0;34m)\u001b[0m \u001b[0;34m&\u001b[0m \u001b[0;34m(\u001b[0m\u001b[0mnp\u001b[0m\u001b[0;34m.\u001b[0m\u001b[0mrandom\u001b[0m\u001b[0;34m.\u001b[0m\u001b[0mbinomial\u001b[0m\u001b[0;34m(\u001b[0m\u001b[0;36m1\u001b[0m\u001b[0;34m,\u001b[0m \u001b[0mcr\u001b[0m\u001b[0;34m[\u001b[0m\u001b[0mlanding_product\u001b[0m\u001b[0;34m-\u001b[0m\u001b[0;36m1\u001b[0m\u001b[0;34m]\u001b[0m\u001b[0;34m)\u001b[0m\u001b[0;34m)\u001b[0m\u001b[0;34m:\u001b[0m\u001b[0;34m\u001b[0m\u001b[0;34m\u001b[0m\u001b[0m\n",
      "\u001b[0;31mKeyboardInterrupt\u001b[0m: "
     ]
    }
   ],
   "source": [
    "\n",
    "#initializatio of 4 different types of customer each with a unique pair of binary features\n",
    "a=b=[0,1]\n",
    "t=0\n",
    "customers_list_obj=[]\n",
    "for i in a:\n",
    "    for j in b:\n",
    "        customers_list_obj.append(customer(cr,i,j))\n",
    "        \n",
    "\n",
    "    \n",
    "#####ts######\n",
    "ts_Regret7 = []\n",
    "ts_Reward7 = []\n",
    "\n",
    "#creating the enviroment\n",
    "env=Environment7(conversion_rates, margins, click_prob, avg_items, alpha_params, N_parameters)\n",
    "\n",
    "\n",
    "for n in range(1):    \n",
    "    \n",
    "     #####ts######\n",
    "    instant_regret_ts7 = []\n",
    "    instant_reward_ts7 = []\n",
    "    ts_list = []\n",
    "    #the function return a list with one learner, the learner is a TS and it considers all customers together\n",
    "    ts_list=creation_of_ts(customers_list_obj,customers_list_obj,cr)    \n",
    "    instant_regret = []\n",
    "    for t in range (0,T):\n",
    "        \n",
    "        # evry 14 days  check if we should divide the customers\n",
    "        if t%14 ==0 and t !=0 :\n",
    "            #the function return a dictionary, which contain the segmentation of the customers \n",
    "            division=split_number_of_customer(customers_list_obj,k, cp, margins,  N)\n",
    "            new_segmentation=division['split']\n",
    "            # create a number of learner equal to the split found above\n",
    "\n",
    "            #creatinon of ts\n",
    "            ts_list=creation_of_ts(customers_list_obj,new_segmentation,cr)\n",
    "\n",
    "\n",
    "            #####ts####\n",
    "        instant_reward_per_agent_ts=0\n",
    "        for agent_ts in (ts_list):\n",
    "                #interact\n",
    "                pulled_arm = agent_ts.pull_arm(k,cp,m,agent_ts.alpha_param,agent_ts.n_items_param)\n",
    "                _, _, total_reward, X, n_items_dataset, alpha_sampled, Ns, features_dataset,_= env.round_entire_day(pulled_arm,agent_ts.type_of_customer)\n",
    "                agent_ts.update(pulled_arm,X, n_items_dataset, alphas_dataset, Ns)\n",
    "                #save\n",
    "\n",
    "                #sum the reward per all the agents\n",
    "                instant_reward_per_agent_ts +=total_reward\n",
    "\n",
    "                #store the data\n",
    "                idx=position_customer(customers_list_obj,agent_ts.type_of_customer)\n",
    "                for pos in range(len(idx)):\n",
    "                    customers_list_obj[pos].update(features_dataset,pulled_arm,Ns)\n",
    "\n",
    "\n",
    "        instant_regret_ts7.append(max(0,opt - instant_reward_per_agent_ts)) # max since regret cannot be negative\n",
    "        instant_reward_ts7.append(instant_reward_per_agent_ts)\n",
    "\n",
    "    \n",
    "####ts######\n",
    "    cum_regret_ts7 = np.cumsum(instant_regret_ts7)\n",
    "    cum_reward_ts7 = np.cumsum(instant_reward_ts7)\n",
    "    ts_Regret7 = np.append(ts_Regret7,cum_regret_ts7)\n",
    "    ts_Reward7 = np.append(ts_Reward7,cum_reward_ts7)    \n",
    "    \n",
    "    \n",
    "#####ts######\n",
    "    \n",
    "ts_Regret7 = np.array(ts_Regret7)\n",
    "ts_Reward7 = np.array(ts_Reward7)"
   ]
  },
  {
   "cell_type": "code",
   "execution_count": null,
   "id": "614ac60d",
   "metadata": {
    "cell_id": "19e60c8a658546bf98f5989473fbfb81",
    "deepnote_cell_height": 192,
    "deepnote_cell_type": "code",
    "tags": []
   },
   "outputs": [],
   "source": [
    "mean_regret_ts7 = np.mean(ts_Regret7,axis =0)\n",
    "std_dev_regret_ts7 = np.std(ts_Regret7, axis=0)/np.sqrt(n_exp)\n",
    "plt.figure(figsize = (10,7))\n",
    "plt.plot(mean_regret_ts7)\n",
    "plt.fill_between(range(T),mean_regret_ts7-std_dev_regret_ts7,mean_regret_ts7+std_dev_regret_ts7,alpha =0.4)\n",
    "plt.title(\"Context generation TS - Cumulative Regret\", fontsize = 20)\n",
    "plt.ylabel(\"Regret\", fontsize = 16)\n",
    "plt.xlabel(\"Day\", fontsize = 16)\n",
    "plt.xticks(fontsize = 16)\n",
    "plt.yticks(fontsize = 16)\n",
    "plt.show()"
   ]
  },
  {
   "cell_type": "code",
   "execution_count": null,
   "id": "2b9703aa",
   "metadata": {
    "cell_id": "c577b1a306da4e7a8f129df5939d2ea5",
    "deepnote_cell_height": 192,
    "deepnote_cell_type": "code",
    "tags": []
   },
   "outputs": [],
   "source": [
    "mean_reward_ts7 = np.mean(ts_Reward7,axis =0)\n",
    "std_dev_reward_ts7 = np.std(ts_Reward7, axis=0)/np.sqrt(n_exp)\n",
    "plt.figure(figsize = (10,7))\n",
    "plt.plot(mean_reward_ts7)\n",
    "plt.fill_between(range(T),mean_reward_ts7-std_dev_reward_ts7,mean_reward_ts7+std_dev_reward_ts7,alpha =0.4)\n",
    "plt.title(\"Context generation TS - Cumulative Reward\", fontsize = 20)\n",
    "plt.ylabel(\"Reward\", fontsize = 16)\n",
    "plt.xlabel(\"Day\", fontsize = 16)\n",
    "plt.xticks(fontsize = 16)\n",
    "plt.yticks(fontsize = 16)\n",
    "plt.show()"
   ]
  },
  {
   "cell_type": "markdown",
   "id": "00461dd4",
   "metadata": {
    "cell_id": "5edc62a3abab4e3694398eca81ebee69",
    "deepnote_cell_type": "text-cell-h1",
    "formattedRanges": [],
    "is_collapsed": false,
    "tags": []
   },
   "source": [
    "# Final remarks"
   ]
  },
  {
   "cell_type": "code",
   "execution_count": 234,
   "id": "a6032b6e",
   "metadata": {
    "cell_id": "00103-b53ed948-9717-4bb9-a1e4-1b43b365241c",
    "deepnote_cell_height": 387,
    "deepnote_cell_type": "code",
    "deepnote_to_be_reexecuted": true,
    "source_hash": "867831e1"
   },
   "outputs": [
    {
     "data": {
      "image/png": "[encoded data removed]",
      "text/plain": [
       "<Figure size 1008x720 with 1 Axes>"
      ]
     },
     "metadata": {},
     "output_type": "display_data"
    }
   ],
   "source": [
    "# Examining the different algorihtms\n",
    "plt.figure(figsize = (14,10))\n",
    "plt.plot(mean_Reward_ucb3, color='lightblue')\n",
    "plt.fill_between(range(T),mean_Reward_ucb3-std_dev_ucb3,mean_Reward_ucb3+std_dev_ucb3,alpha =0.4,color='lightblue')\n",
    "\n",
    "plt.plot(mean_Reward_ts3, color='darkblue')\n",
    "plt.fill_between(range(T),mean_Reward_ts3-std_dev_ts3,mean_Reward_ts3+std_dev_ts3,alpha =0.4, color='darkblue')\n",
    "\n",
    "plt.plot(mean_Reward_ts4, color = 'grey')\n",
    "plt.fill_between(range(T),mean_Reward_ts4-std_dev_ts4,mean_Reward_ts4+std_dev_ts4,alpha =0.4,  color = 'grey')\n",
    "\n",
    "plt.plot(mean_Reward_ts5, color = 'darkgrey')\n",
    "plt.fill_between(range(T),mean_Reward_ts5-std_dev_ts5,mean_Reward_ts5+std_dev_ts5,alpha =0.4, color = 'darkgrey')\n",
    "\n",
    "plt.legend([\"UCB\",\"TS part 3\",\"TS part 4\", \"TS part 5\"], fontsize = 16)\n",
    "plt.title(\"Performance of Learners with different levels of uncertainty\", fontsize = 20)\n",
    "plt.ylabel(\"Reward\", fontsize = 16)\n",
    "plt.xlabel(\"Day\", fontsize = 16)\n",
    "plt.xticks(fontsize = 16)\n",
    "plt.yticks(fontsize = 16)\n",
    "plt.show()"
   ]
  },
  {
   "cell_type": "markdown",
   "id": "7c6f739a",
   "metadata": {
    "cell_id": "f48775635b0146c09de47999312ac41c",
    "deepnote_cell_type": "text-cell-p",
    "formattedRanges": [],
    "is_collapsed": false,
    "tags": []
   },
   "source": [
    "In this project several different versions of UCB1 and Thompson Sampling algorithms have been implemented to optimise the profit for a ecommerce website with 5 different products. The learners are tested in increasingly complex settings: First only the conversion rates are unknown, then also the number of daily customers, how many land on the product pages, number of items they buy and also the probability with which the customers click on the products. Lastly, the algorithms are extended to handle non-stationarity and apply price-discrimination. "
   ]
  },
  {
   "cell_type": "markdown",
   "id": "ddf391a1",
   "metadata": {
    "cell_id": "f6d54c84-5608-47fc-b7cd-f2b0f46ef0d5",
    "deepnote_cell_type": "text-cell-p",
    "formattedRanges": [],
    "is_collapsed": false,
    "tags": []
   },
   "source": [
    "Since the environment is simulated with many different random variables that cause large fluctuations in the daily rewards and the data we observe each day, it is difficult for the learners to obtain stable estimates of these parameters. There is a high degree of stochasticity which complicates the learning process, which is clear from our results. We do not always observe that the cumulative regret stabilises and sometimes it seems to just continue linearly increasing, which indicates that the algorithms are not learning as they should. However, this can be due to many things such as randomnes in the output from the environment or unlucky choices of e.g. conversion rates (we have, however, experimented with different conversion rates, margins graphs etc., but have not found a setting which worked perfectly with the learners). "
   ]
  }
 ],
 "metadata": {
  "deepnote": {},
  "deepnote_execution_queue": [],
  "deepnote_notebook_id": "f694986f-038d-4929-8af9-89f492f7d211",
  "kernelspec": {
   "display_name": "Python 3",
   "language": "python",
   "name": "python3"
  },
  "language_info": {
   "codemirror_mode": {
    "name": "ipython",
    "version": 3
   },
   "file_extension": ".py",
   "mimetype": "text/x-python",
   "name": "python",
   "nbconvert_exporter": "python",
   "pygments_lexer": "ipython3",
   "version": "3.8.8"
  }
 },
 "nbformat": 4,
 "nbformat_minor": 5
}
